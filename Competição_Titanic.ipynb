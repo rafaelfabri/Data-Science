{
  "nbformat": 4,
  "nbformat_minor": 0,
  "metadata": {
    "colab": {
      "name": "projeto.ipynb",
      "provenance": [],
      "collapsed_sections": [],
      "include_colab_link": true
    },
    "kernelspec": {
      "name": "python3",
      "display_name": "Python 3"
    }
  },
  "cells": [
    {
      "cell_type": "markdown",
      "metadata": {
        "id": "view-in-github",
        "colab_type": "text"
      },
      "source": [
        "<a href=\"https://colab.research.google.com/github/rafaelfabri/Data-Science/blob/master/Competi%C3%A7%C3%A3o_Titanic.ipynb\" target=\"_parent\"><img src=\"https://colab.research.google.com/assets/colab-badge.svg\" alt=\"Open In Colab\"/></a>"
      ]
    },
    {
      "cell_type": "markdown",
      "metadata": {
        "id": "TRBVQTDug-vI",
        "colab_type": "text"
      },
      "source": [
        "# **Competição Titanic**"
      ]
    },
    {
      "cell_type": "markdown",
      "metadata": {
        "id": "txPtLaxnhJa6",
        "colab_type": "text"
      },
      "source": [
        "## **1. Introdução**"
      ]
    },
    {
      "cell_type": "markdown",
      "metadata": {
        "id": "rMD4_Rs6c_d0",
        "colab_type": "text"
      },
      "source": [
        "![alt text](https://wallup.net/wp-content/uploads/2016/07/20/28197-Titanic.jpg)"
      ]
    },
    {
      "cell_type": "markdown",
      "metadata": {
        "id": "0EmtSSYXD1KO",
        "colab_type": "text"
      },
      "source": [
        "Quando o RMS Titanic foi construído em 1909 e lançado em 1911, atribuiu-se ao navio a lenda de inafundável, no entanto a colisão com um iceberg na noite de 14 de abril de 1912 causou, na madrugada seguinte o naufrágio da embarcação e infelizmente a morte de diversos tripulantes.\n",
        "\n",
        "A partir do desastre notou-se erros de projeto, falhas de segurança, falhas de normas marítimas e diversos problemas que levaram a mudanças de leis internacionais de navegação. Essa tragédia se tornou um marco histórico que até hoje é lembrada e estudada por muitos cientistas.\n",
        "\n",
        "A plataforma Kaggle teve a idéia de lançar um desafio a respeito desse naufrágio. A finalidade desta competição é introduzir cientistas de dados a plataforma, a partir deste problema os competidores são desafiados a criar um modelo de machine learning para prever quais pessoas sobrevieram ou morreriam ao naufrágio levando em conta algumas características individuais.\n"
      ]
    },
    {
      "cell_type": "markdown",
      "metadata": {
        "id": "MiwNSRcTS-Mu",
        "colab_type": "text"
      },
      "source": [
        "## **Objetivo**"
      ]
    },
    {
      "cell_type": "markdown",
      "metadata": {
        "id": "SY9J1vJfbfgD",
        "colab_type": "text"
      },
      "source": [
        "O objetivo deste projeto é estudar o conjunto de dados da competição Titanic, disponibilizado pela plataforma de competições Kaggle.\n",
        "\n",
        "Nesse projeto realizaremos uma análise exploratória dos dados para entendermos melhor o problema. Assim será possível verificarmos os fatores mais importantes para a sobrevivência dos tripulantes no navio RMS Titanic.\n",
        "\n",
        "Posteriormente, iremos aplicar um modelo de _machine learning_ que possa prever quais pessoas sobreviveriam ao naufrágio, ao final será realizada a submissão das respostas para verificarmos a quantidade de acertos da nossa previsão.\n",
        "\n"
      ]
    },
    {
      "cell_type": "markdown",
      "metadata": {
        "id": "f5ly8qQAjxoi",
        "colab_type": "text"
      },
      "source": [
        "## **Sumário**\n",
        "\n",
        "  1. Introdução \n",
        "  2. Importando bibliotecas\n",
        "  3. Descrisão do conjunto de dados disponibilizado pela Kaggle\n",
        "  4. Análise exploratória\n",
        "    \n",
        "    4.1 Primeiras 5 linhas do dataset/quantidades de linhas e colunas\n",
        "    \n",
        "    4.2 Analisando variáveis e ausência de dados\n",
        "\n",
        "    4.3 Explorando dados\n",
        "\n",
        "    * 4.3.1 Quantidade de homens e mulheres\n",
        "\n",
        "    * 4.3.2 Quantidade de homens e mulheres que faleceram e sobreviveram\n",
        "\n",
        "    * 4.3.3 O nível sócioeconomico das pessoas influenciavam em sua sobrevivência\n",
        "\n",
        "    * 4.3.4 O ponto de embarque influência na sobrevivência das pessoas\n",
        "\n",
        "    4.4 Explorando os dados: foco estatístico\n",
        "\n",
        "    * 4.4.1 Faixa etária dos tripilantes\n",
        "\n",
        "    * 4.4.2 Outliers\n",
        "\n",
        "  5. Machine Learning\n",
        "\n",
        "    5.1 Pré processamento\n",
        "\n",
        "    * 5.1.1 Corregindo dados ausentes\n",
        "\n",
        "    * 5.1.2 Padronizando dados\n",
        "\n",
        "    * 5.1.3 Transformação de variáveis categóricas em valores inteiros\n",
        "\n",
        "    5.2 Aplicando modelo de regressão logística\n",
        "\n",
        "  6. Conclusão"
      ]
    },
    {
      "cell_type": "markdown",
      "metadata": {
        "id": "XLkHaX4IhQsD",
        "colab_type": "text"
      },
      "source": [
        "## **2. Importando bibliotecas**"
      ]
    },
    {
      "cell_type": "markdown",
      "metadata": {
        "id": "X8-msttf27eX",
        "colab_type": "text"
      },
      "source": [
        "![alt text](https://miro.medium.com/max/2880/1*RIrPOCyMFwFC-XULbja3rw.png)"
      ]
    },
    {
      "cell_type": "markdown",
      "metadata": {
        "id": "xNhFWQF6vFcl",
        "colab_type": "text"
      },
      "source": [
        "A primeira tarefa a ser realizada é importar as bibliotecas necessárias."
      ]
    },
    {
      "cell_type": "markdown",
      "metadata": {
        "id": "EjHVmzTWvnp_",
        "colab_type": "text"
      },
      "source": [
        "Abaixo foi importado todas as bibliotecas, com exceção das de _machine learning_."
      ]
    },
    {
      "cell_type": "code",
      "metadata": {
        "id": "NQEytRpzhWxx",
        "colab_type": "code",
        "colab": {
          "base_uri": "https://localhost:8080/",
          "height": 88
        },
        "outputId": "6d2c9f5e-9b0b-4963-e285-79040fd234c9"
      },
      "source": [
        "#istalando um biblioteca\n",
        "!pip install pywaffle -q\n",
        "\n",
        "#importando bibliotecas\n",
        "from pywaffle import Waffle \n",
        "import pandas as pd\n",
        "pd.options.mode.chained_assignment = None  # default='warn'\n",
        "import numpy as np\n",
        "import matplotlib.pyplot as plt\n",
        "import seaborn as sns"
      ],
      "execution_count": null,
      "outputs": [
        {
          "output_type": "stream",
          "text": [
            "\u001b[?25l\r\u001b[K     |▋                               | 10kB 25.6MB/s eta 0:00:01\r\u001b[K     |█▎                              | 20kB 5.4MB/s eta 0:00:01\r\u001b[K     |█▉                              | 30kB 6.8MB/s eta 0:00:01\r\u001b[K     |██▌                             | 40kB 6.8MB/s eta 0:00:01\r\u001b[K     |███                             | 51kB 6.1MB/s eta 0:00:01\r\u001b[K     |███▊                            | 61kB 6.6MB/s eta 0:00:01\r\u001b[K     |████▍                           | 71kB 6.8MB/s eta 0:00:01\r\u001b[K     |█████                           | 81kB 7.6MB/s eta 0:00:01\r\u001b[K     |█████▋                          | 92kB 7.7MB/s eta 0:00:01\r\u001b[K     |██████▏                         | 102kB 8.2MB/s eta 0:00:01\r\u001b[K     |██████▉                         | 112kB 8.2MB/s eta 0:00:01\r\u001b[K     |███████▌                        | 122kB 8.2MB/s eta 0:00:01\r\u001b[K     |████████                        | 133kB 8.2MB/s eta 0:00:01\r\u001b[K     |████████▊                       | 143kB 8.2MB/s eta 0:00:01\r\u001b[K     |█████████▎                      | 153kB 8.2MB/s eta 0:00:01\r\u001b[K     |██████████                      | 163kB 8.2MB/s eta 0:00:01\r\u001b[K     |██████████▋                     | 174kB 8.2MB/s eta 0:00:01\r\u001b[K     |███████████▏                    | 184kB 8.2MB/s eta 0:00:01\r\u001b[K     |███████████▉                    | 194kB 8.2MB/s eta 0:00:01\r\u001b[K     |████████████▍                   | 204kB 8.2MB/s eta 0:00:01\r\u001b[K     |█████████████                   | 215kB 8.2MB/s eta 0:00:01\r\u001b[K     |█████████████▊                  | 225kB 8.2MB/s eta 0:00:01\r\u001b[K     |██████████████▎                 | 235kB 8.2MB/s eta 0:00:01\r\u001b[K     |███████████████                 | 245kB 8.2MB/s eta 0:00:01\r\u001b[K     |███████████████▌                | 256kB 8.2MB/s eta 0:00:01\r\u001b[K     |████████████████▏               | 266kB 8.2MB/s eta 0:00:01\r\u001b[K     |████████████████▉               | 276kB 8.2MB/s eta 0:00:01\r\u001b[K     |█████████████████▍              | 286kB 8.2MB/s eta 0:00:01\r\u001b[K     |██████████████████              | 296kB 8.2MB/s eta 0:00:01\r\u001b[K     |██████████████████▋             | 307kB 8.2MB/s eta 0:00:01\r\u001b[K     |███████████████████▎            | 317kB 8.2MB/s eta 0:00:01\r\u001b[K     |████████████████████            | 327kB 8.2MB/s eta 0:00:01\r\u001b[K     |████████████████████▌           | 337kB 8.2MB/s eta 0:00:01\r\u001b[K     |█████████████████████▏          | 348kB 8.2MB/s eta 0:00:01\r\u001b[K     |█████████████████████▊          | 358kB 8.2MB/s eta 0:00:01\r\u001b[K     |██████████████████████▍         | 368kB 8.2MB/s eta 0:00:01\r\u001b[K     |███████████████████████         | 378kB 8.2MB/s eta 0:00:01\r\u001b[K     |███████████████████████▋        | 389kB 8.2MB/s eta 0:00:01\r\u001b[K     |████████████████████████▎       | 399kB 8.2MB/s eta 0:00:01\r\u001b[K     |████████████████████████▉       | 409kB 8.2MB/s eta 0:00:01\r\u001b[K     |█████████████████████████▌      | 419kB 8.2MB/s eta 0:00:01\r\u001b[K     |██████████████████████████▏     | 430kB 8.2MB/s eta 0:00:01\r\u001b[K     |██████████████████████████▊     | 440kB 8.2MB/s eta 0:00:01\r\u001b[K     |███████████████████████████▍    | 450kB 8.2MB/s eta 0:00:01\r\u001b[K     |████████████████████████████    | 460kB 8.2MB/s eta 0:00:01\r\u001b[K     |████████████████████████████▋   | 471kB 8.2MB/s eta 0:00:01\r\u001b[K     |█████████████████████████████▎  | 481kB 8.2MB/s eta 0:00:01\r\u001b[K     |█████████████████████████████▉  | 491kB 8.2MB/s eta 0:00:01\r\u001b[K     |██████████████████████████████▌ | 501kB 8.2MB/s eta 0:00:01\r\u001b[K     |███████████████████████████████ | 512kB 8.2MB/s eta 0:00:01\r\u001b[K     |███████████████████████████████▊| 522kB 8.2MB/s eta 0:00:01\r\u001b[K     |████████████████████████████████| 532kB 8.2MB/s \n",
            "\u001b[?25h"
          ],
          "name": "stdout"
        },
        {
          "output_type": "stream",
          "text": [
            "/usr/local/lib/python3.6/dist-packages/statsmodels/tools/_testing.py:19: FutureWarning: pandas.util.testing is deprecated. Use the functions in the public API at pandas.testing instead.\n",
            "  import pandas.util.testing as tm\n"
          ],
          "name": "stderr"
        }
      ]
    },
    {
      "cell_type": "markdown",
      "metadata": {
        "id": "9Hi7YvhteH_1",
        "colab_type": "text"
      },
      "source": [
        "## **3. Descrição do conjunto de dados disponibilizado pela Kaggle**"
      ]
    },
    {
      "cell_type": "markdown",
      "metadata": {
        "id": "uFiNJ_Lj8OB2",
        "colab_type": "text"
      },
      "source": [
        "![texto alternativo](https://image.freepik.com/free-vector/matrix-style-binary-code-digital-background-with-falling-numbers_1017-25336.jpg)"
      ]
    },
    {
      "cell_type": "markdown",
      "metadata": {
        "id": "s4sV7Gz1egjL",
        "colab_type": "text"
      },
      "source": [
        "O conjunto de dados disponibilizado apresenta dois _datasets_(conjunto de dados).\n",
        "\n",
        "O primeiro conjunto de dados é chamado de **train**, que neste projeto será denominado pela variável DataFrame **df_train**. Neste primeiro DataFrame existem variáveis (colunas) dependentes e independentes:\n",
        "\n",
        "* y: dependentes (Survived)\n",
        "* x: independestes (Sex, Pclass, Fare, Age etc) 11 no total.\n",
        "\n",
        "Assim esse conjunto possui 12 colunas/variáveis, e 851 linhas/entradas, cada linha é a informação de entrada de um passageiro do navio.\n",
        "\n",
        "O segundo conjunto de dados é chamado de **test**, denominado como **df_test**, este que será utilizado no final do projeto para realizar as previsões e submissões. Vale ressaltar que estes dados apenas possuem as variáveis independentes, portanto é necessário prever as variáveis dependentes(pessoa sobreviveu ou não). Esse DataFrame apresenta 418 linhas e 11 colunas."
      ]
    },
    {
      "cell_type": "markdown",
      "metadata": {
        "id": "Txwld1Y32Ydo",
        "colab_type": "text"
      },
      "source": [
        "Abaixo foi importado os dados."
      ]
    },
    {
      "cell_type": "code",
      "metadata": {
        "id": "_aEAFUJLhjj1",
        "colab_type": "code",
        "colab": {}
      },
      "source": [
        "#importando dados\n",
        "df_train = pd.read_csv(\"https://www.dropbox.com/s/fm2dx26bjkiovxp/train.csv?dl=1\")\n",
        "df_test = pd.read_csv('https://www.dropbox.com/s/m4hm5bdegyhjmec/test.csv?dl=1')"
      ],
      "execution_count": null,
      "outputs": []
    },
    {
      "cell_type": "markdown",
      "metadata": {
        "id": "R6Irg03yiRJh",
        "colab_type": "text"
      },
      "source": [
        "## **4. Análise exploratória**"
      ]
    },
    {
      "cell_type": "markdown",
      "metadata": {
        "id": "XBC_SPGf3ifn",
        "colab_type": "text"
      },
      "source": [
        "![alt text](https://image.freepik.com/free-photo/data-management-system-dms-with-business-analytics-concept_103164-71.jpg)"
      ]
    },
    {
      "cell_type": "markdown",
      "metadata": {
        "id": "6_lOoVCB3vvu",
        "colab_type": "text"
      },
      "source": [
        "A partir deste capítulo iniciaremos a análise exploratória do conjunto de dados da competição Titanic, este estudo consiste em verificar os dados presentes na variável *df_train* e em alguns pontos específicos *df_test*.\n",
        "\n",
        "A finalidade deste tópico é trazer um melhor entendimento sobre dados, assim podendo ser obtida hipóteses das variáveis mais importantes dentro do conjunto.\n",
        "\n",
        "Na realidade essas variáveis presente do DataFrame *df_train* são as características de cada passeiro presente no navio, lembrando-se que cada linha do conjunto é referente a um determinado passageiro. Portanto, a partir da análise exploratória será possível saber quais características determinaram a sobrevivência de cada tripulante do titanic, por exemplo:\n",
        "\n",
        "\n",
        "* sexo;\n",
        "* idade;\n",
        "* classe social;\n",
        "* ponto de embarque;\n",
        "* etc."
      ]
    },
    {
      "cell_type": "markdown",
      "metadata": {
        "id": "PDM7Rh-DiZ5f",
        "colab_type": "text"
      },
      "source": [
        "### **4.1 Primeiras 5 linhas do dataset/quantidades de linhas e colunas**"
      ]
    },
    {
      "cell_type": "markdown",
      "metadata": {
        "id": "FnJlfC3C7Z0I",
        "colab_type": "text"
      },
      "source": [
        "Primeiramente, devemos confirmar a quantidade de linhas e colunas presentes tanto nos dados train e test."
      ]
    },
    {
      "cell_type": "code",
      "metadata": {
        "id": "pwB4Z9fwhxrn",
        "colab_type": "code",
        "colab": {
          "base_uri": "https://localhost:8080/",
          "height": 68
        },
        "outputId": "5b754c04-7a3d-4a0f-a02b-16c3b4fb42c8"
      },
      "source": [
        "#verificando quantidade de linhas e colunas para df\n",
        "print('CONJUNTO DE DADOS TRAIN')\n",
        "print('quantidade de linhas/entradas:', df_train.shape[0])\n",
        "print('quantidade de colunas/variáveis:', df_train.shape[1])"
      ],
      "execution_count": null,
      "outputs": [
        {
          "output_type": "stream",
          "text": [
            "CONJUNTO DE DADOS TRAIN\n",
            "quantidade de linhas/entradas: 891\n",
            "quantidade de colunas/variáveis: 12\n"
          ],
          "name": "stdout"
        }
      ]
    },
    {
      "cell_type": "code",
      "metadata": {
        "id": "leqXnqF0iZQI",
        "colab_type": "code",
        "colab": {
          "base_uri": "https://localhost:8080/",
          "height": 68
        },
        "outputId": "3da08751-328a-4b66-fbcc-c5ada4ac9ddc"
      },
      "source": [
        "#verificando quantidade de linhas e colunas para test\n",
        "print('CONJUNTO DE DADOS TEST')\n",
        "print('quantidade de linhas/entradas:', df_test.shape[0])\n",
        "print('quantidade de colunas/variáveis:', df_test.shape[1])"
      ],
      "execution_count": null,
      "outputs": [
        {
          "output_type": "stream",
          "text": [
            "CONJUNTO DE DADOS TEST\n",
            "quantidade de linhas/entradas: 418\n",
            "quantidade de colunas/variáveis: 11\n"
          ],
          "name": "stdout"
        }
      ]
    },
    {
      "cell_type": "markdown",
      "metadata": {
        "id": "yeH5MO8l7uto",
        "colab_type": "text"
      },
      "source": [
        "Abaixo foi plotado as 5 primeiras linhas das variáveis *df_train* e *df_test*. "
      ]
    },
    {
      "cell_type": "code",
      "metadata": {
        "id": "wNTpqUYqiwjK",
        "colab_type": "code",
        "colab": {
          "base_uri": "https://localhost:8080/",
          "height": 204
        },
        "outputId": "4d92358e-da1e-40ae-e3dd-cc112537f0e3"
      },
      "source": [
        "#verificando 5 primeiras linhas do conjunto de dados\n",
        "df_train.head()"
      ],
      "execution_count": null,
      "outputs": [
        {
          "output_type": "execute_result",
          "data": {
            "text/html": [
              "<div>\n",
              "<style scoped>\n",
              "    .dataframe tbody tr th:only-of-type {\n",
              "        vertical-align: middle;\n",
              "    }\n",
              "\n",
              "    .dataframe tbody tr th {\n",
              "        vertical-align: top;\n",
              "    }\n",
              "\n",
              "    .dataframe thead th {\n",
              "        text-align: right;\n",
              "    }\n",
              "</style>\n",
              "<table border=\"1\" class=\"dataframe\">\n",
              "  <thead>\n",
              "    <tr style=\"text-align: right;\">\n",
              "      <th></th>\n",
              "      <th>PassengerId</th>\n",
              "      <th>Survived</th>\n",
              "      <th>Pclass</th>\n",
              "      <th>Name</th>\n",
              "      <th>Sex</th>\n",
              "      <th>Age</th>\n",
              "      <th>SibSp</th>\n",
              "      <th>Parch</th>\n",
              "      <th>Ticket</th>\n",
              "      <th>Fare</th>\n",
              "      <th>Cabin</th>\n",
              "      <th>Embarked</th>\n",
              "    </tr>\n",
              "  </thead>\n",
              "  <tbody>\n",
              "    <tr>\n",
              "      <th>0</th>\n",
              "      <td>1</td>\n",
              "      <td>0</td>\n",
              "      <td>3</td>\n",
              "      <td>Braund, Mr. Owen Harris</td>\n",
              "      <td>male</td>\n",
              "      <td>22.0</td>\n",
              "      <td>1</td>\n",
              "      <td>0</td>\n",
              "      <td>A/5 21171</td>\n",
              "      <td>7.2500</td>\n",
              "      <td>NaN</td>\n",
              "      <td>S</td>\n",
              "    </tr>\n",
              "    <tr>\n",
              "      <th>1</th>\n",
              "      <td>2</td>\n",
              "      <td>1</td>\n",
              "      <td>1</td>\n",
              "      <td>Cumings, Mrs. John Bradley (Florence Briggs Th...</td>\n",
              "      <td>female</td>\n",
              "      <td>38.0</td>\n",
              "      <td>1</td>\n",
              "      <td>0</td>\n",
              "      <td>PC 17599</td>\n",
              "      <td>71.2833</td>\n",
              "      <td>C85</td>\n",
              "      <td>C</td>\n",
              "    </tr>\n",
              "    <tr>\n",
              "      <th>2</th>\n",
              "      <td>3</td>\n",
              "      <td>1</td>\n",
              "      <td>3</td>\n",
              "      <td>Heikkinen, Miss. Laina</td>\n",
              "      <td>female</td>\n",
              "      <td>26.0</td>\n",
              "      <td>0</td>\n",
              "      <td>0</td>\n",
              "      <td>STON/O2. 3101282</td>\n",
              "      <td>7.9250</td>\n",
              "      <td>NaN</td>\n",
              "      <td>S</td>\n",
              "    </tr>\n",
              "    <tr>\n",
              "      <th>3</th>\n",
              "      <td>4</td>\n",
              "      <td>1</td>\n",
              "      <td>1</td>\n",
              "      <td>Futrelle, Mrs. Jacques Heath (Lily May Peel)</td>\n",
              "      <td>female</td>\n",
              "      <td>35.0</td>\n",
              "      <td>1</td>\n",
              "      <td>0</td>\n",
              "      <td>113803</td>\n",
              "      <td>53.1000</td>\n",
              "      <td>C123</td>\n",
              "      <td>S</td>\n",
              "    </tr>\n",
              "    <tr>\n",
              "      <th>4</th>\n",
              "      <td>5</td>\n",
              "      <td>0</td>\n",
              "      <td>3</td>\n",
              "      <td>Allen, Mr. William Henry</td>\n",
              "      <td>male</td>\n",
              "      <td>35.0</td>\n",
              "      <td>0</td>\n",
              "      <td>0</td>\n",
              "      <td>373450</td>\n",
              "      <td>8.0500</td>\n",
              "      <td>NaN</td>\n",
              "      <td>S</td>\n",
              "    </tr>\n",
              "  </tbody>\n",
              "</table>\n",
              "</div>"
            ],
            "text/plain": [
              "   PassengerId  Survived  Pclass  ...     Fare Cabin  Embarked\n",
              "0            1         0       3  ...   7.2500   NaN         S\n",
              "1            2         1       1  ...  71.2833   C85         C\n",
              "2            3         1       3  ...   7.9250   NaN         S\n",
              "3            4         1       1  ...  53.1000  C123         S\n",
              "4            5         0       3  ...   8.0500   NaN         S\n",
              "\n",
              "[5 rows x 12 columns]"
            ]
          },
          "metadata": {
            "tags": []
          },
          "execution_count": 5
        }
      ]
    },
    {
      "cell_type": "markdown",
      "metadata": {
        "id": "d8f8xKaZAsHH",
        "colab_type": "text"
      },
      "source": [
        "O conjunto df_test é bem semelhante ao df_train, porém não apresenta a coluna **Survived**. "
      ]
    },
    {
      "cell_type": "code",
      "metadata": {
        "id": "WIXgKEdijdHN",
        "colab_type": "code",
        "colab": {
          "base_uri": "https://localhost:8080/",
          "height": 204
        },
        "outputId": "942db266-d9b1-452a-dae8-b67e9b385c72"
      },
      "source": [
        "#verificando 5 primeiras linhas do conjunto de dados\n",
        "df_test.head()"
      ],
      "execution_count": null,
      "outputs": [
        {
          "output_type": "execute_result",
          "data": {
            "text/html": [
              "<div>\n",
              "<style scoped>\n",
              "    .dataframe tbody tr th:only-of-type {\n",
              "        vertical-align: middle;\n",
              "    }\n",
              "\n",
              "    .dataframe tbody tr th {\n",
              "        vertical-align: top;\n",
              "    }\n",
              "\n",
              "    .dataframe thead th {\n",
              "        text-align: right;\n",
              "    }\n",
              "</style>\n",
              "<table border=\"1\" class=\"dataframe\">\n",
              "  <thead>\n",
              "    <tr style=\"text-align: right;\">\n",
              "      <th></th>\n",
              "      <th>PassengerId</th>\n",
              "      <th>Pclass</th>\n",
              "      <th>Name</th>\n",
              "      <th>Sex</th>\n",
              "      <th>Age</th>\n",
              "      <th>SibSp</th>\n",
              "      <th>Parch</th>\n",
              "      <th>Ticket</th>\n",
              "      <th>Fare</th>\n",
              "      <th>Cabin</th>\n",
              "      <th>Embarked</th>\n",
              "    </tr>\n",
              "  </thead>\n",
              "  <tbody>\n",
              "    <tr>\n",
              "      <th>0</th>\n",
              "      <td>892</td>\n",
              "      <td>3</td>\n",
              "      <td>Kelly, Mr. James</td>\n",
              "      <td>male</td>\n",
              "      <td>34.5</td>\n",
              "      <td>0</td>\n",
              "      <td>0</td>\n",
              "      <td>330911</td>\n",
              "      <td>7.8292</td>\n",
              "      <td>NaN</td>\n",
              "      <td>Q</td>\n",
              "    </tr>\n",
              "    <tr>\n",
              "      <th>1</th>\n",
              "      <td>893</td>\n",
              "      <td>3</td>\n",
              "      <td>Wilkes, Mrs. James (Ellen Needs)</td>\n",
              "      <td>female</td>\n",
              "      <td>47.0</td>\n",
              "      <td>1</td>\n",
              "      <td>0</td>\n",
              "      <td>363272</td>\n",
              "      <td>7.0000</td>\n",
              "      <td>NaN</td>\n",
              "      <td>S</td>\n",
              "    </tr>\n",
              "    <tr>\n",
              "      <th>2</th>\n",
              "      <td>894</td>\n",
              "      <td>2</td>\n",
              "      <td>Myles, Mr. Thomas Francis</td>\n",
              "      <td>male</td>\n",
              "      <td>62.0</td>\n",
              "      <td>0</td>\n",
              "      <td>0</td>\n",
              "      <td>240276</td>\n",
              "      <td>9.6875</td>\n",
              "      <td>NaN</td>\n",
              "      <td>Q</td>\n",
              "    </tr>\n",
              "    <tr>\n",
              "      <th>3</th>\n",
              "      <td>895</td>\n",
              "      <td>3</td>\n",
              "      <td>Wirz, Mr. Albert</td>\n",
              "      <td>male</td>\n",
              "      <td>27.0</td>\n",
              "      <td>0</td>\n",
              "      <td>0</td>\n",
              "      <td>315154</td>\n",
              "      <td>8.6625</td>\n",
              "      <td>NaN</td>\n",
              "      <td>S</td>\n",
              "    </tr>\n",
              "    <tr>\n",
              "      <th>4</th>\n",
              "      <td>896</td>\n",
              "      <td>3</td>\n",
              "      <td>Hirvonen, Mrs. Alexander (Helga E Lindqvist)</td>\n",
              "      <td>female</td>\n",
              "      <td>22.0</td>\n",
              "      <td>1</td>\n",
              "      <td>1</td>\n",
              "      <td>3101298</td>\n",
              "      <td>12.2875</td>\n",
              "      <td>NaN</td>\n",
              "      <td>S</td>\n",
              "    </tr>\n",
              "  </tbody>\n",
              "</table>\n",
              "</div>"
            ],
            "text/plain": [
              "   PassengerId  Pclass  ... Cabin Embarked\n",
              "0          892       3  ...   NaN        Q\n",
              "1          893       3  ...   NaN        S\n",
              "2          894       2  ...   NaN        Q\n",
              "3          895       3  ...   NaN        S\n",
              "4          896       3  ...   NaN        S\n",
              "\n",
              "[5 rows x 11 columns]"
            ]
          },
          "metadata": {
            "tags": []
          },
          "execution_count": 6
        }
      ]
    },
    {
      "cell_type": "markdown",
      "metadata": {
        "id": "h5JFDHX8oU4c",
        "colab_type": "text"
      },
      "source": [
        "### **4.2 Analisando variáveis e ausência de dados**"
      ]
    },
    {
      "cell_type": "markdown",
      "metadata": {
        "id": "x5vuyvk48lxh",
        "colab_type": "text"
      },
      "source": [
        "É possível passar a coluna **PassengerId** para o índice nas variáveis df_train e df_test."
      ]
    },
    {
      "cell_type": "code",
      "metadata": {
        "id": "Coq_Vokvoy0Y",
        "colab_type": "code",
        "colab": {}
      },
      "source": [
        "#colocando a variável PassengerId no Index\n",
        "df_train.index = df_train['PassengerId'] \n",
        "df_test.index = df_test['PassengerId']"
      ],
      "execution_count": null,
      "outputs": []
    },
    {
      "cell_type": "code",
      "metadata": {
        "id": "BGRFAZlYqHn0",
        "colab_type": "code",
        "colab": {}
      },
      "source": [
        "#excluindo a variável \n",
        "df_train.drop(labels=['PassengerId'], axis=1, inplace=True)\n",
        "df_test.drop(labels=['PassengerId'], axis=1, inplace=True)"
      ],
      "execution_count": null,
      "outputs": []
    },
    {
      "cell_type": "markdown",
      "metadata": {
        "id": "hC18ZbxP9L6S",
        "colab_type": "text"
      },
      "source": [
        "Abaixo foi plotado os tipos de cada coluna/variável do DataFrame df_train, sabendo o tipo de cada variável pode-se ter uma melhor noção do conjunto de dados."
      ]
    },
    {
      "cell_type": "code",
      "metadata": {
        "id": "mcz58FDR1M55",
        "colab_type": "code",
        "colab": {
          "base_uri": "https://localhost:8080/",
          "height": 221
        },
        "outputId": "de756507-f4e7-4846-d0ea-10131d199a85"
      },
      "source": [
        "#plotando o tipo de cada variável\n",
        "df_train.dtypes"
      ],
      "execution_count": null,
      "outputs": [
        {
          "output_type": "execute_result",
          "data": {
            "text/plain": [
              "Survived      int64\n",
              "Pclass        int64\n",
              "Name         object\n",
              "Sex          object\n",
              "Age         float64\n",
              "SibSp         int64\n",
              "Parch         int64\n",
              "Ticket       object\n",
              "Fare        float64\n",
              "Cabin        object\n",
              "Embarked     object\n",
              "dtype: object"
            ]
          },
          "metadata": {
            "tags": []
          },
          "execution_count": 9
        }
      ]
    },
    {
      "cell_type": "markdown",
      "metadata": {
        "id": "yseYZYJhjOOo",
        "colab_type": "text"
      },
      "source": [
        "Abaixo está o significado de cada uma das variáveis."
      ]
    },
    {
      "cell_type": "markdown",
      "metadata": {
        "id": "j4L_Bi9SrzUw",
        "colab_type": "text"
      },
      "source": [
        "**Significado das variáveis**\n",
        "\n",
        "* Survived: se o passageiro sobreviveu a viagem (1-sim / 0-não)\n",
        "* Pclass: situação econômica (1st = Upper, 2nd = Middle, 3rd = Lower)\n",
        "* Name: nome do passageiro\n",
        "* Sex: sexo do passageiro (Male - masculino) (Female - feminino)\n",
        "* Age: idade do passageiro\n",
        "* SibSp: Irmãos / cônjuges a bordo \n",
        "    * Sibling = brother, sister, stepbrother, stepsister\n",
        "    * Spouse = husband, wife (mistresses and fiancés were ignored)\n",
        "* Parch: País / filhos a bordo\n",
        "    * Parent = mother, father\n",
        "    * Child = daughter, son, stepdaughter, stepson\n",
        "    * Some children travelled only with a nanny, therefore parch=0 for them.\n",
        "* Ticket: tipo de ticket\n",
        "* Fare: tarifa do passageiro\n",
        "* Cabin: Classe da cabine\n",
        "* Embarked: Porto de embarque (C = Cherbourg; Q = Queenstown; S = Southampton)"
      ]
    },
    {
      "cell_type": "markdown",
      "metadata": {
        "id": "iroRuYR7_q1T",
        "colab_type": "text"
      },
      "source": [
        "Algo muito importante, a ser analisado em qualquer conjunto de dados, é a verificação da quantidade de dados ausentes. A ausência de dados pode trazer diversos problemas a uma análise exploratória ou a criação de um modelo de *machine learning*.\n",
        "\n",
        "Exemplo destes problemas são a inutilização de uma variável devido a grande falta de informações, a exclusão de algumas linhas para eliminar dados ausentes, e problemas para o desenvolvimento de modelos de *machine learning*."
      ]
    },
    {
      "cell_type": "markdown",
      "metadata": {
        "id": "53qecRcrBq-V",
        "colab_type": "text"
      },
      "source": [
        "Portanto, abaixo foi realizado um comando para verificar a ausência de dados presentes nos dois conjuntos."
      ]
    },
    {
      "cell_type": "code",
      "metadata": {
        "id": "m9dCBSX7o-I7",
        "colab_type": "code",
        "colab": {
          "base_uri": "https://localhost:8080/",
          "height": 221
        },
        "outputId": "0453662c-c2c5-407d-a904-b2a550df81bf"
      },
      "source": [
        "( ( df_train.isnull().sum() )/df_train.shape[0] ).sort_values(ascending=False)"
      ],
      "execution_count": null,
      "outputs": [
        {
          "output_type": "execute_result",
          "data": {
            "text/plain": [
              "Cabin       0.771044\n",
              "Age         0.198653\n",
              "Embarked    0.002245\n",
              "Fare        0.000000\n",
              "Ticket      0.000000\n",
              "Parch       0.000000\n",
              "SibSp       0.000000\n",
              "Sex         0.000000\n",
              "Name        0.000000\n",
              "Pclass      0.000000\n",
              "Survived    0.000000\n",
              "dtype: float64"
            ]
          },
          "metadata": {
            "tags": []
          },
          "execution_count": 10
        }
      ]
    },
    {
      "cell_type": "code",
      "metadata": {
        "id": "mcCTs3zNq7OF",
        "colab_type": "code",
        "colab": {
          "base_uri": "https://localhost:8080/",
          "height": 204
        },
        "outputId": "cfb3d065-3140-453e-9f35-4914f984a670"
      },
      "source": [
        "( ( df_test.isnull().sum() )/df_test.shape[0]).sort_values(ascending=False)"
      ],
      "execution_count": null,
      "outputs": [
        {
          "output_type": "execute_result",
          "data": {
            "text/plain": [
              "Cabin       0.782297\n",
              "Age         0.205742\n",
              "Fare        0.002392\n",
              "Embarked    0.000000\n",
              "Ticket      0.000000\n",
              "Parch       0.000000\n",
              "SibSp       0.000000\n",
              "Sex         0.000000\n",
              "Name        0.000000\n",
              "Pclass      0.000000\n",
              "dtype: float64"
            ]
          },
          "metadata": {
            "tags": []
          },
          "execution_count": 11
        }
      ]
    },
    {
      "cell_type": "markdown",
      "metadata": {
        "id": "ywmGvb5zHWrb",
        "colab_type": "text"
      },
      "source": [
        "Seria interessante utilizar a variável Cabin para análise, o tipo cabine pode ter influênica para selecionar quem entrava nos botes salva vidas ou não, porém verificamos uma informação importante nos códigos anteriores.\n",
        "\n",
        "A variável Cabin apresenta em df_train um percentual de 77.1044% de dados ausentes, sendo um grande número percentual de dados faltantes, já df_test o percentual é de 78.2297%.\n",
        "\n",
        "Logo devido a grande ausência de dados, a variável Cabin será totalmente excluída dos dois conjuntos de dados.\n",
        "\n"
      ]
    },
    {
      "cell_type": "code",
      "metadata": {
        "id": "TEmXzHJRrsa7",
        "colab_type": "code",
        "colab": {}
      },
      "source": [
        "#removendo variável\n",
        "df_train.drop(labels=['Cabin'], axis=1, inplace=True)\n",
        "df_test.drop(labels=['Cabin'], axis=1, inplace=True)"
      ],
      "execution_count": null,
      "outputs": []
    },
    {
      "cell_type": "markdown",
      "metadata": {
        "id": "gcmPja7aDiAn",
        "colab_type": "text"
      },
      "source": [
        "No DataFrame df_train e df_test as variáveis **Age**, **Embarked** e **Fare** também apresentam dados ausentes, porém em um percentual menor:\n",
        "* Age = 19.8653%\n",
        "* Embarked = 20.5742%\n",
        "* Fare = 0.2392\n",
        "\n",
        "Percebe-se que a proporção de dados ausentes é bem menor, por enquanto deixaremos assim essas variáveis. No capítulo 5 vamos determinar o que fazer, mas já adianto que existem duas possibilidades:\n",
        "\n",
        "* excluir as linhas com dados ausentes;\n",
        "* ou substituir as linhas ausentes:\n",
        "  * a substituição no caso de **Age**  e **Fare** pode ser feita através da média de todas as idades, pois esta é uma variável contínua;\n",
        "  * a substituição no caso de **Embarked** pode ser feita verificando qual categoria aparece com mais frequência, como essa variável é discreta, a moda é métrica que deve ser usada."
      ]
    },
    {
      "cell_type": "markdown",
      "metadata": {
        "id": "5UlfGqxvq0aZ",
        "colab_type": "text"
      },
      "source": [
        "Para df_test será pensado a mesma forma."
      ]
    },
    {
      "cell_type": "code",
      "metadata": {
        "id": "aoLj-blRJmpB",
        "colab_type": "code",
        "colab": {
          "base_uri": "https://localhost:8080/",
          "height": 204
        },
        "outputId": "b2085bd6-d331-4d63-d204-f4d8a3e38d0d"
      },
      "source": [
        "print(( ( df_train.isnull().sum() )/df_train.shape[0] ).sort_values(ascending=False))"
      ],
      "execution_count": null,
      "outputs": [
        {
          "output_type": "stream",
          "text": [
            "Age         0.198653\n",
            "Embarked    0.002245\n",
            "Fare        0.000000\n",
            "Ticket      0.000000\n",
            "Parch       0.000000\n",
            "SibSp       0.000000\n",
            "Sex         0.000000\n",
            "Name        0.000000\n",
            "Pclass      0.000000\n",
            "Survived    0.000000\n",
            "dtype: float64\n"
          ],
          "name": "stdout"
        }
      ]
    },
    {
      "cell_type": "code",
      "metadata": {
        "id": "2KX5pmMRJtzg",
        "colab_type": "code",
        "colab": {
          "base_uri": "https://localhost:8080/",
          "height": 68
        },
        "outputId": "3f01269c-9adf-47a8-b3be-d39da313bc58"
      },
      "source": [
        "print('NOVO CONJUNTO DE DADOS TRAIN')\n",
        "print('quantidade de linhas/entradas:', df_train.shape[0])\n",
        "print('quantidade de colunas/variáveis:', df_train.shape[1])"
      ],
      "execution_count": null,
      "outputs": [
        {
          "output_type": "stream",
          "text": [
            "NOVO CONJUNTO DE DADOS TRAIN\n",
            "quantidade de linhas/entradas: 891\n",
            "quantidade de colunas/variáveis: 10\n"
          ],
          "name": "stdout"
        }
      ]
    },
    {
      "cell_type": "markdown",
      "metadata": {
        "id": "kDVf3dl6K4pk",
        "colab_type": "text"
      },
      "source": [
        "### **4.3 Explorando dados**"
      ]
    },
    {
      "cell_type": "code",
      "metadata": {
        "id": "TYa6RKTmLBGY",
        "colab_type": "code",
        "colab": {
          "base_uri": "https://localhost:8080/",
          "height": 235
        },
        "outputId": "5e9eab96-0823-4483-8890-46248a8190a6"
      },
      "source": [
        "#verificando 5 primeiras linhas do conjunto de dados\n",
        "df_train.head()"
      ],
      "execution_count": null,
      "outputs": [
        {
          "output_type": "execute_result",
          "data": {
            "text/html": [
              "<div>\n",
              "<style scoped>\n",
              "    .dataframe tbody tr th:only-of-type {\n",
              "        vertical-align: middle;\n",
              "    }\n",
              "\n",
              "    .dataframe tbody tr th {\n",
              "        vertical-align: top;\n",
              "    }\n",
              "\n",
              "    .dataframe thead th {\n",
              "        text-align: right;\n",
              "    }\n",
              "</style>\n",
              "<table border=\"1\" class=\"dataframe\">\n",
              "  <thead>\n",
              "    <tr style=\"text-align: right;\">\n",
              "      <th></th>\n",
              "      <th>Survived</th>\n",
              "      <th>Pclass</th>\n",
              "      <th>Name</th>\n",
              "      <th>Sex</th>\n",
              "      <th>Age</th>\n",
              "      <th>SibSp</th>\n",
              "      <th>Parch</th>\n",
              "      <th>Ticket</th>\n",
              "      <th>Fare</th>\n",
              "      <th>Embarked</th>\n",
              "    </tr>\n",
              "    <tr>\n",
              "      <th>PassengerId</th>\n",
              "      <th></th>\n",
              "      <th></th>\n",
              "      <th></th>\n",
              "      <th></th>\n",
              "      <th></th>\n",
              "      <th></th>\n",
              "      <th></th>\n",
              "      <th></th>\n",
              "      <th></th>\n",
              "      <th></th>\n",
              "    </tr>\n",
              "  </thead>\n",
              "  <tbody>\n",
              "    <tr>\n",
              "      <th>1</th>\n",
              "      <td>0</td>\n",
              "      <td>3</td>\n",
              "      <td>Braund, Mr. Owen Harris</td>\n",
              "      <td>male</td>\n",
              "      <td>22.0</td>\n",
              "      <td>1</td>\n",
              "      <td>0</td>\n",
              "      <td>A/5 21171</td>\n",
              "      <td>7.2500</td>\n",
              "      <td>S</td>\n",
              "    </tr>\n",
              "    <tr>\n",
              "      <th>2</th>\n",
              "      <td>1</td>\n",
              "      <td>1</td>\n",
              "      <td>Cumings, Mrs. John Bradley (Florence Briggs Th...</td>\n",
              "      <td>female</td>\n",
              "      <td>38.0</td>\n",
              "      <td>1</td>\n",
              "      <td>0</td>\n",
              "      <td>PC 17599</td>\n",
              "      <td>71.2833</td>\n",
              "      <td>C</td>\n",
              "    </tr>\n",
              "    <tr>\n",
              "      <th>3</th>\n",
              "      <td>1</td>\n",
              "      <td>3</td>\n",
              "      <td>Heikkinen, Miss. Laina</td>\n",
              "      <td>female</td>\n",
              "      <td>26.0</td>\n",
              "      <td>0</td>\n",
              "      <td>0</td>\n",
              "      <td>STON/O2. 3101282</td>\n",
              "      <td>7.9250</td>\n",
              "      <td>S</td>\n",
              "    </tr>\n",
              "    <tr>\n",
              "      <th>4</th>\n",
              "      <td>1</td>\n",
              "      <td>1</td>\n",
              "      <td>Futrelle, Mrs. Jacques Heath (Lily May Peel)</td>\n",
              "      <td>female</td>\n",
              "      <td>35.0</td>\n",
              "      <td>1</td>\n",
              "      <td>0</td>\n",
              "      <td>113803</td>\n",
              "      <td>53.1000</td>\n",
              "      <td>S</td>\n",
              "    </tr>\n",
              "    <tr>\n",
              "      <th>5</th>\n",
              "      <td>0</td>\n",
              "      <td>3</td>\n",
              "      <td>Allen, Mr. William Henry</td>\n",
              "      <td>male</td>\n",
              "      <td>35.0</td>\n",
              "      <td>0</td>\n",
              "      <td>0</td>\n",
              "      <td>373450</td>\n",
              "      <td>8.0500</td>\n",
              "      <td>S</td>\n",
              "    </tr>\n",
              "  </tbody>\n",
              "</table>\n",
              "</div>"
            ],
            "text/plain": [
              "             Survived  Pclass  ...     Fare Embarked\n",
              "PassengerId                    ...                  \n",
              "1                   0       3  ...   7.2500        S\n",
              "2                   1       1  ...  71.2833        C\n",
              "3                   1       3  ...   7.9250        S\n",
              "4                   1       1  ...  53.1000        S\n",
              "5                   0       3  ...   8.0500        S\n",
              "\n",
              "[5 rows x 10 columns]"
            ]
          },
          "metadata": {
            "tags": []
          },
          "execution_count": 15
        }
      ]
    },
    {
      "cell_type": "markdown",
      "metadata": {
        "id": "HRmdE6ACmC8I",
        "colab_type": "text"
      },
      "source": [
        "A partir deste capítulo 4.3, começaremos a realização de gráficos para  observar possíveis hipóteses e características dos sobriviventes do Titanic."
      ]
    },
    {
      "cell_type": "markdown",
      "metadata": {
        "id": "uAUpS-q4XFLi",
        "colab_type": "text"
      },
      "source": [
        "#### **4.3.1 Quantidade de homens e mulheres**"
      ]
    },
    {
      "cell_type": "markdown",
      "metadata": {
        "id": "ky_Z-OpZmyON",
        "colab_type": "text"
      },
      "source": [
        "Inicialmente vamos verificar quantos homens e mulheres estavam no navio."
      ]
    },
    {
      "cell_type": "code",
      "metadata": {
        "id": "t3tTaOhjnLwF",
        "colab_type": "code",
        "colab": {}
      },
      "source": [
        "#criando legendas para o gráfico a seguir\n",
        "altura_1 = []\n",
        "altura_1.append((df_train['Sex'] == 'male').sum())\n",
        "altura_1.append((df_train['Sex'] == 'female').sum())\n",
        "posicao_1 = np.arange(0,2,1)"
      ],
      "execution_count": null,
      "outputs": []
    },
    {
      "cell_type": "code",
      "metadata": {
        "id": "0GzongkcLJeB",
        "colab_type": "code",
        "colab": {
          "base_uri": "https://localhost:8080/",
          "height": 441
        },
        "outputId": "935fe438-4f08-466f-ab03-a58a89c00065"
      },
      "source": [
        "#criando fig e ax\n",
        "fig, ax = plt.subplots(figsize=(4,6))\n",
        "\n",
        "#plotando gráfico\n",
        "sns.countplot(x=df_train['Sex'], ax=ax, palette=['#00FFFF', '#FF00FF'])\n",
        "\n",
        "#títulos e legendas\n",
        "ax.set_title('Quantidade de \\n homens e mulheres \\n', fontdict={'fontsize':16})\n",
        "ax.set_ylabel('')\n",
        "ax.set_xlabel('')\n",
        "\n",
        "#alterando labels ticks x\n",
        "ax.set_xticklabels(labels=['homens', 'mulheres'], fontdict={'fontsize':14})\n",
        "\n",
        "#retirando ticks esquerdo\n",
        "ax.tick_params(labelleft=False, left=False)\n",
        "\n",
        "#aumentando espessura do axis inferior \n",
        "ax.spines['bottom'].set_linewidth(2.5)\n",
        "\n",
        "#retirando axis direito, superior e esquerdo\n",
        "for axis in ['right', 'top', 'left']:\n",
        "  ax.spines[axis].set_color('none')\n",
        "\n",
        "#adicionando legendas \n",
        "for i in range(0,2,1):\n",
        "  ax.text(x=posicao_1[i]-0.1, y=altura_1[i]+5, s=str(altura_1[i]), fontsize=15)\n",
        "\n",
        "#otimizando tamanho\n",
        "fig.tight_layout();"
      ],
      "execution_count": null,
      "outputs": [
        {
          "output_type": "display_data",
          "data": {
            "image/png": "[encoded data removed]",
            "text/plain": [
              "<Figure size 288x432 with 1 Axes>"
            ]
          },
          "metadata": {
            "tags": [],
            "needs_background": "light"
          }
        }
      ]
    },
    {
      "cell_type": "markdown",
      "metadata": {
        "id": "wLYefA9k4G--",
        "colab_type": "text"
      },
      "source": [
        "Acima foi plotado o gráfico de barras referente a quantidade de homens e mulheres no Titanic, observa-se que os homens estavam em maior número no navio."
      ]
    },
    {
      "cell_type": "markdown",
      "metadata": {
        "id": "fjGKQ6I8XSht",
        "colab_type": "text"
      },
      "source": [
        "#### **4.3.2 Quantidade de homens e mulheres que faleceram e sobreviveram**"
      ]
    },
    {
      "cell_type": "code",
      "metadata": {
        "id": "vESQ11ptseoI",
        "colab_type": "code",
        "colab": {}
      },
      "source": [
        "#criando legendas para o gráfico a seguir\n",
        "altura_2 = df_train.groupby(['Sex']).Survived.value_counts().values\n",
        "posicao_2 = np.arange(0,4,1)"
      ],
      "execution_count": null,
      "outputs": []
    },
    {
      "cell_type": "markdown",
      "metadata": {
        "id": "kkHAK5Re7XyI",
        "colab_type": "text"
      },
      "source": [
        "Abaixo foi realizado um gráfico de barras para ver a quantidade de homens e mulheres sobreviventes e falecidos."
      ]
    },
    {
      "cell_type": "code",
      "metadata": {
        "id": "zfxFRgw2NMM7",
        "colab_type": "code",
        "colab": {
          "base_uri": "https://localhost:8080/",
          "height": 441
        },
        "outputId": "b32f594c-c2b8-41fd-cef6-126a7a7bfc23"
      },
      "source": [
        "#definindo estilo\n",
        "sns.set_style('ticks')\n",
        "\n",
        "#criando fig e ax\n",
        "fig, ax = plt.subplots(figsize=(8,6))\n",
        "\n",
        "#plotando gráfico\n",
        "df_train.groupby(['Sex']).Survived.value_counts().plot(kind='bar', ax=ax, color=['#FF00FF', '#DDA0DD', '#B0E0E6',  '#00FFFF'])\n",
        "\n",
        "# legendas\n",
        "ax.set_ylabel('')\n",
        "ax.set_xlabel('')\n",
        "\n",
        "#alterando labels ticks x\n",
        "ax.set_xticklabels(labels=['mulheres \\n sobreviventes', 'mulheres \\n falecidas',\n",
        "                           'homens \\n falecidos', 'homens \\n sobreviventes'], fontdict={'fontsize':14})\n",
        "\n",
        "#retirando ticks esquerdo\n",
        "ax.tick_params(labelleft=False, left=False)\n",
        "\n",
        "#rotacionando lables dos ticks x\n",
        "ax.tick_params(axis='x', rotation=0)\n",
        "\n",
        "#aumentando espessura do axis inferior \n",
        "ax.spines['bottom'].set_linewidth(2.5)\n",
        "\n",
        "#retirando axis direito, superior e esquerdo\n",
        "for axis in ['right', 'top', 'left']:\n",
        "  ax.spines[axis].set_color('none')\n",
        "\n",
        "#adicionando legendas \n",
        "for i in range(0,4,1):\n",
        "  ax.text(x=posicao_2[i]-0.1, y=altura_2[i]+3, s=str(altura_2[i]), fontsize=15)\n",
        "\n",
        "#otimizando tamanho\n",
        "fig.tight_layout();\n"
      ],
      "execution_count": null,
      "outputs": [
        {
          "output_type": "display_data",
          "data": {
            "image/png": "[encoded data removed]",
            "text/plain": [
              "<Figure size 576x432 with 1 Axes>"
            ]
          },
          "metadata": {
            "tags": []
          }
        }
      ]
    },
    {
      "cell_type": "markdown",
      "metadata": {
        "id": "uvcTRO6o4brd",
        "colab_type": "text"
      },
      "source": [
        "A partir do gráfico de barras realizado, pode-se determinar que a maioria dos sobreviventes foram mulheres, a quantidade foi de 233, mais do que o dobro de homens sobreviventes que foi 109.\n",
        "\n",
        "\n",
        "Outra observação importante é que, devido a grande sobrevivência de mulheres, o maior número de mortes foram de homens, em uma quantidade de 468."
      ]
    },
    {
      "cell_type": "markdown",
      "metadata": {
        "id": "hvt4to3gVgmK",
        "colab_type": "text"
      },
      "source": [
        "Abaixo foi realizado um gráfico de Waffle, onde podemos encontrar o percentual de homens e mulheres que sobreviveram e faleceram. Com o gráfico de Waffle temos uma melhor noção do gráfico de barras acima."
      ]
    },
    {
      "cell_type": "code",
      "metadata": {
        "id": "NusP2h7JOd_W",
        "colab_type": "code",
        "colab": {
          "base_uri": "https://localhost:8080/",
          "height": 251
        },
        "outputId": "051a0f83-697f-4b8b-fd25-f537073009e7"
      },
      "source": [
        "#criando legendas\n",
        "data_leg = {'Mulheres sobreviventes' : 26.15, 'Mulheres falecidas' : 9.09,\n",
        "            'Homens falecidos' : 52.63, 'Homens sobreviventes' : 12.23}\n",
        "\n",
        "#criando gráfico de Waffle\n",
        "fig = plt.figure(FigureClass = Waffle, \n",
        "                 rows = 10, \n",
        "                 columns = 10,  values = {'Mulheres sobreviventes' : 233, 'Mulheres falecidas' : 81,\n",
        "                                          'Homens sobreviventes' : 469, 'Homens falecidos' : 109},\n",
        "                 legend = {'loc': 'upper left', 'bbox_to_anchor': (1, 1), 'framealpha': 0},\n",
        "                 labels = ['{0} ({1}%)'.format(k, v) for k, v in data_leg.items()],\n",
        "                 icons = 'child', icon_size = 20,\n",
        "                 colors = ('#FF00FF', '#DDA0DD', '#B0E0E6',  '#00FFFF'))\n",
        "\n",
        "#plotando gráfico Waffle\n",
        "fig.set_tight_layout(False)\n",
        "\n",
        "#mostrando gráfico\n",
        "plt.show()"
      ],
      "execution_count": null,
      "outputs": [
        {
          "output_type": "display_data",
          "data": {
            "image/png": "[encoded data removed]",
            "text/plain": [
              "<Waffle size 432x288 with 1 Axes>"
            ]
          },
          "metadata": {
            "tags": []
          }
        }
      ]
    },
    {
      "cell_type": "markdown",
      "metadata": {
        "id": "QvsZBj3h8nSE",
        "colab_type": "text"
      },
      "source": [
        "Abaixo foi realizado dois gráficos de pizza. Um gráfico somente para mulheres e outro para homens.\n",
        "\n",
        "Através dos resultados dos gráficos de pizza, observamos que 74,2% de todas as mulheres do návio sobreviveram, enquanto o de homens apenas 18,9% se salvaram. "
      ]
    },
    {
      "cell_type": "code",
      "metadata": {
        "id": "Ck7Vmsn-v0Gi",
        "colab_type": "code",
        "colab": {}
      },
      "source": [
        "#variáveis necessárias para criar o gráfico de pizza\n",
        "pie_3_mul = altura_2[:2] \n",
        "pie_3_hom = altura_2[2:]"
      ],
      "execution_count": null,
      "outputs": []
    },
    {
      "cell_type": "code",
      "metadata": {
        "id": "J9kH0iWLQr-n",
        "colab_type": "code",
        "colab": {
          "base_uri": "https://localhost:8080/",
          "height": 271
        },
        "outputId": "e2574d03-2761-430d-8cd8-3a2adb2659be"
      },
      "source": [
        "#criando fig e ax\n",
        "fig, ax = plt.subplots(ncols=2, figsize=(8,5))\n",
        "\n",
        "#plotando gráfico\n",
        "ax[0].pie(x=pie_3_mul, labels=['sobreviventes','falecidas'], colors=['#FF00FF', '#DDA0DD'], autopct='%1.1f%%', shadow=True)\n",
        "ax[1].pie(x=pie_3_hom, labels=['falecidos', 'sobreviventes'], colors=['#B0E0E6',  '#00FFFF'], autopct='%1.1f%%', shadow=True)\n",
        "\n",
        "#títulos e legendas\n",
        "ax[0].set_title('Mulheres')\n",
        "ax[1].set_title(\"Homens\")\n",
        "\n",
        "#otimizando tamanho\n",
        "fig.tight_layout();"
      ],
      "execution_count": null,
      "outputs": [
        {
          "output_type": "display_data",
          "data": {
            "image/png": "[encoded data removed]",
            "text/plain": [
              "<Figure size 576x360 with 2 Axes>"
            ]
          },
          "metadata": {
            "tags": []
          }
        }
      ]
    },
    {
      "cell_type": "markdown",
      "metadata": {
        "id": "EQIvfsuh3S5w",
        "colab_type": "text"
      },
      "source": [
        "*Algo que se deve levar em conta, é que a quantidade de homens era bem maior do que de mulheres, porém, mesmo assim somente 18,9% sobreviveram, esse resultado mostra o quão importante foi salvar as vidas das mulheres que estavam no naufrágio, estas que tiveram uma maior prioridade. *"
      ]
    },
    {
      "cell_type": "markdown",
      "metadata": {
        "id": "en6_YNF79kaF",
        "colab_type": "text"
      },
      "source": [
        "#### **4.3.3 O nível sócioeconomico das pessoas influenciavam em sua sobrevivência**"
      ]
    },
    {
      "cell_type": "markdown",
      "metadata": {
        "id": "ob2_mB5j97b4",
        "colab_type": "text"
      },
      "source": [
        "Algo interessante para verificarmos está relacionado a condição financeira das pessoas, será que esse fator determinava a possibilidade delas entrarem nos botes salva vidas.\n",
        "\n",
        "Por essa razão foi realizado o gráfico de barras abaixo, a visualização nos mostra o percentual de homens e mulheres de cada classe que sobreviveram.\n"
      ]
    },
    {
      "cell_type": "code",
      "metadata": {
        "id": "4yUK4GSCZ44C",
        "colab_type": "code",
        "colab": {
          "base_uri": "https://localhost:8080/",
          "height": 369
        },
        "outputId": "6157abcb-ef4c-4d93-dbd6-95c3b5ecad66"
      },
      "source": [
        "#plotando gráfico\n",
        "sns.catplot(x='Sex', y='Survived', hue='Pclass', data=df_train, kind='bar');"
      ],
      "execution_count": null,
      "outputs": [
        {
          "output_type": "display_data",
          "data": {
            "image/png": "[encoded data removed]",
            "text/plain": [
              "<Figure size 402.375x360 with 1 Axes>"
            ]
          },
          "metadata": {
            "tags": []
          }
        }
      ]
    },
    {
      "cell_type": "markdown",
      "metadata": {
        "id": "UB3HCSmf_WQu",
        "colab_type": "text"
      },
      "source": [
        "Primeiramente, observaremos apenas a primeira classe, em azul. Percebe-se que tanto os homens e mulheres dessa classe, que tem condições econômicas mais altas, tiveram maior percentual de sobrevivência.\n",
        "\n",
        "Nota-se também que as mulheres desta primeira classe e da segunda classe quase todas sobreviveram.\n",
        "\n",
        "Já os homens de segunda e terceira classe poucos sobreviveram. Dentre as mulheres, as de terceira classe foram as que mais morreram.\n",
        "\n",
        "\n"
      ]
    },
    {
      "cell_type": "markdown",
      "metadata": {
        "id": "w1ExFaZM4K9d",
        "colab_type": "text"
      },
      "source": [
        "*A partir desse gráfico pode-se dizer que a classe social da pessoa influenciava muito para sua sobrevivência no Titanic, se você fosse uma pessoa de terceira classe, a qual tem uma condição inferior as outras, sua chance de sobreviver era bem menor, mesmo sendo uma mulher.*"
      ]
    },
    {
      "cell_type": "markdown",
      "metadata": {
        "id": "1HyUtYXEBKgN",
        "colab_type": "text"
      },
      "source": [
        "#### **4.3.4 O ponto de embarque influência na sobrevivência das pessoas**"
      ]
    },
    {
      "cell_type": "markdown",
      "metadata": {
        "id": "R1-lCx1hBg86",
        "colab_type": "text"
      },
      "source": [
        "Acredito que seja difícil o ponto de embarque influenciar na sobrevivência dos tripulantes, porém pode-se dizer que talvez haja alguma correlação. Exemplo quem embarque de tal ponto pode ter uma melhor condição financeira ou algum outro fator.\n",
        "\n",
        "Abaixo foi realizado um gráfico de barras para ver o percentual de sobrevivência com relação ao ponto de embarque e sexo."
      ]
    },
    {
      "cell_type": "code",
      "metadata": {
        "id": "KkFypinofnK1",
        "colab_type": "code",
        "colab": {
          "base_uri": "https://localhost:8080/",
          "height": 369
        },
        "outputId": "5eff1ccc-22b7-4836-8dbf-2b992fbb0def"
      },
      "source": [
        "#plotando gráfico\n",
        "sns.catplot(x='Embarked', y='Survived', hue='Sex', data=df_train, kind='bar');"
      ],
      "execution_count": null,
      "outputs": [
        {
          "output_type": "display_data",
          "data": {
            "image/png": "[encoded data removed]",
            "text/plain": [
              "<Figure size 430.5x360 with 1 Axes>"
            ]
          },
          "metadata": {
            "tags": []
          }
        }
      ]
    },
    {
      "cell_type": "markdown",
      "metadata": {
        "id": "lpsIfDlnB9cI",
        "colab_type": "text"
      },
      "source": [
        "*Observa-se algo interessante no gráfico de barras, quem embarcou do porto C(cidade de Cherbourg) teve relativamente um maior percentual de sobrevivência.*"
      ]
    },
    {
      "cell_type": "markdown",
      "metadata": {
        "id": "QdQhnYzFGWHT",
        "colab_type": "text"
      },
      "source": [
        "Agora que analisamos bem uma parte do conjunto, partiremos para uma análise mais estatística com gráficos de distribuição e boxplot."
      ]
    },
    {
      "cell_type": "markdown",
      "metadata": {
        "id": "NUdBhVz7YcGW",
        "colab_type": "text"
      },
      "source": [
        "### **4.4 Explorando os dados: foco quantitativo**\n",
        "\n"
      ]
    },
    {
      "cell_type": "markdown",
      "metadata": {
        "id": "4C9KwbCoGIRr",
        "colab_type": "text"
      },
      "source": [
        "Ainda serão explorados os dados, porém agora será utilizada as variáveis quantitivas, com objetivo de verificar as distribuições das idades, gráficos de boxplot e descrições estatísticas."
      ]
    },
    {
      "cell_type": "markdown",
      "metadata": {
        "id": "3-4rzA3vDdRH",
        "colab_type": "text"
      },
      "source": [
        "### **4.4.1 Faixa etária dos tripulantes**"
      ]
    },
    {
      "cell_type": "markdown",
      "metadata": {
        "id": "TxkRYSr0GDdx",
        "colab_type": "text"
      },
      "source": [
        "Uma variável interessante a ser verificada no conjunto *df_train* é a coluna *Age*. A partir desta podemos tirar algumas hipóteses sobre as idades das pessoas que sobreviveram e morreram."
      ]
    },
    {
      "cell_type": "code",
      "metadata": {
        "id": "Pzp4Ywvc-NQ_",
        "colab_type": "code",
        "colab": {}
      },
      "source": [
        "#função para regulagem dos ticks\n",
        "def my_ticks(maximo, quant, minimo):\n",
        "    ticks = []\n",
        "    for i in range(minimo, maximo+1, quant):\n",
        "        ticks.append(i)\n",
        "    return ticks;  "
      ],
      "execution_count": null,
      "outputs": []
    },
    {
      "cell_type": "markdown",
      "metadata": {
        "id": "sWDdLqz5EoRw",
        "colab_type": "text"
      },
      "source": [
        "No histograma abaixo, observa-se que a maior parte das pessoas tem entre 16 e 40 anos, além disso o intervalo de idade mais frequente era de 20 a 24 anos.\n",
        "\n",
        "Podemos observar que existe um número significativo de crianças e bebês de 0 a 4 anos de idade.\n",
        "\n",
        "Esse histograma nos permite entender melhor a idade das pessoas que estavam no Titanic."
      ]
    },
    {
      "cell_type": "code",
      "metadata": {
        "id": "yhQ7JpmkeUma",
        "colab_type": "code",
        "colab": {
          "base_uri": "https://localhost:8080/",
          "height": 369
        },
        "outputId": "a6b06e87-9209-4e04-bbad-ef6fda03e1f2"
      },
      "source": [
        "#definindo estilo\n",
        "sns.set_style('ticks')\n",
        "\n",
        "#criando fig e ax\n",
        "fig, ax = plt.subplots(figsize=(10,5))\n",
        "\n",
        "#plotando gráfico\n",
        "sns.distplot(a=df_train['Age'], kde=False, bins=20, ax=ax)\n",
        "\n",
        "#alterando labels ticks x\n",
        "ax.set_xticks(my_ticks(int(df_train['Age'].max()), 4, 0))\n",
        "ax.set_xticklabels(my_ticks(int(df_train['Age'].max()), 4, 0))\n",
        "\n",
        "#títulos e legendas\n",
        "ax.set_title('Distribuição da idade de todo os tripulantes', fontdict = {'fontsize':15})\n",
        "ax.set_xlabel('Idade', fontdict = {'fontsize':12})\n",
        "\n",
        "#otimizando tamanho\n",
        "fig.tight_layout()"
      ],
      "execution_count": null,
      "outputs": [
        {
          "output_type": "display_data",
          "data": {
            "image/png": "[encoded data removed]",
            "text/plain": [
              "<Figure size 720x360 with 1 Axes>"
            ]
          },
          "metadata": {
            "tags": []
          }
        }
      ]
    },
    {
      "cell_type": "markdown",
      "metadata": {
        "id": "ek_3LPZkukEh",
        "colab_type": "text"
      },
      "source": [
        "Abaixo foi realizado dois gráficos. Um histograma mostra a distribuição percentual de sobreviventes e mortos em relação as idades dos tripulantes, enquanto o outro histograma mostra a quantidade exata por intervalos de idades."
      ]
    },
    {
      "cell_type": "code",
      "metadata": {
        "id": "qhZgeRJmC7hU",
        "colab_type": "code",
        "colab": {
          "base_uri": "https://localhost:8080/",
          "height": 297
        },
        "outputId": "f2491108-d289-42ae-b94b-858641989165"
      },
      "source": [
        "#definindo estilo\n",
        "sns.set_style('darkgrid')\n",
        "\n",
        "#criando fig e ax\n",
        "fig, ax = plt.subplots(ncols = 2, figsize=(16,4))\n",
        "\n",
        "#plotando gráfico\n",
        "sns.kdeplot(data=df_train[(df_train['Sex']=='male') & (df_train['Survived']==0)]['Age'], ax=ax[0], shade=True, color='blue',)\n",
        "sns.kdeplot(data=df_train[(df_train['Sex']=='male') & (df_train['Survived']==1)]['Age'], ax=ax[0], shade=True, color='orange')\n",
        "\n",
        "#plotando gráfico\n",
        "sns.distplot(a=df_train[(df_train['Sex']=='male') & (df_train['Survived']==0)]['Age'], ax=ax[1], color='blue', kde=False, bins=15)\n",
        "sns.distplot(a=df_train[(df_train['Sex']=='male') & (df_train['Survived']==1)]['Age'], ax=ax[1], color='orange', kde=False, bins=15)\n",
        "\n",
        "#criando legenda\n",
        "ax[0].legend(labels=['homens que morreram','homens que sobreviveram'])\n",
        "\n",
        "#alterando labels ticks x\n",
        "ax[0].set_xticklabels( labels = my_ticks( int( df_train[(df_train['Sex']=='male') & (df_train['Survived']==1)]['Age'].max() ), 4, 0 ) )\n",
        "ax[0].set_xticks( my_ticks( int( df_train[(df_train['Sex']=='male') & (df_train['Survived']==1)]['Age'].max() ), 4, 0 ) )\n",
        "\n",
        "#alterando labels ticks x\n",
        "ax[1].set_xticklabels( labels = my_ticks( int( df_train[(df_train['Sex']=='male') & (df_train['Survived']==1)]['Age'].max() ), 4, 0 ) )\n",
        "ax[1].set_xticks( my_ticks( int( df_train[(df_train['Sex']=='male') & (df_train['Survived']==1)]['Age'].max() ), 4, 0 ) )\n",
        "\n",
        "#otimizando tamanho\n",
        "fig.tight_layout();\n"
      ],
      "execution_count": null,
      "outputs": [
        {
          "output_type": "display_data",
          "data": {
            "image/png": "[encoded data removed]",
            "text/plain": [
              "<Figure size 1152x288 with 2 Axes>"
            ]
          },
          "metadata": {
            "tags": []
          }
        }
      ]
    },
    {
      "cell_type": "markdown",
      "metadata": {
        "id": "fHWjwDbhxlSY",
        "colab_type": "text"
      },
      "source": [
        "Nota-se no segundo histograma que a quantidade de homens mortos é bem maior do que os sobreviventes, porém, em relação as crianças de 0 a 4 anos a quantidade de sobreviventes é maior, indicando uma preocupação em salvar vidas de bebes e crianças do sexo masculino. \n",
        "\n",
        "Entre crianças e adolescentes de 4 a 16 anos percebe-se uma quantidade proporcional entre os mortos e sobreviventes, mostrando uma certa preocupação com os jovens dessa idade. "
      ]
    },
    {
      "cell_type": "code",
      "metadata": {
        "id": "IWz7SDS6c1a_",
        "colab_type": "code",
        "colab": {
          "base_uri": "https://localhost:8080/",
          "height": 297
        },
        "outputId": "b7cf2957-b5de-475d-e965-94f87826e73d"
      },
      "source": [
        "#definindo estilo\n",
        "sns.set_style('darkgrid')\n",
        "\n",
        "#criando fig e ax\n",
        "fig, ax = plt.subplots(ncols = 2, figsize=(16,4))\n",
        "\n",
        "#plotando gráfico\n",
        "sns.kdeplot(data=df_train[(df_train['Sex']=='female') & (df_train['Survived']==0)]['Age'], ax=ax[0], color='blue', shade=True)\n",
        "sns.kdeplot(data=df_train[(df_train['Sex']=='female') & (df_train['Survived']==1)]['Age'], ax=ax[0], color='orange', shade=True)\n",
        "\n",
        "#plotando gráfico\n",
        "sns.distplot(a=df_train[(df_train['Sex']=='female') & (df_train['Survived']==1)]['Age'], ax=ax[1], color='orange', kde=False, bins=15)\n",
        "sns.distplot(a=df_train[(df_train['Sex']=='female') & (df_train['Survived']==0)]['Age'], ax=ax[1], color='blue', kde=False, bins=15)\n",
        "\n",
        "#alterando labels ticks x\n",
        "ax[0].set_xticklabels( labels = my_ticks( int( df_train[(df_train['Sex']=='female') & (df_train['Survived']==1)]['Age'].max() ), 4, 0 ) )\n",
        "ax[0].set_xticks( my_ticks( int( df_train[(df_train['Sex']=='female') & (df_train['Survived']==1)]['Age'].max() ), 4, 0 ) )\n",
        "\n",
        "#criando legenda\n",
        "ax[0].legend(labels=['mulheres que morreram','mulheres que sobreviveram'])\n",
        "\n",
        "#otimizando tamanho\n",
        "fig.tight_layout();\n"
      ],
      "execution_count": null,
      "outputs": [
        {
          "output_type": "display_data",
          "data": {
            "image/png": "[encoded data removed]",
            "text/plain": [
              "<Figure size 1152x288 with 2 Axes>"
            ]
          },
          "metadata": {
            "tags": []
          }
        }
      ]
    },
    {
      "cell_type": "markdown",
      "metadata": {
        "id": "Qj-HPZmIykod",
        "colab_type": "text"
      },
      "source": [
        "Este histograma mostra que praticamente que as mulheres de todas as idades tiveram chances de sobrevivência. Apenas as de 10 anos tiveram uma quantidade semelhante de mortes sobreviventes."
      ]
    },
    {
      "cell_type": "markdown",
      "metadata": {
        "id": "hXrSjsGCfXXi",
        "colab_type": "text"
      },
      "source": [
        "### **4.4.2 Outliers**"
      ]
    },
    {
      "cell_type": "markdown",
      "metadata": {
        "id": "5JK_DEgezxhd",
        "colab_type": "text"
      },
      "source": [
        "A seguir foi realizado uma análise estatística das variáveis int e float de *df_train*. A partir da tabela abaixo podemos ter uma noção de possíveis Outliers. \n",
        "\n",
        "Deve-se olhar para a grandeza do desvio padrão em relação a média, e comparar se a média e mediana estão próximas para verificar possíveis presenças de Outliers."
      ]
    },
    {
      "cell_type": "code",
      "metadata": {
        "id": "Lktb-cAL9f6j",
        "colab_type": "code",
        "colab": {
          "base_uri": "https://localhost:8080/",
          "height": 297
        },
        "outputId": "8fc9ad52-9e60-4129-fbcc-a88f3b4a24d2"
      },
      "source": [
        "#plotando descrição estatística\n",
        "df_train.describe()"
      ],
      "execution_count": null,
      "outputs": [
        {
          "output_type": "execute_result",
          "data": {
            "text/html": [
              "<div>\n",
              "<style scoped>\n",
              "    .dataframe tbody tr th:only-of-type {\n",
              "        vertical-align: middle;\n",
              "    }\n",
              "\n",
              "    .dataframe tbody tr th {\n",
              "        vertical-align: top;\n",
              "    }\n",
              "\n",
              "    .dataframe thead th {\n",
              "        text-align: right;\n",
              "    }\n",
              "</style>\n",
              "<table border=\"1\" class=\"dataframe\">\n",
              "  <thead>\n",
              "    <tr style=\"text-align: right;\">\n",
              "      <th></th>\n",
              "      <th>Survived</th>\n",
              "      <th>Pclass</th>\n",
              "      <th>Age</th>\n",
              "      <th>SibSp</th>\n",
              "      <th>Parch</th>\n",
              "      <th>Fare</th>\n",
              "    </tr>\n",
              "  </thead>\n",
              "  <tbody>\n",
              "    <tr>\n",
              "      <th>count</th>\n",
              "      <td>891.000000</td>\n",
              "      <td>891.000000</td>\n",
              "      <td>714.000000</td>\n",
              "      <td>891.000000</td>\n",
              "      <td>891.000000</td>\n",
              "      <td>891.000000</td>\n",
              "    </tr>\n",
              "    <tr>\n",
              "      <th>mean</th>\n",
              "      <td>0.383838</td>\n",
              "      <td>2.308642</td>\n",
              "      <td>29.699118</td>\n",
              "      <td>0.523008</td>\n",
              "      <td>0.381594</td>\n",
              "      <td>32.204208</td>\n",
              "    </tr>\n",
              "    <tr>\n",
              "      <th>std</th>\n",
              "      <td>0.486592</td>\n",
              "      <td>0.836071</td>\n",
              "      <td>14.526497</td>\n",
              "      <td>1.102743</td>\n",
              "      <td>0.806057</td>\n",
              "      <td>49.693429</td>\n",
              "    </tr>\n",
              "    <tr>\n",
              "      <th>min</th>\n",
              "      <td>0.000000</td>\n",
              "      <td>1.000000</td>\n",
              "      <td>0.420000</td>\n",
              "      <td>0.000000</td>\n",
              "      <td>0.000000</td>\n",
              "      <td>0.000000</td>\n",
              "    </tr>\n",
              "    <tr>\n",
              "      <th>25%</th>\n",
              "      <td>0.000000</td>\n",
              "      <td>2.000000</td>\n",
              "      <td>20.125000</td>\n",
              "      <td>0.000000</td>\n",
              "      <td>0.000000</td>\n",
              "      <td>7.910400</td>\n",
              "    </tr>\n",
              "    <tr>\n",
              "      <th>50%</th>\n",
              "      <td>0.000000</td>\n",
              "      <td>3.000000</td>\n",
              "      <td>28.000000</td>\n",
              "      <td>0.000000</td>\n",
              "      <td>0.000000</td>\n",
              "      <td>14.454200</td>\n",
              "    </tr>\n",
              "    <tr>\n",
              "      <th>75%</th>\n",
              "      <td>1.000000</td>\n",
              "      <td>3.000000</td>\n",
              "      <td>38.000000</td>\n",
              "      <td>1.000000</td>\n",
              "      <td>0.000000</td>\n",
              "      <td>31.000000</td>\n",
              "    </tr>\n",
              "    <tr>\n",
              "      <th>max</th>\n",
              "      <td>1.000000</td>\n",
              "      <td>3.000000</td>\n",
              "      <td>80.000000</td>\n",
              "      <td>8.000000</td>\n",
              "      <td>6.000000</td>\n",
              "      <td>512.329200</td>\n",
              "    </tr>\n",
              "  </tbody>\n",
              "</table>\n",
              "</div>"
            ],
            "text/plain": [
              "         Survived      Pclass         Age       SibSp       Parch        Fare\n",
              "count  891.000000  891.000000  714.000000  891.000000  891.000000  891.000000\n",
              "mean     0.383838    2.308642   29.699118    0.523008    0.381594   32.204208\n",
              "std      0.486592    0.836071   14.526497    1.102743    0.806057   49.693429\n",
              "min      0.000000    1.000000    0.420000    0.000000    0.000000    0.000000\n",
              "25%      0.000000    2.000000   20.125000    0.000000    0.000000    7.910400\n",
              "50%      0.000000    3.000000   28.000000    0.000000    0.000000   14.454200\n",
              "75%      1.000000    3.000000   38.000000    1.000000    0.000000   31.000000\n",
              "max      1.000000    3.000000   80.000000    8.000000    6.000000  512.329200"
            ]
          },
          "metadata": {
            "tags": []
          },
          "execution_count": 11
        }
      ]
    },
    {
      "cell_type": "markdown",
      "metadata": {
        "id": "JUZvgzM7gX8I",
        "colab_type": "text"
      },
      "source": [
        "As variáveis *Survived Pclass SibSp Parch* que são variáveis inteiras, mas classificatórias, e não devem ser análisadas. Logo focando apenas em *Age e *Fare*.\n",
        "\n",
        "Em *Age* percebe-se que a média e mediana estão bem próximas, e o desvio padrão é a metade da mediana e média, mostrando que não há uma alta variabilidade. Dessa maneira olhando apenas a descrição estatítica não parece conter Outliers.\n",
        "\n",
        "Já em relação a variável *Fare* há um alta diferença entre média e mediana, e seu desvio padrão é maior do que a própria média e mediana, mostrando que existe uma alta variabilidade, podendo conter uma significante quantidade de Outliers."
      ]
    },
    {
      "cell_type": "markdown",
      "metadata": {
        "id": "5H7ExhOU6iod",
        "colab_type": "text"
      },
      "source": [
        "Para confirmos a hipótese anterior, abaixo encontra-se dois box plot das variáveis citadas acima."
      ]
    },
    {
      "cell_type": "code",
      "metadata": {
        "id": "oad6Kstzf0Sl",
        "colab_type": "code",
        "colab": {
          "base_uri": "https://localhost:8080/",
          "height": 153
        },
        "outputId": "433cce50-8b7c-4c32-aeba-cb36d903bfaa"
      },
      "source": [
        "fig, ax = plt.subplots(ncols=2, figsize=(17,2))\n",
        "\n",
        "sns.boxplot(x=df_train['Fare'], ax=ax[0])\n",
        "sns.boxplot(x=df_train['Age'], ax=ax[1])\n",
        "\n",
        "fig.tight_layout();"
      ],
      "execution_count": null,
      "outputs": [
        {
          "output_type": "display_data",
          "data": {
            "image/png": "[encoded data removed]",
            "text/plain": [
              "<Figure size 1224x144 with 2 Axes>"
            ]
          },
          "metadata": {
            "tags": [],
            "needs_background": "light"
          }
        }
      ]
    },
    {
      "cell_type": "code",
      "metadata": {
        "id": "_zIEwrsZ65fe",
        "colab_type": "code",
        "colab": {}
      },
      "source": [
        "IQR_age = df_train['Age'].quantile(0.75) - df_train['Age'].quantile(0.25)\n",
        "maximo_age = df_train['Age'].quantile(0.75) + (1.5*IQR_age)"
      ],
      "execution_count": null,
      "outputs": []
    },
    {
      "cell_type": "code",
      "metadata": {
        "id": "KNKgdi5O0w2c",
        "colab_type": "code",
        "colab": {
          "base_uri": "https://localhost:8080/",
          "height": 34
        },
        "outputId": "0118a98c-d55a-4bf3-e0a2-c7738ac83fe0"
      },
      "source": [
        "print('porcentagem de outliers da variável Age =', \n",
        "      round( ( ( (df_train['Age']>maximo_age).sum() )/df_train.shape[0] ),6)*100,'%')"
      ],
      "execution_count": null,
      "outputs": [
        {
          "output_type": "stream",
          "text": [
            "porcentagem de outliers da variável Age = 1.2346 %\n"
          ],
          "name": "stdout"
        }
      ]
    },
    {
      "cell_type": "code",
      "metadata": {
        "id": "Awl-tzLx2E6c",
        "colab_type": "code",
        "colab": {}
      },
      "source": [
        "#calculando IQR\n",
        "IQR_fare = df_train['Fare'].quantile(0.75) - df_train['Fare'].quantile(0.25)\n",
        "maximo_fare = df_train['Fare'].quantile(0.75) + (1.5*IQR_fare)"
      ],
      "execution_count": null,
      "outputs": []
    },
    {
      "cell_type": "code",
      "metadata": {
        "id": "WBlxa7q4jq2R",
        "colab_type": "code",
        "colab": {
          "base_uri": "https://localhost:8080/",
          "height": 34
        },
        "outputId": "771bb029-1219-4b38-a725-c39517ead619"
      },
      "source": [
        "print('porcentagem de outliers da variável Fare =', \n",
        "      round( ( ( (df_train['Fare']>maximo_fare).sum() )/df_train.shape[0] ),6)*100,'%')"
      ],
      "execution_count": null,
      "outputs": [
        {
          "output_type": "stream",
          "text": [
            "porcentagem de outliers da variável Fare = 13.0191 %\n"
          ],
          "name": "stdout"
        }
      ]
    },
    {
      "cell_type": "markdown",
      "metadata": {
        "id": "S7g6OzDX_pyn",
        "colab_type": "text"
      },
      "source": [
        "Observa-se que a quantidade de Outliers em Fare é de 10,88%, sendo uma grande quantidade de Outliers. Esse problema vai ser resolvido antes da aplicação do modelo de _machine learning_."
      ]
    },
    {
      "cell_type": "markdown",
      "metadata": {
        "id": "LLXJjvjY1ilW",
        "colab_type": "text"
      },
      "source": [
        "## **5. Machine Learning**"
      ]
    },
    {
      "cell_type": "markdown",
      "metadata": {
        "id": "Dj8veBK041Ob",
        "colab_type": "text"
      },
      "source": [
        "### **5.1 Pré processamento**"
      ]
    },
    {
      "cell_type": "markdown",
      "metadata": {
        "id": "MnlbgUrH7h2R",
        "colab_type": "text"
      },
      "source": [
        "Antes de partirmos para a criação do modelo de _machine learning_ com o intuito de realizar as previsões de *df_test*, devem ser feitas algumas alterações no conjunto de dados.\n",
        "\n",
        "Como vimos a variável *Fare* e *Age* tem grandezas bem diferentes, e além de possuir alguns Outliers. Logo devemos fazer uma padronização destas duas variáveis para deixarmos o conjunto em uma grandeza semelhante, e também diminuir a distância dos Outliers. \n",
        "\n",
        "Outro ponto importante é em relação as variáveis categóricas, tipo string, que devem ser transformadas em variáveis categóricas numéricas, pois os modelos de _machine learning_ não identifica variáveis categóricas do tipo string."
      ]
    },
    {
      "cell_type": "markdown",
      "metadata": {
        "id": "bR0V1hDDKRgz",
        "colab_type": "text"
      },
      "source": [
        "As mudanças que serão realizadas:\n",
        "* Padronização de dados, diminuindo a variabilidade da variável *Fare* e *Age*;\n",
        "* Transformação dos dados categóricos (tipo string) para representação dessas categorias em valores inteiros;\n",
        "* Exclusão de colunas que não são importantes."
      ]
    },
    {
      "cell_type": "markdown",
      "metadata": {
        "id": "JrSCS_--LFJ2",
        "colab_type": "text"
      },
      "source": [
        "*OBS: tudo que será aplicado no conjunto df_train, também será no df_test.*"
      ]
    },
    {
      "cell_type": "code",
      "metadata": {
        "id": "ht07_PDkOFmK",
        "colab_type": "code",
        "colab": {}
      },
      "source": [
        "#salvando PassagerId para submissão\n",
        "PassengerId = df_test.index"
      ],
      "execution_count": null,
      "outputs": []
    },
    {
      "cell_type": "code",
      "metadata": {
        "id": "bYkcx6NcsSUe",
        "colab_type": "code",
        "colab": {}
      },
      "source": [
        "#criando uma cópia do conjunto de dados\n",
        "df_train_new = df_train.copy()\n",
        "df_test_new = df_test.copy()"
      ],
      "execution_count": null,
      "outputs": []
    },
    {
      "cell_type": "markdown",
      "metadata": {
        "id": "qoNPbV_-Ivtu",
        "colab_type": "text"
      },
      "source": [
        "Abaixo foi removido a coluna *Name* e *Ticket*, pois estas não influenciam o na sobrevivência dos tripulantes."
      ]
    },
    {
      "cell_type": "code",
      "metadata": {
        "id": "GZ2m-mGeQLP-",
        "colab_type": "code",
        "colab": {}
      },
      "source": [
        "#removendo variáveis \n",
        "df_train_new.drop(['Name', 'Ticket'], axis=1, inplace=True)\n",
        "df_test_new.drop(['Name', 'Ticket'], axis=1, inplace=True)"
      ],
      "execution_count": null,
      "outputs": []
    },
    {
      "cell_type": "code",
      "metadata": {
        "id": "e1xHmYT8P2PP",
        "colab_type": "code",
        "colab": {
          "base_uri": "https://localhost:8080/",
          "height": 235
        },
        "outputId": "7f81843c-2c75-47fa-cc24-e02b6a6bf31c"
      },
      "source": [
        "#verificando 5 primeiras linhas do conjunto de dados\n",
        "df_train_new.head()"
      ],
      "execution_count": null,
      "outputs": [
        {
          "output_type": "execute_result",
          "data": {
            "text/html": [
              "<div>\n",
              "<style scoped>\n",
              "    .dataframe tbody tr th:only-of-type {\n",
              "        vertical-align: middle;\n",
              "    }\n",
              "\n",
              "    .dataframe tbody tr th {\n",
              "        vertical-align: top;\n",
              "    }\n",
              "\n",
              "    .dataframe thead th {\n",
              "        text-align: right;\n",
              "    }\n",
              "</style>\n",
              "<table border=\"1\" class=\"dataframe\">\n",
              "  <thead>\n",
              "    <tr style=\"text-align: right;\">\n",
              "      <th></th>\n",
              "      <th>Survived</th>\n",
              "      <th>Pclass</th>\n",
              "      <th>Sex</th>\n",
              "      <th>Age</th>\n",
              "      <th>SibSp</th>\n",
              "      <th>Parch</th>\n",
              "      <th>Fare</th>\n",
              "      <th>Embarked</th>\n",
              "    </tr>\n",
              "    <tr>\n",
              "      <th>PassengerId</th>\n",
              "      <th></th>\n",
              "      <th></th>\n",
              "      <th></th>\n",
              "      <th></th>\n",
              "      <th></th>\n",
              "      <th></th>\n",
              "      <th></th>\n",
              "      <th></th>\n",
              "    </tr>\n",
              "  </thead>\n",
              "  <tbody>\n",
              "    <tr>\n",
              "      <th>1</th>\n",
              "      <td>0</td>\n",
              "      <td>3</td>\n",
              "      <td>male</td>\n",
              "      <td>22.0</td>\n",
              "      <td>1</td>\n",
              "      <td>0</td>\n",
              "      <td>7.2500</td>\n",
              "      <td>S</td>\n",
              "    </tr>\n",
              "    <tr>\n",
              "      <th>2</th>\n",
              "      <td>1</td>\n",
              "      <td>1</td>\n",
              "      <td>female</td>\n",
              "      <td>38.0</td>\n",
              "      <td>1</td>\n",
              "      <td>0</td>\n",
              "      <td>71.2833</td>\n",
              "      <td>C</td>\n",
              "    </tr>\n",
              "    <tr>\n",
              "      <th>3</th>\n",
              "      <td>1</td>\n",
              "      <td>3</td>\n",
              "      <td>female</td>\n",
              "      <td>26.0</td>\n",
              "      <td>0</td>\n",
              "      <td>0</td>\n",
              "      <td>7.9250</td>\n",
              "      <td>S</td>\n",
              "    </tr>\n",
              "    <tr>\n",
              "      <th>4</th>\n",
              "      <td>1</td>\n",
              "      <td>1</td>\n",
              "      <td>female</td>\n",
              "      <td>35.0</td>\n",
              "      <td>1</td>\n",
              "      <td>0</td>\n",
              "      <td>53.1000</td>\n",
              "      <td>S</td>\n",
              "    </tr>\n",
              "    <tr>\n",
              "      <th>5</th>\n",
              "      <td>0</td>\n",
              "      <td>3</td>\n",
              "      <td>male</td>\n",
              "      <td>35.0</td>\n",
              "      <td>0</td>\n",
              "      <td>0</td>\n",
              "      <td>8.0500</td>\n",
              "      <td>S</td>\n",
              "    </tr>\n",
              "  </tbody>\n",
              "</table>\n",
              "</div>"
            ],
            "text/plain": [
              "             Survived  Pclass     Sex   Age  SibSp  Parch     Fare Embarked\n",
              "PassengerId                                                                \n",
              "1                   0       3    male  22.0      1      0   7.2500        S\n",
              "2                   1       1  female  38.0      1      0  71.2833        C\n",
              "3                   1       3  female  26.0      0      0   7.9250        S\n",
              "4                   1       1  female  35.0      1      0  53.1000        S\n",
              "5                   0       3    male  35.0      0      0   8.0500        S"
            ]
          },
          "metadata": {
            "tags": []
          },
          "execution_count": 26
        }
      ]
    },
    {
      "cell_type": "code",
      "metadata": {
        "id": "i5m-YCR4qLgA",
        "colab_type": "code",
        "colab": {
          "base_uri": "https://localhost:8080/",
          "height": 235
        },
        "outputId": "0d5e4ae7-47e9-41e3-ba24-97f26eabb617"
      },
      "source": [
        "df_test_new.head()"
      ],
      "execution_count": null,
      "outputs": [
        {
          "output_type": "execute_result",
          "data": {
            "text/html": [
              "<div>\n",
              "<style scoped>\n",
              "    .dataframe tbody tr th:only-of-type {\n",
              "        vertical-align: middle;\n",
              "    }\n",
              "\n",
              "    .dataframe tbody tr th {\n",
              "        vertical-align: top;\n",
              "    }\n",
              "\n",
              "    .dataframe thead th {\n",
              "        text-align: right;\n",
              "    }\n",
              "</style>\n",
              "<table border=\"1\" class=\"dataframe\">\n",
              "  <thead>\n",
              "    <tr style=\"text-align: right;\">\n",
              "      <th></th>\n",
              "      <th>Pclass</th>\n",
              "      <th>Sex</th>\n",
              "      <th>Age</th>\n",
              "      <th>SibSp</th>\n",
              "      <th>Parch</th>\n",
              "      <th>Fare</th>\n",
              "      <th>Embarked</th>\n",
              "    </tr>\n",
              "    <tr>\n",
              "      <th>PassengerId</th>\n",
              "      <th></th>\n",
              "      <th></th>\n",
              "      <th></th>\n",
              "      <th></th>\n",
              "      <th></th>\n",
              "      <th></th>\n",
              "      <th></th>\n",
              "    </tr>\n",
              "  </thead>\n",
              "  <tbody>\n",
              "    <tr>\n",
              "      <th>892</th>\n",
              "      <td>3</td>\n",
              "      <td>male</td>\n",
              "      <td>34.5</td>\n",
              "      <td>0</td>\n",
              "      <td>0</td>\n",
              "      <td>7.8292</td>\n",
              "      <td>Q</td>\n",
              "    </tr>\n",
              "    <tr>\n",
              "      <th>893</th>\n",
              "      <td>3</td>\n",
              "      <td>female</td>\n",
              "      <td>47.0</td>\n",
              "      <td>1</td>\n",
              "      <td>0</td>\n",
              "      <td>7.0000</td>\n",
              "      <td>S</td>\n",
              "    </tr>\n",
              "    <tr>\n",
              "      <th>894</th>\n",
              "      <td>2</td>\n",
              "      <td>male</td>\n",
              "      <td>62.0</td>\n",
              "      <td>0</td>\n",
              "      <td>0</td>\n",
              "      <td>9.6875</td>\n",
              "      <td>Q</td>\n",
              "    </tr>\n",
              "    <tr>\n",
              "      <th>895</th>\n",
              "      <td>3</td>\n",
              "      <td>male</td>\n",
              "      <td>27.0</td>\n",
              "      <td>0</td>\n",
              "      <td>0</td>\n",
              "      <td>8.6625</td>\n",
              "      <td>S</td>\n",
              "    </tr>\n",
              "    <tr>\n",
              "      <th>896</th>\n",
              "      <td>3</td>\n",
              "      <td>female</td>\n",
              "      <td>22.0</td>\n",
              "      <td>1</td>\n",
              "      <td>1</td>\n",
              "      <td>12.2875</td>\n",
              "      <td>S</td>\n",
              "    </tr>\n",
              "  </tbody>\n",
              "</table>\n",
              "</div>"
            ],
            "text/plain": [
              "             Pclass     Sex   Age  SibSp  Parch     Fare Embarked\n",
              "PassengerId                                                      \n",
              "892               3    male  34.5      0      0   7.8292        Q\n",
              "893               3  female  47.0      1      0   7.0000        S\n",
              "894               2    male  62.0      0      0   9.6875        Q\n",
              "895               3    male  27.0      0      0   8.6625        S\n",
              "896               3  female  22.0      1      1  12.2875        S"
            ]
          },
          "metadata": {
            "tags": []
          },
          "execution_count": 27
        }
      ]
    },
    {
      "cell_type": "code",
      "metadata": {
        "id": "QucoJWvsP8bj",
        "colab_type": "code",
        "colab": {
          "base_uri": "https://localhost:8080/",
          "height": 34
        },
        "outputId": "873d9077-4630-4841-96ed-4c03ba696937"
      },
      "source": [
        "df_train_new.shape"
      ],
      "execution_count": null,
      "outputs": [
        {
          "output_type": "execute_result",
          "data": {
            "text/plain": [
              "(891, 10)"
            ]
          },
          "metadata": {
            "tags": []
          },
          "execution_count": 6
        }
      ]
    },
    {
      "cell_type": "markdown",
      "metadata": {
        "id": "W0_juaJcRoq2",
        "colab_type": "text"
      },
      "source": [
        "#### **5.1.1 Corregindo dados ausentes**"
      ]
    },
    {
      "cell_type": "markdown",
      "metadata": {
        "id": "ar1gN776NODj",
        "colab_type": "text"
      },
      "source": [
        "Como visto no capítulo 4 o conjunto de dados possuia dados ausentes tanto em df_train e df_test. Neste capítulo vamos resolver esse problema."
      ]
    },
    {
      "cell_type": "code",
      "metadata": {
        "id": "ElQGFQodSsDk",
        "colab_type": "code",
        "colab": {
          "base_uri": "https://localhost:8080/",
          "height": 170
        },
        "outputId": "221a34a0-b5d5-49d7-ef29-98b2cd1865ea"
      },
      "source": [
        "df_train_new.isnull().sum()"
      ],
      "execution_count": null,
      "outputs": [
        {
          "output_type": "execute_result",
          "data": {
            "text/plain": [
              "Survived      0\n",
              "Pclass        0\n",
              "Sex           0\n",
              "Age         177\n",
              "SibSp         0\n",
              "Parch         0\n",
              "Fare          0\n",
              "Embarked      2\n",
              "dtype: int64"
            ]
          },
          "metadata": {
            "tags": []
          },
          "execution_count": 28
        }
      ]
    },
    {
      "cell_type": "markdown",
      "metadata": {
        "id": "QEPkEtDSNesk",
        "colab_type": "text"
      },
      "source": [
        "Como o conjunto de dados treino não é muito grande, apresentando 891 linhas/entradas, desperdiçar dados não é muito interessante. Dessa maneira vamos alterar os dados ausentes por valores que possam representa-lo da melhor maneira possível:\n",
        "\n",
        "* *Age* e *Fare*: os dados ausentes vão ser substuídos pela mediana.\n",
        "* *Embarked*: os dados ausentes vão ser substituídos pela moda."
      ]
    },
    {
      "cell_type": "code",
      "metadata": {
        "id": "TDPRKS1US-mN",
        "colab_type": "code",
        "colab": {}
      },
      "source": [
        "#criando variáveis para substituir dados ausentes\n",
        "age_median = df_train_new['Age'].median()\n",
        "fare_median = df_train_new['Fare'].median()\n",
        "embarked_mode = df_train_new['Embarked'].mode()[0]\n",
        "\n",
        "#realizando a substituição\n",
        "df_train_new['Age'].fillna(value=age_median, inplace=True)\n",
        "df_train_new['Fare'].fillna(value=fare_median, inplace=True)\n",
        "df_train_new['Embarked'].fillna(value=embarked_mode, inplace=True)\n",
        "\n",
        "#realizando substituicao em test\n",
        "df_test_new['Age'].fillna(value=age_median, inplace=True)\n",
        "df_test_new['Fare'].fillna(value=fare_median, inplace=True)\n",
        "df_test_new['Embarked'].fillna(value=embarked_mode, inplace=True)"
      ],
      "execution_count": null,
      "outputs": []
    },
    {
      "cell_type": "code",
      "metadata": {
        "id": "VvnXDxfO6wYt",
        "colab_type": "code",
        "colab": {
          "base_uri": "https://localhost:8080/",
          "height": 153
        },
        "outputId": "94b7729f-da3f-40cc-d312-15ff5a47988f"
      },
      "source": [
        "#verificando a ausência de dados\n",
        "df_test_new.isnull().sum()"
      ],
      "execution_count": null,
      "outputs": [
        {
          "output_type": "execute_result",
          "data": {
            "text/plain": [
              "Pclass      0\n",
              "Sex         0\n",
              "Age         0\n",
              "SibSp       0\n",
              "Parch       0\n",
              "Fare        0\n",
              "Embarked    0\n",
              "dtype: int64"
            ]
          },
          "metadata": {
            "tags": []
          },
          "execution_count": 30
        }
      ]
    },
    {
      "cell_type": "code",
      "metadata": {
        "id": "K7wJ4xJCT4Sm",
        "colab_type": "code",
        "colab": {
          "base_uri": "https://localhost:8080/",
          "height": 170
        },
        "outputId": "ad057f49-8762-4898-972f-a0344e50e96b"
      },
      "source": [
        "#verificando a ausência de dados\n",
        "df_train_new.isnull().sum()"
      ],
      "execution_count": null,
      "outputs": [
        {
          "output_type": "execute_result",
          "data": {
            "text/plain": [
              "Survived    0\n",
              "Pclass      0\n",
              "Sex         0\n",
              "Age         0\n",
              "SibSp       0\n",
              "Parch       0\n",
              "Fare        0\n",
              "Embarked    0\n",
              "dtype: int64"
            ]
          },
          "metadata": {
            "tags": []
          },
          "execution_count": 31
        }
      ]
    },
    {
      "cell_type": "markdown",
      "metadata": {
        "id": "eotYBhjs7cG9",
        "colab_type": "text"
      },
      "source": [
        "#### **5.1.2 Padronizando dados**"
      ]
    },
    {
      "cell_type": "markdown",
      "metadata": {
        "id": "xmBVEc2WO8aF",
        "colab_type": "text"
      },
      "source": [
        "#### **Etapa de transformação dos dados Scikit learn**"
      ]
    },
    {
      "cell_type": "markdown",
      "metadata": {
        "id": "Q3rEHWLMVne0",
        "colab_type": "text"
      },
      "source": [
        "Neste parte foi realizado a padronização da variável *Fare* e *Age* devido a uma diferença entre as grandezas dessas variáveis com as demais do conjunto. Além disso a padronização pode ajudar em relação aos *Outliers*.\n",
        "\n",
        "A equação de padronização está abaixo.\n",
        "\n",
        "![alt text](https://miro.medium.com/max/558/1*bxVffEJZKnlJ5WfPMgefVg@2x.png)\n",
        "\n",
        "* z: valor padronizado\n",
        "* x: valor da linha (i)\n",
        "* u: média\n",
        "* σ: desvio padrão\n",
        "\n",
        "Logo os valores serão substituidos através deste cálculo.\n",
        "\n",
        "Abaixo foi realizado a padronização."
      ]
    },
    {
      "cell_type": "code",
      "metadata": {
        "id": "za9JJ2zc3tl_",
        "colab_type": "code",
        "colab": {}
      },
      "source": [
        "#importando biblioteca para padronização\n",
        "from sklearn.preprocessing import StandardScaler\n",
        "\n",
        "#instanciando\n",
        "std_scaler_fare = StandardScaler().fit(df_train_new[['Fare']])\n",
        "std_scaler_age = StandardScaler().fit(df_train_new[['Age']])\n",
        "\n",
        "#padronizando dados\n",
        "df_train_new['std_fare'] = std_scaler_fare.transform(df_train_new[['Fare']])\n",
        "df_train_new['std_age'] = std_scaler_age.transform(df_train_new[['Age']])\n",
        "df_test_new['std_fare'] = std_scaler_fare.transform(df_test_new[['Fare']])\n",
        "df_test_new['std_age'] = std_scaler_age.transform(df_test_new[['Age']])\n",
        "\n",
        "#excluindo dados antigos\n",
        "df_train_new.drop('Fare', axis=1, inplace=True)\n",
        "df_test_new.drop('Fare', axis=1, inplace=True)\n",
        "df_train_new.drop('Age', axis=1, inplace=True)\n",
        "df_test_new.drop('Age', axis=1, inplace=True)"
      ],
      "execution_count": null,
      "outputs": []
    },
    {
      "cell_type": "markdown",
      "metadata": {
        "id": "sqFXH8ThD_Dz",
        "colab_type": "text"
      },
      "source": [
        "#### **5.1.3 Transformação de variáveis categóricas em valores inteiros**"
      ]
    },
    {
      "cell_type": "markdown",
      "metadata": {
        "id": "U5DXuOu0YOHY",
        "colab_type": "text"
      },
      "source": [
        "No modelo de _machine learning_ apenas podem ser utilizadas variáveis numéricas. No entanto as varáiveis *Sex* e *Embarked* são categóricas do tipo string.\n",
        "\n",
        "Através da função **get_dummies()** serão transformados as variáveis catergóricas em tipo inteiro."
      ]
    },
    {
      "cell_type": "code",
      "metadata": {
        "id": "PPcEEntVjmuw",
        "colab_type": "code",
        "colab": {}
      },
      "source": [
        "df_train_new = pd.get_dummies(df_train_new, columns = ['Sex','Embarked'])\n",
        "df_test_new = pd.get_dummies(df_test_new, columns = ['Sex','Embarked'])"
      ],
      "execution_count": null,
      "outputs": []
    },
    {
      "cell_type": "markdown",
      "metadata": {
        "id": "jxu3FMLCZEkD",
        "colab_type": "text"
      },
      "source": [
        "Abaixo pode ser visto o resultado das transformações."
      ]
    },
    {
      "cell_type": "code",
      "metadata": {
        "id": "mzU2U3pgjrzw",
        "colab_type": "code",
        "colab": {
          "base_uri": "https://localhost:8080/",
          "height": 235
        },
        "outputId": "a38014ab-d9b7-4455-aa31-a5c725ab6c71"
      },
      "source": [
        "df_train_new.head()"
      ],
      "execution_count": null,
      "outputs": [
        {
          "output_type": "execute_result",
          "data": {
            "text/html": [
              "<div>\n",
              "<style scoped>\n",
              "    .dataframe tbody tr th:only-of-type {\n",
              "        vertical-align: middle;\n",
              "    }\n",
              "\n",
              "    .dataframe tbody tr th {\n",
              "        vertical-align: top;\n",
              "    }\n",
              "\n",
              "    .dataframe thead th {\n",
              "        text-align: right;\n",
              "    }\n",
              "</style>\n",
              "<table border=\"1\" class=\"dataframe\">\n",
              "  <thead>\n",
              "    <tr style=\"text-align: right;\">\n",
              "      <th></th>\n",
              "      <th>Survived</th>\n",
              "      <th>Pclass</th>\n",
              "      <th>SibSp</th>\n",
              "      <th>Parch</th>\n",
              "      <th>std_fare</th>\n",
              "      <th>std_age</th>\n",
              "      <th>Sex_female</th>\n",
              "      <th>Sex_male</th>\n",
              "      <th>Embarked_C</th>\n",
              "      <th>Embarked_Q</th>\n",
              "      <th>Embarked_S</th>\n",
              "    </tr>\n",
              "    <tr>\n",
              "      <th>PassengerId</th>\n",
              "      <th></th>\n",
              "      <th></th>\n",
              "      <th></th>\n",
              "      <th></th>\n",
              "      <th></th>\n",
              "      <th></th>\n",
              "      <th></th>\n",
              "      <th></th>\n",
              "      <th></th>\n",
              "      <th></th>\n",
              "      <th></th>\n",
              "    </tr>\n",
              "  </thead>\n",
              "  <tbody>\n",
              "    <tr>\n",
              "      <th>1</th>\n",
              "      <td>0</td>\n",
              "      <td>3</td>\n",
              "      <td>1</td>\n",
              "      <td>0</td>\n",
              "      <td>-0.502445</td>\n",
              "      <td>-0.565736</td>\n",
              "      <td>0</td>\n",
              "      <td>1</td>\n",
              "      <td>0</td>\n",
              "      <td>0</td>\n",
              "      <td>1</td>\n",
              "    </tr>\n",
              "    <tr>\n",
              "      <th>2</th>\n",
              "      <td>1</td>\n",
              "      <td>1</td>\n",
              "      <td>1</td>\n",
              "      <td>0</td>\n",
              "      <td>0.786845</td>\n",
              "      <td>0.663861</td>\n",
              "      <td>1</td>\n",
              "      <td>0</td>\n",
              "      <td>1</td>\n",
              "      <td>0</td>\n",
              "      <td>0</td>\n",
              "    </tr>\n",
              "    <tr>\n",
              "      <th>3</th>\n",
              "      <td>1</td>\n",
              "      <td>3</td>\n",
              "      <td>0</td>\n",
              "      <td>0</td>\n",
              "      <td>-0.488854</td>\n",
              "      <td>-0.258337</td>\n",
              "      <td>1</td>\n",
              "      <td>0</td>\n",
              "      <td>0</td>\n",
              "      <td>0</td>\n",
              "      <td>1</td>\n",
              "    </tr>\n",
              "    <tr>\n",
              "      <th>4</th>\n",
              "      <td>1</td>\n",
              "      <td>1</td>\n",
              "      <td>1</td>\n",
              "      <td>0</td>\n",
              "      <td>0.420730</td>\n",
              "      <td>0.433312</td>\n",
              "      <td>1</td>\n",
              "      <td>0</td>\n",
              "      <td>0</td>\n",
              "      <td>0</td>\n",
              "      <td>1</td>\n",
              "    </tr>\n",
              "    <tr>\n",
              "      <th>5</th>\n",
              "      <td>0</td>\n",
              "      <td>3</td>\n",
              "      <td>0</td>\n",
              "      <td>0</td>\n",
              "      <td>-0.486337</td>\n",
              "      <td>0.433312</td>\n",
              "      <td>0</td>\n",
              "      <td>1</td>\n",
              "      <td>0</td>\n",
              "      <td>0</td>\n",
              "      <td>1</td>\n",
              "    </tr>\n",
              "  </tbody>\n",
              "</table>\n",
              "</div>"
            ],
            "text/plain": [
              "             Survived  Pclass  SibSp  ...  Embarked_C  Embarked_Q  Embarked_S\n",
              "PassengerId                           ...                                    \n",
              "1                   0       3      1  ...           0           0           1\n",
              "2                   1       1      1  ...           1           0           0\n",
              "3                   1       3      0  ...           0           0           1\n",
              "4                   1       1      1  ...           0           0           1\n",
              "5                   0       3      0  ...           0           0           1\n",
              "\n",
              "[5 rows x 11 columns]"
            ]
          },
          "metadata": {
            "tags": []
          },
          "execution_count": 34
        }
      ]
    },
    {
      "cell_type": "code",
      "metadata": {
        "id": "OBmM44qjWfiG",
        "colab_type": "code",
        "colab": {
          "base_uri": "https://localhost:8080/",
          "height": 235
        },
        "outputId": "03b406ba-f133-4ce1-e240-345304bf810a"
      },
      "source": [
        "df_test_new.head()"
      ],
      "execution_count": null,
      "outputs": [
        {
          "output_type": "execute_result",
          "data": {
            "text/html": [
              "<div>\n",
              "<style scoped>\n",
              "    .dataframe tbody tr th:only-of-type {\n",
              "        vertical-align: middle;\n",
              "    }\n",
              "\n",
              "    .dataframe tbody tr th {\n",
              "        vertical-align: top;\n",
              "    }\n",
              "\n",
              "    .dataframe thead th {\n",
              "        text-align: right;\n",
              "    }\n",
              "</style>\n",
              "<table border=\"1\" class=\"dataframe\">\n",
              "  <thead>\n",
              "    <tr style=\"text-align: right;\">\n",
              "      <th></th>\n",
              "      <th>Pclass</th>\n",
              "      <th>SibSp</th>\n",
              "      <th>Parch</th>\n",
              "      <th>std_fare</th>\n",
              "      <th>std_age</th>\n",
              "      <th>Sex_female</th>\n",
              "      <th>Sex_male</th>\n",
              "      <th>Embarked_C</th>\n",
              "      <th>Embarked_Q</th>\n",
              "      <th>Embarked_S</th>\n",
              "    </tr>\n",
              "    <tr>\n",
              "      <th>PassengerId</th>\n",
              "      <th></th>\n",
              "      <th></th>\n",
              "      <th></th>\n",
              "      <th></th>\n",
              "      <th></th>\n",
              "      <th></th>\n",
              "      <th></th>\n",
              "      <th></th>\n",
              "      <th></th>\n",
              "      <th></th>\n",
              "    </tr>\n",
              "  </thead>\n",
              "  <tbody>\n",
              "    <tr>\n",
              "      <th>892</th>\n",
              "      <td>3</td>\n",
              "      <td>0</td>\n",
              "      <td>0</td>\n",
              "      <td>-0.490783</td>\n",
              "      <td>0.394887</td>\n",
              "      <td>0</td>\n",
              "      <td>1</td>\n",
              "      <td>0</td>\n",
              "      <td>1</td>\n",
              "      <td>0</td>\n",
              "    </tr>\n",
              "    <tr>\n",
              "      <th>893</th>\n",
              "      <td>3</td>\n",
              "      <td>1</td>\n",
              "      <td>0</td>\n",
              "      <td>-0.507479</td>\n",
              "      <td>1.355510</td>\n",
              "      <td>1</td>\n",
              "      <td>0</td>\n",
              "      <td>0</td>\n",
              "      <td>0</td>\n",
              "      <td>1</td>\n",
              "    </tr>\n",
              "    <tr>\n",
              "      <th>894</th>\n",
              "      <td>2</td>\n",
              "      <td>0</td>\n",
              "      <td>0</td>\n",
              "      <td>-0.453367</td>\n",
              "      <td>2.508257</td>\n",
              "      <td>0</td>\n",
              "      <td>1</td>\n",
              "      <td>0</td>\n",
              "      <td>1</td>\n",
              "      <td>0</td>\n",
              "    </tr>\n",
              "    <tr>\n",
              "      <th>895</th>\n",
              "      <td>3</td>\n",
              "      <td>0</td>\n",
              "      <td>0</td>\n",
              "      <td>-0.474005</td>\n",
              "      <td>-0.181487</td>\n",
              "      <td>0</td>\n",
              "      <td>1</td>\n",
              "      <td>0</td>\n",
              "      <td>0</td>\n",
              "      <td>1</td>\n",
              "    </tr>\n",
              "    <tr>\n",
              "      <th>896</th>\n",
              "      <td>3</td>\n",
              "      <td>1</td>\n",
              "      <td>1</td>\n",
              "      <td>-0.401017</td>\n",
              "      <td>-0.565736</td>\n",
              "      <td>1</td>\n",
              "      <td>0</td>\n",
              "      <td>0</td>\n",
              "      <td>0</td>\n",
              "      <td>1</td>\n",
              "    </tr>\n",
              "  </tbody>\n",
              "</table>\n",
              "</div>"
            ],
            "text/plain": [
              "             Pclass  SibSp  Parch  ...  Embarked_C  Embarked_Q  Embarked_S\n",
              "PassengerId                        ...                                    \n",
              "892               3      0      0  ...           0           1           0\n",
              "893               3      1      0  ...           0           0           1\n",
              "894               2      0      0  ...           0           1           0\n",
              "895               3      0      0  ...           0           0           1\n",
              "896               3      1      1  ...           0           0           1\n",
              "\n",
              "[5 rows x 10 columns]"
            ]
          },
          "metadata": {
            "tags": []
          },
          "execution_count": 35
        }
      ]
    },
    {
      "cell_type": "markdown",
      "metadata": {
        "id": "e5XZFqIhPkmi",
        "colab_type": "text"
      },
      "source": [
        "Agora está tudo pronto para aplicarmos o modelo de machine learning."
      ]
    },
    {
      "cell_type": "markdown",
      "metadata": {
        "id": "6ZAEQro5RUIw",
        "colab_type": "text"
      },
      "source": [
        "## **5.2 Aplicando modelo de regressão logística**"
      ]
    },
    {
      "cell_type": "markdown",
      "metadata": {
        "id": "xc9_mnEVPtiv",
        "colab_type": "text"
      },
      "source": [
        "Antes de começarmos a fazer o modelo irei explicar um pouco sobre o que vamos fazer. O correto seria separar o conjuto *df_train* em treino e teste. Isso porque poderiamos avaliar nosso modelo antes de enviarmos para o Kaggle, ou no caso poderia ser feito uma cross validation, este último ainda não aprendi muito bem. \n",
        "\n",
        "No entanto vou fazer algo mais direto, apenas treinar **(etapa estimator)** todo o conjunto em *df_train*, e realizar as previsões de *df_test* **(etapa predictor)**. Assim apenas utilizarei a métrica de quantidade de acertos disponibilizada pelo Kaggle. O intuíto é aprensetar um método mais simples de como vocês podem fazer um modelo de machine learing."
      ]
    },
    {
      "cell_type": "markdown",
      "metadata": {
        "id": "4T8QJRzNQ_f_",
        "colab_type": "text"
      },
      "source": [
        "### **Estimator**"
      ]
    },
    {
      "cell_type": "markdown",
      "metadata": {
        "id": "i_qeOnTKPwGT",
        "colab_type": "text"
      },
      "source": [
        "Como essa competição tem a a finalidade de prever (1-se a pessoa sobreviveu 0-se a pessoa morreu) sendo resultados binários, o modelo utilizado deve ser de Regressão Logística."
      ]
    },
    {
      "cell_type": "code",
      "metadata": {
        "id": "3ujly3kvlG3_",
        "colab_type": "code",
        "colab": {}
      },
      "source": [
        "#importanto biblioteca Machine Learning\n",
        "from sklearn.linear_model import LogisticRegression\n",
        "from sklearn.model_selection import train_test_split"
      ],
      "execution_count": null,
      "outputs": []
    },
    {
      "cell_type": "markdown",
      "metadata": {
        "id": "DiFoCYCpQvIW",
        "colab_type": "text"
      },
      "source": [
        "Abaixo foi separado o conjunto de dados df_all para poder ser utilizado para as previsões."
      ]
    },
    {
      "cell_type": "code",
      "metadata": {
        "id": "jsCAJZATaZ4B",
        "colab_type": "code",
        "colab": {}
      },
      "source": [
        "#separando conjunto\n",
        "y = df_train_new['Survived']\n",
        "df_train_new.drop('Survived', axis = 1, inplace = True)\n",
        "X = df_train_new"
      ],
      "execution_count": null,
      "outputs": []
    },
    {
      "cell_type": "code",
      "metadata": {
        "id": "1P6xLtS4REPQ",
        "colab_type": "code",
        "colab": {
          "base_uri": "https://localhost:8080/",
          "height": 286
        },
        "outputId": "7ca90ed8-67d1-4092-a929-fe7322770226"
      },
      "source": [
        "print('Conjunto de dados (variáveis independentes x) treino\\n\\n')\n",
        "X.head()"
      ],
      "execution_count": null,
      "outputs": [
        {
          "output_type": "stream",
          "text": [
            "Conjunto de dados (variáveis independentes x) treino\n",
            "\n",
            "\n"
          ],
          "name": "stdout"
        },
        {
          "output_type": "execute_result",
          "data": {
            "text/html": [
              "<div>\n",
              "<style scoped>\n",
              "    .dataframe tbody tr th:only-of-type {\n",
              "        vertical-align: middle;\n",
              "    }\n",
              "\n",
              "    .dataframe tbody tr th {\n",
              "        vertical-align: top;\n",
              "    }\n",
              "\n",
              "    .dataframe thead th {\n",
              "        text-align: right;\n",
              "    }\n",
              "</style>\n",
              "<table border=\"1\" class=\"dataframe\">\n",
              "  <thead>\n",
              "    <tr style=\"text-align: right;\">\n",
              "      <th></th>\n",
              "      <th>Pclass</th>\n",
              "      <th>SibSp</th>\n",
              "      <th>Parch</th>\n",
              "      <th>std_fare</th>\n",
              "      <th>std_age</th>\n",
              "      <th>Sex_female</th>\n",
              "      <th>Sex_male</th>\n",
              "      <th>Embarked_C</th>\n",
              "      <th>Embarked_Q</th>\n",
              "      <th>Embarked_S</th>\n",
              "    </tr>\n",
              "    <tr>\n",
              "      <th>PassengerId</th>\n",
              "      <th></th>\n",
              "      <th></th>\n",
              "      <th></th>\n",
              "      <th></th>\n",
              "      <th></th>\n",
              "      <th></th>\n",
              "      <th></th>\n",
              "      <th></th>\n",
              "      <th></th>\n",
              "      <th></th>\n",
              "    </tr>\n",
              "  </thead>\n",
              "  <tbody>\n",
              "    <tr>\n",
              "      <th>1</th>\n",
              "      <td>3</td>\n",
              "      <td>1</td>\n",
              "      <td>0</td>\n",
              "      <td>-0.502445</td>\n",
              "      <td>-0.565736</td>\n",
              "      <td>0</td>\n",
              "      <td>1</td>\n",
              "      <td>0</td>\n",
              "      <td>0</td>\n",
              "      <td>1</td>\n",
              "    </tr>\n",
              "    <tr>\n",
              "      <th>2</th>\n",
              "      <td>1</td>\n",
              "      <td>1</td>\n",
              "      <td>0</td>\n",
              "      <td>0.786845</td>\n",
              "      <td>0.663861</td>\n",
              "      <td>1</td>\n",
              "      <td>0</td>\n",
              "      <td>1</td>\n",
              "      <td>0</td>\n",
              "      <td>0</td>\n",
              "    </tr>\n",
              "    <tr>\n",
              "      <th>3</th>\n",
              "      <td>3</td>\n",
              "      <td>0</td>\n",
              "      <td>0</td>\n",
              "      <td>-0.488854</td>\n",
              "      <td>-0.258337</td>\n",
              "      <td>1</td>\n",
              "      <td>0</td>\n",
              "      <td>0</td>\n",
              "      <td>0</td>\n",
              "      <td>1</td>\n",
              "    </tr>\n",
              "    <tr>\n",
              "      <th>4</th>\n",
              "      <td>1</td>\n",
              "      <td>1</td>\n",
              "      <td>0</td>\n",
              "      <td>0.420730</td>\n",
              "      <td>0.433312</td>\n",
              "      <td>1</td>\n",
              "      <td>0</td>\n",
              "      <td>0</td>\n",
              "      <td>0</td>\n",
              "      <td>1</td>\n",
              "    </tr>\n",
              "    <tr>\n",
              "      <th>5</th>\n",
              "      <td>3</td>\n",
              "      <td>0</td>\n",
              "      <td>0</td>\n",
              "      <td>-0.486337</td>\n",
              "      <td>0.433312</td>\n",
              "      <td>0</td>\n",
              "      <td>1</td>\n",
              "      <td>0</td>\n",
              "      <td>0</td>\n",
              "      <td>1</td>\n",
              "    </tr>\n",
              "  </tbody>\n",
              "</table>\n",
              "</div>"
            ],
            "text/plain": [
              "             Pclass  SibSp  Parch  ...  Embarked_C  Embarked_Q  Embarked_S\n",
              "PassengerId                        ...                                    \n",
              "1                 3      1      0  ...           0           0           1\n",
              "2                 1      1      0  ...           1           0           0\n",
              "3                 3      0      0  ...           0           0           1\n",
              "4                 1      1      0  ...           0           0           1\n",
              "5                 3      0      0  ...           0           0           1\n",
              "\n",
              "[5 rows x 10 columns]"
            ]
          },
          "metadata": {
            "tags": []
          },
          "execution_count": 38
        }
      ]
    },
    {
      "cell_type": "code",
      "metadata": {
        "id": "IiKOeJ4TRH9B",
        "colab_type": "code",
        "colab": {
          "base_uri": "https://localhost:8080/",
          "height": 170
        },
        "outputId": "4d6b8fbd-f261-44c0-f239-b1b404a0a43c"
      },
      "source": [
        "print('Conjunto de dados (variáveis dependentes y) treino \\n')\n",
        "y.head()"
      ],
      "execution_count": null,
      "outputs": [
        {
          "output_type": "stream",
          "text": [
            "Conjunto de dados (variáveis dependentes y) treino \n",
            "\n"
          ],
          "name": "stdout"
        },
        {
          "output_type": "execute_result",
          "data": {
            "text/plain": [
              "PassengerId\n",
              "1    0\n",
              "2    1\n",
              "3    1\n",
              "4    1\n",
              "5    0\n",
              "Name: Survived, dtype: int64"
            ]
          },
          "metadata": {
            "tags": []
          },
          "execution_count": 39
        }
      ]
    },
    {
      "cell_type": "code",
      "metadata": {
        "id": "qg-CWbTGRLPm",
        "colab_type": "code",
        "colab": {
          "base_uri": "https://localhost:8080/",
          "height": 269
        },
        "outputId": "e29bb573-3ff7-47dc-b5da-43c3059e09b9"
      },
      "source": [
        "print('Conjunto de dados (variáveis independentes x) para teste e previsão das respostas para submissão do Kaggle \\n')\n",
        "df_test_new.head()"
      ],
      "execution_count": null,
      "outputs": [
        {
          "output_type": "stream",
          "text": [
            "Conjunto de dados (variáveis independentes x) para teste e previsão das respostas para submissão do Kaggle \n",
            "\n"
          ],
          "name": "stdout"
        },
        {
          "output_type": "execute_result",
          "data": {
            "text/html": [
              "<div>\n",
              "<style scoped>\n",
              "    .dataframe tbody tr th:only-of-type {\n",
              "        vertical-align: middle;\n",
              "    }\n",
              "\n",
              "    .dataframe tbody tr th {\n",
              "        vertical-align: top;\n",
              "    }\n",
              "\n",
              "    .dataframe thead th {\n",
              "        text-align: right;\n",
              "    }\n",
              "</style>\n",
              "<table border=\"1\" class=\"dataframe\">\n",
              "  <thead>\n",
              "    <tr style=\"text-align: right;\">\n",
              "      <th></th>\n",
              "      <th>Pclass</th>\n",
              "      <th>SibSp</th>\n",
              "      <th>Parch</th>\n",
              "      <th>std_fare</th>\n",
              "      <th>std_age</th>\n",
              "      <th>Sex_female</th>\n",
              "      <th>Sex_male</th>\n",
              "      <th>Embarked_C</th>\n",
              "      <th>Embarked_Q</th>\n",
              "      <th>Embarked_S</th>\n",
              "    </tr>\n",
              "    <tr>\n",
              "      <th>PassengerId</th>\n",
              "      <th></th>\n",
              "      <th></th>\n",
              "      <th></th>\n",
              "      <th></th>\n",
              "      <th></th>\n",
              "      <th></th>\n",
              "      <th></th>\n",
              "      <th></th>\n",
              "      <th></th>\n",
              "      <th></th>\n",
              "    </tr>\n",
              "  </thead>\n",
              "  <tbody>\n",
              "    <tr>\n",
              "      <th>892</th>\n",
              "      <td>3</td>\n",
              "      <td>0</td>\n",
              "      <td>0</td>\n",
              "      <td>-0.490783</td>\n",
              "      <td>0.394887</td>\n",
              "      <td>0</td>\n",
              "      <td>1</td>\n",
              "      <td>0</td>\n",
              "      <td>1</td>\n",
              "      <td>0</td>\n",
              "    </tr>\n",
              "    <tr>\n",
              "      <th>893</th>\n",
              "      <td>3</td>\n",
              "      <td>1</td>\n",
              "      <td>0</td>\n",
              "      <td>-0.507479</td>\n",
              "      <td>1.355510</td>\n",
              "      <td>1</td>\n",
              "      <td>0</td>\n",
              "      <td>0</td>\n",
              "      <td>0</td>\n",
              "      <td>1</td>\n",
              "    </tr>\n",
              "    <tr>\n",
              "      <th>894</th>\n",
              "      <td>2</td>\n",
              "      <td>0</td>\n",
              "      <td>0</td>\n",
              "      <td>-0.453367</td>\n",
              "      <td>2.508257</td>\n",
              "      <td>0</td>\n",
              "      <td>1</td>\n",
              "      <td>0</td>\n",
              "      <td>1</td>\n",
              "      <td>0</td>\n",
              "    </tr>\n",
              "    <tr>\n",
              "      <th>895</th>\n",
              "      <td>3</td>\n",
              "      <td>0</td>\n",
              "      <td>0</td>\n",
              "      <td>-0.474005</td>\n",
              "      <td>-0.181487</td>\n",
              "      <td>0</td>\n",
              "      <td>1</td>\n",
              "      <td>0</td>\n",
              "      <td>0</td>\n",
              "      <td>1</td>\n",
              "    </tr>\n",
              "    <tr>\n",
              "      <th>896</th>\n",
              "      <td>3</td>\n",
              "      <td>1</td>\n",
              "      <td>1</td>\n",
              "      <td>-0.401017</td>\n",
              "      <td>-0.565736</td>\n",
              "      <td>1</td>\n",
              "      <td>0</td>\n",
              "      <td>0</td>\n",
              "      <td>0</td>\n",
              "      <td>1</td>\n",
              "    </tr>\n",
              "  </tbody>\n",
              "</table>\n",
              "</div>"
            ],
            "text/plain": [
              "             Pclass  SibSp  Parch  ...  Embarked_C  Embarked_Q  Embarked_S\n",
              "PassengerId                        ...                                    \n",
              "892               3      0      0  ...           0           1           0\n",
              "893               3      1      0  ...           0           0           1\n",
              "894               2      0      0  ...           0           1           0\n",
              "895               3      0      0  ...           0           0           1\n",
              "896               3      1      1  ...           0           0           1\n",
              "\n",
              "[5 rows x 10 columns]"
            ]
          },
          "metadata": {
            "tags": []
          },
          "execution_count": 40
        }
      ]
    },
    {
      "cell_type": "markdown",
      "metadata": {
        "id": "RXc9wL2rikJ0",
        "colab_type": "text"
      },
      "source": [
        "Com todos DataFrame prontos podemos partir para treinar o modelo. Abaixo encontra-se a criação da instância ml_model para aprender a prever as pessoas que morreriam ou sobreviveriam ao naufrágio."
      ]
    },
    {
      "cell_type": "code",
      "metadata": {
        "id": "FHd0aX3Rq8Pl",
        "colab_type": "code",
        "colab": {
          "base_uri": "https://localhost:8080/",
          "height": 102
        },
        "outputId": "f290b810-a577-475e-b0fd-5dd5dd270d1d"
      },
      "source": [
        "#criando variável para treinar o modelo de machine learning\n",
        "ml_model = LogisticRegression()\n",
        "\n",
        "#treino do modelo \n",
        "ml_model.fit(X, y)"
      ],
      "execution_count": null,
      "outputs": [
        {
          "output_type": "execute_result",
          "data": {
            "text/plain": [
              "LogisticRegression(C=1.0, class_weight=None, dual=False, fit_intercept=True,\n",
              "                   intercept_scaling=1, l1_ratio=None, max_iter=100,\n",
              "                   multi_class='auto', n_jobs=None, penalty='l2',\n",
              "                   random_state=None, solver='lbfgs', tol=0.0001, verbose=0,\n",
              "                   warm_start=False)"
            ]
          },
          "metadata": {
            "tags": []
          },
          "execution_count": 41
        }
      ]
    },
    {
      "cell_type": "markdown",
      "metadata": {
        "id": "vk3M560njHlV",
        "colab_type": "text"
      },
      "source": [
        "Com o modelo treinado iremos utiliza-lo para prever quais pessoas do DataFrame test vão morrer ou sobreviver."
      ]
    },
    {
      "cell_type": "markdown",
      "metadata": {
        "id": "NTYPQa1xVyD5",
        "colab_type": "text"
      },
      "source": [
        "### **Predictor**"
      ]
    },
    {
      "cell_type": "code",
      "metadata": {
        "id": "9OD1Abqos9jr",
        "colab_type": "code",
        "colab": {}
      },
      "source": [
        "#previsão das respostas\n",
        "y_pred = ml_model.predict(df_test_new)"
      ],
      "execution_count": null,
      "outputs": []
    },
    {
      "cell_type": "markdown",
      "metadata": {
        "id": "4W9VBGHOjYGD",
        "colab_type": "text"
      },
      "source": [
        "Pronto!!! foi feita a previsão e temos as respostas, deve-se concatenar tudo em um arquivo como mostrado abaixo para realizar a submissão."
      ]
    },
    {
      "cell_type": "code",
      "metadata": {
        "id": "uO76QbK3vlnh",
        "colab_type": "code",
        "colab": {
          "base_uri": "https://localhost:8080/",
          "height": 204
        },
        "outputId": "8f5ff3e6-091a-4680-e1dd-b5fae003ee8e"
      },
      "source": [
        "#criando arquivo csv para submissão\n",
        "sub = pd.DataFrame(data=PassengerId)\n",
        "sub['Survived'] = y_pred\n",
        "\n",
        "sub.to_csv('sub.csv', index=False, sep=',')\n",
        "\n",
        "sub.head()"
      ],
      "execution_count": null,
      "outputs": [
        {
          "output_type": "execute_result",
          "data": {
            "text/html": [
              "<div>\n",
              "<style scoped>\n",
              "    .dataframe tbody tr th:only-of-type {\n",
              "        vertical-align: middle;\n",
              "    }\n",
              "\n",
              "    .dataframe tbody tr th {\n",
              "        vertical-align: top;\n",
              "    }\n",
              "\n",
              "    .dataframe thead th {\n",
              "        text-align: right;\n",
              "    }\n",
              "</style>\n",
              "<table border=\"1\" class=\"dataframe\">\n",
              "  <thead>\n",
              "    <tr style=\"text-align: right;\">\n",
              "      <th></th>\n",
              "      <th>PassengerId</th>\n",
              "      <th>Survived</th>\n",
              "    </tr>\n",
              "  </thead>\n",
              "  <tbody>\n",
              "    <tr>\n",
              "      <th>0</th>\n",
              "      <td>892</td>\n",
              "      <td>0</td>\n",
              "    </tr>\n",
              "    <tr>\n",
              "      <th>1</th>\n",
              "      <td>893</td>\n",
              "      <td>0</td>\n",
              "    </tr>\n",
              "    <tr>\n",
              "      <th>2</th>\n",
              "      <td>894</td>\n",
              "      <td>0</td>\n",
              "    </tr>\n",
              "    <tr>\n",
              "      <th>3</th>\n",
              "      <td>895</td>\n",
              "      <td>0</td>\n",
              "    </tr>\n",
              "    <tr>\n",
              "      <th>4</th>\n",
              "      <td>896</td>\n",
              "      <td>1</td>\n",
              "    </tr>\n",
              "  </tbody>\n",
              "</table>\n",
              "</div>"
            ],
            "text/plain": [
              "   PassengerId  Survived\n",
              "0          892         0\n",
              "1          893         0\n",
              "2          894         0\n",
              "3          895         0\n",
              "4          896         1"
            ]
          },
          "metadata": {
            "tags": []
          },
          "execution_count": 43
        }
      ]
    },
    {
      "cell_type": "markdown",
      "metadata": {
        "id": "6M79zWm4obXY",
        "colab_type": "text"
      },
      "source": [
        "De acordo com a previsão realizada, o score obitido foi de:\n",
        "\n",
        "**Score = 0.76555**\n"
      ]
    },
    {
      "cell_type": "markdown",
      "metadata": {
        "id": "k86a6uBuhezG",
        "colab_type": "text"
      },
      "source": [
        "# **6. Conclusão**"
      ]
    },
    {
      "cell_type": "markdown",
      "metadata": {
        "id": "9LjUa1NJAJDf",
        "colab_type": "text"
      },
      "source": [
        "Através de uma análise em relação a três variáveis do conjunto de dados, sexo, idade e condição financeira, concluímos resultados interessantes, por exemplo:\n",
        "\n",
        "* Salvar as vidas das mulheres foi muito mais importante do que homens\n",
        "* Ter um condição financeira alta também ajudava na sobrevivência\n",
        "* E crianças também foram salvadas.\n",
        "\n",
        "Pelo visto as transformações não atrapalharam nosso modelo de machine learning, como exemplo, padronização, substituição de dados ausentes e transformações dos dados categóricos. Claro o certo seria fazermos diferentes tipos de transformações e verificarmos quais trariam o melhor resultado, mas com o que fizemos já obtivemos um bom resultado.\n",
        "\n",
        "Por último, concluímos que foi feito um modelo de *machine learning* de regressão logística foi aplicado com sucesso. O resultado obtido foi de 76,555% de acerto, claro esse resultado pode ser melhorado e otimizado para obter mais acertos, mas com um modelo simples já foi obtido um resultado bem interessante.\n",
        "\n"
      ]
    },
    {
      "cell_type": "markdown",
      "metadata": {
        "id": "SG9V0NQESCWj",
        "colab_type": "text"
      },
      "source": [
        "# Espero que tenham gostado do projeto e agradeço a quem leu, até mais!!!"
      ]
    },
    {
      "cell_type": "markdown",
      "metadata": {
        "id": "kPcjoiqOSNlT",
        "colab_type": "text"
      },
      "source": [
        "![texto alternativo](https://image.freepik.com/free-vector/end-neon-signs-style-text_118419-1389.jpg)"
      ]
    }
  ]
}