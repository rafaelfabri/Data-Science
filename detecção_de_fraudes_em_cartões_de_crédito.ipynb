{
  "nbformat": 4,
  "nbformat_minor": 0,
  "metadata": {
    "colab": {
      "name": "Cópia de my_detececao.ipynb",
      "provenance": [],
      "collapsed_sections": [],
      "authorship_tag": "ABX9TyMN0BO/xtHgJmsuOQC80XJk",
      "include_colab_link": true
    },
    "kernelspec": {
      "name": "python3",
      "display_name": "Python 3"
    }
  },
  "cells": [
    {
      "cell_type": "markdown",
      "metadata": {
        "id": "view-in-github",
        "colab_type": "text"
      },
      "source": [
        "<a href=\"https://colab.research.google.com/github/rafaelfabri/Data-Science/blob/master/detec%C3%A7%C3%A3o_de_fraudes_em_cart%C3%B5es_de_cr%C3%A9dito.ipynb\" target=\"_parent\"><img src=\"https://colab.research.google.com/assets/colab-badge.svg\" alt=\"Open In Colab\"/></a>"
      ]
    },
    {
      "cell_type": "markdown",
      "metadata": {
        "id": "vRs3N8APByiM",
        "colab_type": "text"
      },
      "source": [
        "# **Detecção de Fraude de Cartões de Créditos**"
      ]
    },
    {
      "cell_type": "markdown",
      "metadata": {
        "id": "OfymHvt52sOB",
        "colab_type": "text"
      },
      "source": [
        "## **1. Introdução** \n",
        "\n",
        "Neste projeto foi estudado a detecção de fraudes de cartões de crédito, atualmente os bancos utilizam sistemas para prever quando um criminoso roubou ou hackeou o cartão de crédito de um respectivo cliente, assim se o sistema inferir que a transação está sendo feita por criminosos o cartão é bloqueado.\n",
        "\n",
        "De acordo com informações do jornal [(oglobo)](https://oglobo.globo.com/economia/defesa-do-consumidor/clonagem-de-cartao-de-credito-a-fraude-mais-comum-no-pais-23676676) em um período de 12 meses entre _(03/2018 à 03/2019)_ ocorreu um número de 8,9 milhões de fraudes.\n",
        "\n",
        "Já jornal online [(extra)](https://extra.globo.com/noticias/economia/fraudes-financeiras-geraram-um-prejuizo-de-cerca-de-18-bilhao-em-12-meses-23908141.html) afirma que em um período de 12 meses os bancos tiveram um prejuízo financeiro de 1,8 bilhões de reais no Brasil.\n",
        "\n",
        "![alt text](https://conteudo.imguol.com.br/c/noticias/79/2017/11/16/cartao-de-credito-cartao-de-debito-cartoes-1510842383867_1920x1080.jpg)"
      ]
    },
    {
      "cell_type": "markdown",
      "metadata": {
        "id": "vV9ifv-D4S-l",
        "colab_type": "text"
      },
      "source": [
        "Esses sistemas de bloqueio de cartões é um ótimo meio de segurança para os clientes de banco no mundo todo, porém como todo sistema informatizado também é suscetível a erros.\n",
        "\n",
        "Um desses erros pode incomodar muito o próprio cliente, pois quem já não passou pela situação de passar o cartão em uma compra diferente, ou em um horário atípico e ter o problema do cartão ser bloqueado erroneamente. Isso ocorre, pois o banco acreditou que a pessoa que utilizou o cartão não era você, mas sim um criminoso, com certeza isso é muito constrangedor e incomodo para os clientes. Existe outro incomodo também, quem não passou por uma situação onde se deparou com compras diferentes não feitas respectivamente por esse dono do próprio cartão, tendo como resultado que alguém acabou clonando o seu cartão.\n",
        "\n",
        "\n",
        "![alt text](https://image.freepik.com/free-vector/quality-levels-knob-button-wireframe-hand-turning-quality-level-knob-maximum-position_127544-128.jpg)\n",
        "\n",
        "Atualmente as empresas possuem em sua cultura organizacional o foco no cliente, pois é a satisfação do cliente que traz o lucro e competitividade as grandes companhias, e isso não são diferentes em bancos. \n",
        "\n",
        "Como os bancos são empresas de serviços, os clientes acabam tendo alta visibilidade da empresa, pois estão em contato direto com os serviços. Dessa maneira acaba surgindo maiores desafios no comprometimento com a qualidade, foco no cliente, confiabilidade, flexibilidade, rapidez e entre outros indicadores para que este banco seja competitivo no mercado, e claramente a área de detecção de fraudes está interligada com esses indicadores, pois estes podem trazer insatisfações para clientes caso não sejam bem executada. \n",
        "\n",
        "\n",
        "Assim atualmente surgiu um desafio para os bancos que estão começando a utilizar modelos de **_machine learning_** para detecção de fraudes bancarias, o que pode aumentar a precisão destes sistemas e assim melhorar a satisfação de seus clientes."
      ]
    },
    {
      "cell_type": "markdown",
      "metadata": {
        "id": "t46Xpkp8EEGq",
        "colab_type": "text"
      },
      "source": [
        "## **Sumário**\n",
        "\n",
        "* 1. Introdução\n",
        "* 2. Objetivo\n",
        "* 3. Dados\n",
        "  * 3.1 Importação dos dados\n",
        "* 4. Análise exploratória\n",
        "  * 4.1 Visualização do data set\n",
        "  * 4.2 Descrição estatística de cada variável\n",
        "  * 4.3 Dados ausentes\n",
        "  * 4.4 Dados desbalanceados\n",
        "  * 4.5 Histogramas\n",
        "  * 4.6 Correlações\n",
        "* 5. Soluções para dataset\n",
        "  * 5.1 Pontos discrepantes na variável Amount\n",
        "  * 5.2 Desbalancemento de dados\n",
        "* 6. Machine Learning\n",
        "  * 6.1 Aplicando modelo de machine learning\n",
        "    * 6.1.1 Modelo de ML sem o balancemento de dados\n",
        "    * 6.1.2 Modelo de ML com o balancemento de dados\n",
        "      * 6.1.2.1 Modelo de ML com o balancemento de dados através do Over Sampling\n",
        "      * 6.1.2.2 Modelo de ML com o balancemento de dados através do Under Sampling\n",
        "  * 6.2 Discussão de perspectiva da empresa através do modelo de ML\n",
        "\n",
        "\n"
      ]
    },
    {
      "cell_type": "markdown",
      "metadata": {
        "id": "ZC9UG65RD_rL",
        "colab_type": "text"
      },
      "source": [
        "## **2. Objetivo** "
      ]
    },
    {
      "cell_type": "markdown",
      "metadata": {
        "id": "kwTTc2qelzLs",
        "colab_type": "text"
      },
      "source": [
        "![alt text](https://image.freepik.com/free-photo/business-strategy-success-target-goals_1421-33.jpg)"
      ]
    },
    {
      "cell_type": "markdown",
      "metadata": {
        "id": "pgfEiMt6ECuw",
        "colab_type": "text"
      },
      "source": [
        "Objetivo deste projeto é primeiramente fazer uma análise exploratória referente ao *dataset*, com o intuito de entender melhor o conjunto de dados, e verificar se há possíveis problemas antes de criar o modelo de *machine learning*.\n",
        "\n",
        "Já na criação do modelo o objetivo é verificar o problema de não realizar o balanceamento de dados e um *dataset*, e a comparação entre dois métodos utilizados para resolver este problema, chamados *Under Sampling* e *Over Sampling*.\n",
        "\n",
        "Além disso esse é o meu premeiro projeto de machine learning, logo tenho altas expectativas de aprendizado e desenvolvimento."
      ]
    },
    {
      "cell_type": "markdown",
      "metadata": {
        "id": "hzl7rCjD91IA",
        "colab_type": "text"
      },
      "source": [
        "## **3. Dados**\n",
        "\n",
        "Os dados foram obtidos através de uma das competições do Kaggle. Os dados são referentes a setembro de 2013 referentes aos cartões de pessoas européias. \n",
        "\n",
        "Existe um problema relacionado a esse conjunto de dados, que é o desbalanceamento de dados, durante o período de avaliação houve 492 fraudes entre 284.807 transações no total. A solução deste problema será mostrada ainda neste projeto.\n",
        "\n",
        "Outro ponto a se ressaltar em relação a esse _data set_ é que houve uma transformação PCA, isto é feito com intuito de diminuir o número de variáveis/coluna e também de confidenciar as informações dos respectivos clientes, logo as colunas possuem nomes V1, V2, V3 e etc.\n",
        "\n",
        "Para mais informações, o _data set_ foi retirado deste [link](https://www.kaggle.com/mlg-ulb/creditcardfraud)."
      ]
    },
    {
      "cell_type": "markdown",
      "metadata": {
        "id": "o1l1gKUuEKJT",
        "colab_type": "text"
      },
      "source": [
        "### **3.1 Importação dos dados**"
      ]
    },
    {
      "cell_type": "code",
      "metadata": {
        "id": "dPZD0GZ9EWT8",
        "colab_type": "code",
        "colab": {}
      },
      "source": [
        "import pandas as pd\n",
        "import matplotlib.pyplot as plt\n",
        "import seaborn as sns\n",
        "import numpy as np"
      ],
      "execution_count": 0,
      "outputs": []
    },
    {
      "cell_type": "code",
      "metadata": {
        "id": "4QzlNyT1EmcO",
        "colab_type": "code",
        "colab": {}
      },
      "source": [
        "df = pd.read_csv('https://www.dropbox.com/s/b44o3t3ehmnx2b7/creditcard.csv?dl=1')"
      ],
      "execution_count": 0,
      "outputs": []
    },
    {
      "cell_type": "markdown",
      "metadata": {
        "id": "xJZ5l2MfEyqI",
        "colab_type": "text"
      },
      "source": [
        "## **4. Análise exploratória**"
      ]
    },
    {
      "cell_type": "markdown",
      "metadata": {
        "id": "wBNCGSZd2Di7",
        "colab_type": "text"
      },
      "source": [
        "![alt text](https://image.freepik.com/free-vector/statistics-concept-illustration_114360-172.jpg)\n",
        "\n",
        "Neste tópico foi realizado uma análise exploratória de dados, com o objetivo de ter uma melhor percepção e entendimento do conjunto de dados estudado. Outro motivo de se realizar uma análise exploratória é com o intuito de descobrir se há outliers (pontos discrepantes) e dados ausentes, estes que podem prejudicar o modelo de *machine learning*.\n",
        "\n",
        "Foram realizados neste projeto algumas análises como descrição estatísticas das variáveis, ausência de dados, matriz de correlação e entre outras."
      ]
    },
    {
      "cell_type": "markdown",
      "metadata": {
        "id": "EN6VW6jx3hV2",
        "colab_type": "text"
      },
      "source": [
        "### **4.1 Visualização do data set**"
      ]
    },
    {
      "cell_type": "markdown",
      "metadata": {
        "id": "_pRmlKIb2yWT",
        "colab_type": "text"
      },
      "source": [
        "Abaixo é possível visualizar as 5 primeiras linhas do _data set_, nesta também pode-se notar que praticamente todas as colunas estão sendo mencionadas de v1 a v28 com intuito de mante-las anônimas para proteção dos clientes.\n",
        "\n",
        "É possível verificar que apenas a coluna *Time, Amount e Class* não foram colocadas de maneira anônima."
      ]
    },
    {
      "cell_type": "code",
      "metadata": {
        "id": "fm6sIjBgE8QV",
        "colab_type": "code",
        "outputId": "3cb5bbfb-c3c2-4af9-ba76-5221a78211a0",
        "colab": {
          "base_uri": "https://localhost:8080/",
          "height": 224
        }
      },
      "source": [
        "df.head()"
      ],
      "execution_count": 0,
      "outputs": [
        {
          "output_type": "execute_result",
          "data": {
            "text/html": [
              "<div>\n",
              "<style scoped>\n",
              "    .dataframe tbody tr th:only-of-type {\n",
              "        vertical-align: middle;\n",
              "    }\n",
              "\n",
              "    .dataframe tbody tr th {\n",
              "        vertical-align: top;\n",
              "    }\n",
              "\n",
              "    .dataframe thead th {\n",
              "        text-align: right;\n",
              "    }\n",
              "</style>\n",
              "<table border=\"1\" class=\"dataframe\">\n",
              "  <thead>\n",
              "    <tr style=\"text-align: right;\">\n",
              "      <th></th>\n",
              "      <th>Time</th>\n",
              "      <th>V1</th>\n",
              "      <th>V2</th>\n",
              "      <th>V3</th>\n",
              "      <th>V4</th>\n",
              "      <th>V5</th>\n",
              "      <th>V6</th>\n",
              "      <th>V7</th>\n",
              "      <th>V8</th>\n",
              "      <th>V9</th>\n",
              "      <th>V10</th>\n",
              "      <th>V11</th>\n",
              "      <th>V12</th>\n",
              "      <th>V13</th>\n",
              "      <th>V14</th>\n",
              "      <th>V15</th>\n",
              "      <th>V16</th>\n",
              "      <th>V17</th>\n",
              "      <th>V18</th>\n",
              "      <th>V19</th>\n",
              "      <th>V20</th>\n",
              "      <th>V21</th>\n",
              "      <th>V22</th>\n",
              "      <th>V23</th>\n",
              "      <th>V24</th>\n",
              "      <th>V25</th>\n",
              "      <th>V26</th>\n",
              "      <th>V27</th>\n",
              "      <th>V28</th>\n",
              "      <th>Amount</th>\n",
              "      <th>Class</th>\n",
              "    </tr>\n",
              "  </thead>\n",
              "  <tbody>\n",
              "    <tr>\n",
              "      <th>0</th>\n",
              "      <td>0.0</td>\n",
              "      <td>-1.359807</td>\n",
              "      <td>-0.072781</td>\n",
              "      <td>2.536347</td>\n",
              "      <td>1.378155</td>\n",
              "      <td>-0.338321</td>\n",
              "      <td>0.462388</td>\n",
              "      <td>0.239599</td>\n",
              "      <td>0.098698</td>\n",
              "      <td>0.363787</td>\n",
              "      <td>0.090794</td>\n",
              "      <td>-0.551600</td>\n",
              "      <td>-0.617801</td>\n",
              "      <td>-0.991390</td>\n",
              "      <td>-0.311169</td>\n",
              "      <td>1.468177</td>\n",
              "      <td>-0.470401</td>\n",
              "      <td>0.207971</td>\n",
              "      <td>0.025791</td>\n",
              "      <td>0.403993</td>\n",
              "      <td>0.251412</td>\n",
              "      <td>-0.018307</td>\n",
              "      <td>0.277838</td>\n",
              "      <td>-0.110474</td>\n",
              "      <td>0.066928</td>\n",
              "      <td>0.128539</td>\n",
              "      <td>-0.189115</td>\n",
              "      <td>0.133558</td>\n",
              "      <td>-0.021053</td>\n",
              "      <td>149.62</td>\n",
              "      <td>0</td>\n",
              "    </tr>\n",
              "    <tr>\n",
              "      <th>1</th>\n",
              "      <td>0.0</td>\n",
              "      <td>1.191857</td>\n",
              "      <td>0.266151</td>\n",
              "      <td>0.166480</td>\n",
              "      <td>0.448154</td>\n",
              "      <td>0.060018</td>\n",
              "      <td>-0.082361</td>\n",
              "      <td>-0.078803</td>\n",
              "      <td>0.085102</td>\n",
              "      <td>-0.255425</td>\n",
              "      <td>-0.166974</td>\n",
              "      <td>1.612727</td>\n",
              "      <td>1.065235</td>\n",
              "      <td>0.489095</td>\n",
              "      <td>-0.143772</td>\n",
              "      <td>0.635558</td>\n",
              "      <td>0.463917</td>\n",
              "      <td>-0.114805</td>\n",
              "      <td>-0.183361</td>\n",
              "      <td>-0.145783</td>\n",
              "      <td>-0.069083</td>\n",
              "      <td>-0.225775</td>\n",
              "      <td>-0.638672</td>\n",
              "      <td>0.101288</td>\n",
              "      <td>-0.339846</td>\n",
              "      <td>0.167170</td>\n",
              "      <td>0.125895</td>\n",
              "      <td>-0.008983</td>\n",
              "      <td>0.014724</td>\n",
              "      <td>2.69</td>\n",
              "      <td>0</td>\n",
              "    </tr>\n",
              "    <tr>\n",
              "      <th>2</th>\n",
              "      <td>1.0</td>\n",
              "      <td>-1.358354</td>\n",
              "      <td>-1.340163</td>\n",
              "      <td>1.773209</td>\n",
              "      <td>0.379780</td>\n",
              "      <td>-0.503198</td>\n",
              "      <td>1.800499</td>\n",
              "      <td>0.791461</td>\n",
              "      <td>0.247676</td>\n",
              "      <td>-1.514654</td>\n",
              "      <td>0.207643</td>\n",
              "      <td>0.624501</td>\n",
              "      <td>0.066084</td>\n",
              "      <td>0.717293</td>\n",
              "      <td>-0.165946</td>\n",
              "      <td>2.345865</td>\n",
              "      <td>-2.890083</td>\n",
              "      <td>1.109969</td>\n",
              "      <td>-0.121359</td>\n",
              "      <td>-2.261857</td>\n",
              "      <td>0.524980</td>\n",
              "      <td>0.247998</td>\n",
              "      <td>0.771679</td>\n",
              "      <td>0.909412</td>\n",
              "      <td>-0.689281</td>\n",
              "      <td>-0.327642</td>\n",
              "      <td>-0.139097</td>\n",
              "      <td>-0.055353</td>\n",
              "      <td>-0.059752</td>\n",
              "      <td>378.66</td>\n",
              "      <td>0</td>\n",
              "    </tr>\n",
              "    <tr>\n",
              "      <th>3</th>\n",
              "      <td>1.0</td>\n",
              "      <td>-0.966272</td>\n",
              "      <td>-0.185226</td>\n",
              "      <td>1.792993</td>\n",
              "      <td>-0.863291</td>\n",
              "      <td>-0.010309</td>\n",
              "      <td>1.247203</td>\n",
              "      <td>0.237609</td>\n",
              "      <td>0.377436</td>\n",
              "      <td>-1.387024</td>\n",
              "      <td>-0.054952</td>\n",
              "      <td>-0.226487</td>\n",
              "      <td>0.178228</td>\n",
              "      <td>0.507757</td>\n",
              "      <td>-0.287924</td>\n",
              "      <td>-0.631418</td>\n",
              "      <td>-1.059647</td>\n",
              "      <td>-0.684093</td>\n",
              "      <td>1.965775</td>\n",
              "      <td>-1.232622</td>\n",
              "      <td>-0.208038</td>\n",
              "      <td>-0.108300</td>\n",
              "      <td>0.005274</td>\n",
              "      <td>-0.190321</td>\n",
              "      <td>-1.175575</td>\n",
              "      <td>0.647376</td>\n",
              "      <td>-0.221929</td>\n",
              "      <td>0.062723</td>\n",
              "      <td>0.061458</td>\n",
              "      <td>123.50</td>\n",
              "      <td>0</td>\n",
              "    </tr>\n",
              "    <tr>\n",
              "      <th>4</th>\n",
              "      <td>2.0</td>\n",
              "      <td>-1.158233</td>\n",
              "      <td>0.877737</td>\n",
              "      <td>1.548718</td>\n",
              "      <td>0.403034</td>\n",
              "      <td>-0.407193</td>\n",
              "      <td>0.095921</td>\n",
              "      <td>0.592941</td>\n",
              "      <td>-0.270533</td>\n",
              "      <td>0.817739</td>\n",
              "      <td>0.753074</td>\n",
              "      <td>-0.822843</td>\n",
              "      <td>0.538196</td>\n",
              "      <td>1.345852</td>\n",
              "      <td>-1.119670</td>\n",
              "      <td>0.175121</td>\n",
              "      <td>-0.451449</td>\n",
              "      <td>-0.237033</td>\n",
              "      <td>-0.038195</td>\n",
              "      <td>0.803487</td>\n",
              "      <td>0.408542</td>\n",
              "      <td>-0.009431</td>\n",
              "      <td>0.798278</td>\n",
              "      <td>-0.137458</td>\n",
              "      <td>0.141267</td>\n",
              "      <td>-0.206010</td>\n",
              "      <td>0.502292</td>\n",
              "      <td>0.219422</td>\n",
              "      <td>0.215153</td>\n",
              "      <td>69.99</td>\n",
              "      <td>0</td>\n",
              "    </tr>\n",
              "  </tbody>\n",
              "</table>\n",
              "</div>"
            ],
            "text/plain": [
              "   Time        V1        V2        V3  ...       V27       V28  Amount  Class\n",
              "0   0.0 -1.359807 -0.072781  2.536347  ...  0.133558 -0.021053  149.62      0\n",
              "1   0.0  1.191857  0.266151  0.166480  ... -0.008983  0.014724    2.69      0\n",
              "2   1.0 -1.358354 -1.340163  1.773209  ... -0.055353 -0.059752  378.66      0\n",
              "3   1.0 -0.966272 -0.185226  1.792993  ...  0.062723  0.061458  123.50      0\n",
              "4   2.0 -1.158233  0.877737  1.548718  ...  0.219422  0.215153   69.99      0\n",
              "\n",
              "[5 rows x 31 columns]"
            ]
          },
          "metadata": {
            "tags": []
          },
          "execution_count": 3
        }
      ]
    },
    {
      "cell_type": "markdown",
      "metadata": {
        "id": "jM_S_7074kAW",
        "colab_type": "text"
      },
      "source": [
        "**Descricão de variáveis**\n",
        "\n",
        "* time - Número de segundos decorridos entre esta transação e a primeira transação no conjunto de dados\n",
        "* amount - Valor da transação\n",
        "* class - 1 para transações fraudulentas, 0 caso contrário"
      ]
    },
    {
      "cell_type": "markdown",
      "metadata": {
        "id": "835fd0JS3mCt",
        "colab_type": "text"
      },
      "source": [
        "**Quantidade de linhas e colunas**"
      ]
    },
    {
      "cell_type": "code",
      "metadata": {
        "id": "8k_Z3amvE9aa",
        "colab_type": "code",
        "outputId": "7cdd5790-490a-4a9e-e282-e102acaf7e01",
        "colab": {
          "base_uri": "https://localhost:8080/",
          "height": 51
        }
      },
      "source": [
        "print('quantidade de linhas \\t\\t\\t', df.shape[0])\n",
        "print('quantidade de colunas/variáveis \\t', df.shape[1])"
      ],
      "execution_count": 0,
      "outputs": [
        {
          "output_type": "stream",
          "text": [
            "quantidade de linhas \t\t\t 284807\n",
            "quantidade de colunas/variáveis \t 31\n"
          ],
          "name": "stdout"
        }
      ]
    },
    {
      "cell_type": "markdown",
      "metadata": {
        "id": "MuoDXIkz5A4U",
        "colab_type": "text"
      },
      "source": [
        "### **4.2 Descrição estatística de cada variável**"
      ]
    },
    {
      "cell_type": "markdown",
      "metadata": {
        "id": "8vzHvACO5IEX",
        "colab_type": "text"
      },
      "source": [
        "Abaixo é mostrado os resultados estatísticos de cada variável.\n",
        "\n",
        "Deve-se ter atenção nas variáveis *Amount*, para a variável time não é necessário verificar, pois este é o número de segundos decorridos entre esta transação e a primeira transação no conjunto de dados, logo este valor não irá ter uma média normal por ser uma variável tempo e também uma variável aleatória."
      ]
    },
    {
      "cell_type": "code",
      "metadata": {
        "id": "bbsfXiqjE_Jj",
        "colab_type": "code",
        "outputId": "f5639c62-ab9f-425d-9fff-dc784b0734ba",
        "colab": {
          "base_uri": "https://localhost:8080/",
          "height": 317
        }
      },
      "source": [
        "df.describe()"
      ],
      "execution_count": 0,
      "outputs": [
        {
          "output_type": "execute_result",
          "data": {
            "text/html": [
              "<div>\n",
              "<style scoped>\n",
              "    .dataframe tbody tr th:only-of-type {\n",
              "        vertical-align: middle;\n",
              "    }\n",
              "\n",
              "    .dataframe tbody tr th {\n",
              "        vertical-align: top;\n",
              "    }\n",
              "\n",
              "    .dataframe thead th {\n",
              "        text-align: right;\n",
              "    }\n",
              "</style>\n",
              "<table border=\"1\" class=\"dataframe\">\n",
              "  <thead>\n",
              "    <tr style=\"text-align: right;\">\n",
              "      <th></th>\n",
              "      <th>Time</th>\n",
              "      <th>V1</th>\n",
              "      <th>V2</th>\n",
              "      <th>V3</th>\n",
              "      <th>V4</th>\n",
              "      <th>V5</th>\n",
              "      <th>V6</th>\n",
              "      <th>V7</th>\n",
              "      <th>V8</th>\n",
              "      <th>V9</th>\n",
              "      <th>V10</th>\n",
              "      <th>V11</th>\n",
              "      <th>V12</th>\n",
              "      <th>V13</th>\n",
              "      <th>V14</th>\n",
              "      <th>V15</th>\n",
              "      <th>V16</th>\n",
              "      <th>V17</th>\n",
              "      <th>V18</th>\n",
              "      <th>V19</th>\n",
              "      <th>V20</th>\n",
              "      <th>V21</th>\n",
              "      <th>V22</th>\n",
              "      <th>V23</th>\n",
              "      <th>V24</th>\n",
              "      <th>V25</th>\n",
              "      <th>V26</th>\n",
              "      <th>V27</th>\n",
              "      <th>V28</th>\n",
              "      <th>Amount</th>\n",
              "      <th>Class</th>\n",
              "    </tr>\n",
              "  </thead>\n",
              "  <tbody>\n",
              "    <tr>\n",
              "      <th>count</th>\n",
              "      <td>284807.000000</td>\n",
              "      <td>2.848070e+05</td>\n",
              "      <td>2.848070e+05</td>\n",
              "      <td>2.848070e+05</td>\n",
              "      <td>2.848070e+05</td>\n",
              "      <td>2.848070e+05</td>\n",
              "      <td>2.848070e+05</td>\n",
              "      <td>2.848070e+05</td>\n",
              "      <td>2.848070e+05</td>\n",
              "      <td>2.848070e+05</td>\n",
              "      <td>2.848070e+05</td>\n",
              "      <td>2.848070e+05</td>\n",
              "      <td>2.848070e+05</td>\n",
              "      <td>2.848070e+05</td>\n",
              "      <td>2.848070e+05</td>\n",
              "      <td>2.848070e+05</td>\n",
              "      <td>2.848070e+05</td>\n",
              "      <td>2.848070e+05</td>\n",
              "      <td>2.848070e+05</td>\n",
              "      <td>2.848070e+05</td>\n",
              "      <td>2.848070e+05</td>\n",
              "      <td>2.848070e+05</td>\n",
              "      <td>2.848070e+05</td>\n",
              "      <td>2.848070e+05</td>\n",
              "      <td>2.848070e+05</td>\n",
              "      <td>2.848070e+05</td>\n",
              "      <td>2.848070e+05</td>\n",
              "      <td>2.848070e+05</td>\n",
              "      <td>2.848070e+05</td>\n",
              "      <td>284807.000000</td>\n",
              "      <td>284807.000000</td>\n",
              "    </tr>\n",
              "    <tr>\n",
              "      <th>mean</th>\n",
              "      <td>94813.859575</td>\n",
              "      <td>3.919560e-15</td>\n",
              "      <td>5.688174e-16</td>\n",
              "      <td>-8.769071e-15</td>\n",
              "      <td>2.782312e-15</td>\n",
              "      <td>-1.552563e-15</td>\n",
              "      <td>2.010663e-15</td>\n",
              "      <td>-1.694249e-15</td>\n",
              "      <td>-1.927028e-16</td>\n",
              "      <td>-3.137024e-15</td>\n",
              "      <td>1.768627e-15</td>\n",
              "      <td>9.170318e-16</td>\n",
              "      <td>-1.810658e-15</td>\n",
              "      <td>1.693438e-15</td>\n",
              "      <td>1.479045e-15</td>\n",
              "      <td>3.482336e-15</td>\n",
              "      <td>1.392007e-15</td>\n",
              "      <td>-7.528491e-16</td>\n",
              "      <td>4.328772e-16</td>\n",
              "      <td>9.049732e-16</td>\n",
              "      <td>5.085503e-16</td>\n",
              "      <td>1.537294e-16</td>\n",
              "      <td>7.959909e-16</td>\n",
              "      <td>5.367590e-16</td>\n",
              "      <td>4.458112e-15</td>\n",
              "      <td>1.453003e-15</td>\n",
              "      <td>1.699104e-15</td>\n",
              "      <td>-3.660161e-16</td>\n",
              "      <td>-1.206049e-16</td>\n",
              "      <td>88.349619</td>\n",
              "      <td>0.001727</td>\n",
              "    </tr>\n",
              "    <tr>\n",
              "      <th>std</th>\n",
              "      <td>47488.145955</td>\n",
              "      <td>1.958696e+00</td>\n",
              "      <td>1.651309e+00</td>\n",
              "      <td>1.516255e+00</td>\n",
              "      <td>1.415869e+00</td>\n",
              "      <td>1.380247e+00</td>\n",
              "      <td>1.332271e+00</td>\n",
              "      <td>1.237094e+00</td>\n",
              "      <td>1.194353e+00</td>\n",
              "      <td>1.098632e+00</td>\n",
              "      <td>1.088850e+00</td>\n",
              "      <td>1.020713e+00</td>\n",
              "      <td>9.992014e-01</td>\n",
              "      <td>9.952742e-01</td>\n",
              "      <td>9.585956e-01</td>\n",
              "      <td>9.153160e-01</td>\n",
              "      <td>8.762529e-01</td>\n",
              "      <td>8.493371e-01</td>\n",
              "      <td>8.381762e-01</td>\n",
              "      <td>8.140405e-01</td>\n",
              "      <td>7.709250e-01</td>\n",
              "      <td>7.345240e-01</td>\n",
              "      <td>7.257016e-01</td>\n",
              "      <td>6.244603e-01</td>\n",
              "      <td>6.056471e-01</td>\n",
              "      <td>5.212781e-01</td>\n",
              "      <td>4.822270e-01</td>\n",
              "      <td>4.036325e-01</td>\n",
              "      <td>3.300833e-01</td>\n",
              "      <td>250.120109</td>\n",
              "      <td>0.041527</td>\n",
              "    </tr>\n",
              "    <tr>\n",
              "      <th>min</th>\n",
              "      <td>0.000000</td>\n",
              "      <td>-5.640751e+01</td>\n",
              "      <td>-7.271573e+01</td>\n",
              "      <td>-4.832559e+01</td>\n",
              "      <td>-5.683171e+00</td>\n",
              "      <td>-1.137433e+02</td>\n",
              "      <td>-2.616051e+01</td>\n",
              "      <td>-4.355724e+01</td>\n",
              "      <td>-7.321672e+01</td>\n",
              "      <td>-1.343407e+01</td>\n",
              "      <td>-2.458826e+01</td>\n",
              "      <td>-4.797473e+00</td>\n",
              "      <td>-1.868371e+01</td>\n",
              "      <td>-5.791881e+00</td>\n",
              "      <td>-1.921433e+01</td>\n",
              "      <td>-4.498945e+00</td>\n",
              "      <td>-1.412985e+01</td>\n",
              "      <td>-2.516280e+01</td>\n",
              "      <td>-9.498746e+00</td>\n",
              "      <td>-7.213527e+00</td>\n",
              "      <td>-5.449772e+01</td>\n",
              "      <td>-3.483038e+01</td>\n",
              "      <td>-1.093314e+01</td>\n",
              "      <td>-4.480774e+01</td>\n",
              "      <td>-2.836627e+00</td>\n",
              "      <td>-1.029540e+01</td>\n",
              "      <td>-2.604551e+00</td>\n",
              "      <td>-2.256568e+01</td>\n",
              "      <td>-1.543008e+01</td>\n",
              "      <td>0.000000</td>\n",
              "      <td>0.000000</td>\n",
              "    </tr>\n",
              "    <tr>\n",
              "      <th>25%</th>\n",
              "      <td>54201.500000</td>\n",
              "      <td>-9.203734e-01</td>\n",
              "      <td>-5.985499e-01</td>\n",
              "      <td>-8.903648e-01</td>\n",
              "      <td>-8.486401e-01</td>\n",
              "      <td>-6.915971e-01</td>\n",
              "      <td>-7.682956e-01</td>\n",
              "      <td>-5.540759e-01</td>\n",
              "      <td>-2.086297e-01</td>\n",
              "      <td>-6.430976e-01</td>\n",
              "      <td>-5.354257e-01</td>\n",
              "      <td>-7.624942e-01</td>\n",
              "      <td>-4.055715e-01</td>\n",
              "      <td>-6.485393e-01</td>\n",
              "      <td>-4.255740e-01</td>\n",
              "      <td>-5.828843e-01</td>\n",
              "      <td>-4.680368e-01</td>\n",
              "      <td>-4.837483e-01</td>\n",
              "      <td>-4.988498e-01</td>\n",
              "      <td>-4.562989e-01</td>\n",
              "      <td>-2.117214e-01</td>\n",
              "      <td>-2.283949e-01</td>\n",
              "      <td>-5.423504e-01</td>\n",
              "      <td>-1.618463e-01</td>\n",
              "      <td>-3.545861e-01</td>\n",
              "      <td>-3.171451e-01</td>\n",
              "      <td>-3.269839e-01</td>\n",
              "      <td>-7.083953e-02</td>\n",
              "      <td>-5.295979e-02</td>\n",
              "      <td>5.600000</td>\n",
              "      <td>0.000000</td>\n",
              "    </tr>\n",
              "    <tr>\n",
              "      <th>50%</th>\n",
              "      <td>84692.000000</td>\n",
              "      <td>1.810880e-02</td>\n",
              "      <td>6.548556e-02</td>\n",
              "      <td>1.798463e-01</td>\n",
              "      <td>-1.984653e-02</td>\n",
              "      <td>-5.433583e-02</td>\n",
              "      <td>-2.741871e-01</td>\n",
              "      <td>4.010308e-02</td>\n",
              "      <td>2.235804e-02</td>\n",
              "      <td>-5.142873e-02</td>\n",
              "      <td>-9.291738e-02</td>\n",
              "      <td>-3.275735e-02</td>\n",
              "      <td>1.400326e-01</td>\n",
              "      <td>-1.356806e-02</td>\n",
              "      <td>5.060132e-02</td>\n",
              "      <td>4.807155e-02</td>\n",
              "      <td>6.641332e-02</td>\n",
              "      <td>-6.567575e-02</td>\n",
              "      <td>-3.636312e-03</td>\n",
              "      <td>3.734823e-03</td>\n",
              "      <td>-6.248109e-02</td>\n",
              "      <td>-2.945017e-02</td>\n",
              "      <td>6.781943e-03</td>\n",
              "      <td>-1.119293e-02</td>\n",
              "      <td>4.097606e-02</td>\n",
              "      <td>1.659350e-02</td>\n",
              "      <td>-5.213911e-02</td>\n",
              "      <td>1.342146e-03</td>\n",
              "      <td>1.124383e-02</td>\n",
              "      <td>22.000000</td>\n",
              "      <td>0.000000</td>\n",
              "    </tr>\n",
              "    <tr>\n",
              "      <th>75%</th>\n",
              "      <td>139320.500000</td>\n",
              "      <td>1.315642e+00</td>\n",
              "      <td>8.037239e-01</td>\n",
              "      <td>1.027196e+00</td>\n",
              "      <td>7.433413e-01</td>\n",
              "      <td>6.119264e-01</td>\n",
              "      <td>3.985649e-01</td>\n",
              "      <td>5.704361e-01</td>\n",
              "      <td>3.273459e-01</td>\n",
              "      <td>5.971390e-01</td>\n",
              "      <td>4.539234e-01</td>\n",
              "      <td>7.395934e-01</td>\n",
              "      <td>6.182380e-01</td>\n",
              "      <td>6.625050e-01</td>\n",
              "      <td>4.931498e-01</td>\n",
              "      <td>6.488208e-01</td>\n",
              "      <td>5.232963e-01</td>\n",
              "      <td>3.996750e-01</td>\n",
              "      <td>5.008067e-01</td>\n",
              "      <td>4.589494e-01</td>\n",
              "      <td>1.330408e-01</td>\n",
              "      <td>1.863772e-01</td>\n",
              "      <td>5.285536e-01</td>\n",
              "      <td>1.476421e-01</td>\n",
              "      <td>4.395266e-01</td>\n",
              "      <td>3.507156e-01</td>\n",
              "      <td>2.409522e-01</td>\n",
              "      <td>9.104512e-02</td>\n",
              "      <td>7.827995e-02</td>\n",
              "      <td>77.165000</td>\n",
              "      <td>0.000000</td>\n",
              "    </tr>\n",
              "    <tr>\n",
              "      <th>max</th>\n",
              "      <td>172792.000000</td>\n",
              "      <td>2.454930e+00</td>\n",
              "      <td>2.205773e+01</td>\n",
              "      <td>9.382558e+00</td>\n",
              "      <td>1.687534e+01</td>\n",
              "      <td>3.480167e+01</td>\n",
              "      <td>7.330163e+01</td>\n",
              "      <td>1.205895e+02</td>\n",
              "      <td>2.000721e+01</td>\n",
              "      <td>1.559499e+01</td>\n",
              "      <td>2.374514e+01</td>\n",
              "      <td>1.201891e+01</td>\n",
              "      <td>7.848392e+00</td>\n",
              "      <td>7.126883e+00</td>\n",
              "      <td>1.052677e+01</td>\n",
              "      <td>8.877742e+00</td>\n",
              "      <td>1.731511e+01</td>\n",
              "      <td>9.253526e+00</td>\n",
              "      <td>5.041069e+00</td>\n",
              "      <td>5.591971e+00</td>\n",
              "      <td>3.942090e+01</td>\n",
              "      <td>2.720284e+01</td>\n",
              "      <td>1.050309e+01</td>\n",
              "      <td>2.252841e+01</td>\n",
              "      <td>4.584549e+00</td>\n",
              "      <td>7.519589e+00</td>\n",
              "      <td>3.517346e+00</td>\n",
              "      <td>3.161220e+01</td>\n",
              "      <td>3.384781e+01</td>\n",
              "      <td>25691.160000</td>\n",
              "      <td>1.000000</td>\n",
              "    </tr>\n",
              "  </tbody>\n",
              "</table>\n",
              "</div>"
            ],
            "text/plain": [
              "                Time            V1  ...         Amount          Class\n",
              "count  284807.000000  2.848070e+05  ...  284807.000000  284807.000000\n",
              "mean    94813.859575  3.919560e-15  ...      88.349619       0.001727\n",
              "std     47488.145955  1.958696e+00  ...     250.120109       0.041527\n",
              "min         0.000000 -5.640751e+01  ...       0.000000       0.000000\n",
              "25%     54201.500000 -9.203734e-01  ...       5.600000       0.000000\n",
              "50%     84692.000000  1.810880e-02  ...      22.000000       0.000000\n",
              "75%    139320.500000  1.315642e+00  ...      77.165000       0.000000\n",
              "max    172792.000000  2.454930e+00  ...   25691.160000       1.000000\n",
              "\n",
              "[8 rows x 31 columns]"
            ]
          },
          "metadata": {
            "tags": []
          },
          "execution_count": 4
        }
      ]
    },
    {
      "cell_type": "markdown",
      "metadata": {
        "id": "DimpxDbf6PZO",
        "colab_type": "text"
      },
      "source": [
        "Nota-se que a variável *Amount* apresenta um desvio padrão muito maior do que a média, indicando que existe uma alta variabilidade destes dados.\n",
        "\n",
        "* média = 88.349619 \n",
        "* desvio padrão = 250.120109\n",
        "\n",
        "Também nota-se uma grande diferença entre a média e mediana.\n",
        "\n",
        "* mediana = 22.000000\n",
        "\n",
        "Esses dois quesitos comentados acima indicam uma alta possibilidade de haver Outliers na variável *Amount* (valor das transações). Porém para se afirmar e visualizar esses outliers, abaixo foi realizado um gráfico boxplot. "
      ]
    },
    {
      "cell_type": "markdown",
      "metadata": {
        "id": "N62BeK5nRDG1",
        "colab_type": "text"
      },
      "source": [
        "Para quem nunca ouviu falar de boxplot abaixo será explicado rapidamente sobre esta visualização.\n",
        "\n",
        "![alt text](https://upload.wikimedia.org/wikipedia/commons/thumb/c/c9/Elements_of_a_boxplot_pt.svg/400px-Elements_of_a_boxplot_pt.svg.png)\n",
        "\n",
        "Pode ser ver que o nome boxplot (gráfico de caixas) é bem explicativo, pois o gráfico é literalmente uma caixa. \n",
        "\n",
        "Observa-se que existe uma caixa que é delimitada pelo primeiro quartil e terceiro quartil, e entre elas não respectivamente no meio se encontra a mediana, logo a maioria dos dados se encontram neste quadrado, uma parte dos dados estão fora desta caixa estando até os limites inferior e superior. Mas os dados que estão fora desses limites são considerados discrepantes, pois fogem do padrão deste conjunto."
      ]
    },
    {
      "cell_type": "markdown",
      "metadata": {
        "id": "b872s9LqSzNf",
        "colab_type": "text"
      },
      "source": [
        "Abaixo foi realizado o boxplot da variável Amount."
      ]
    },
    {
      "cell_type": "code",
      "metadata": {
        "id": "mdl5EwK9I-49",
        "colab_type": "code",
        "outputId": "1c850c07-7bfc-4863-8e6d-90fd5c996189",
        "colab": {
          "base_uri": "https://localhost:8080/",
          "height": 369
        }
      },
      "source": [
        "sns.set_style('whitegrid')\n",
        "fig, ax = plt.subplots(figsize=(15,5))\n",
        "\n",
        "sns.boxplot(x='Amount', data=df, ax=ax, palette='deep')\n",
        "\n",
        "fig.tight_layout();"
      ],
      "execution_count": 0,
      "outputs": [
        {
          "output_type": "display_data",
          "data": {
            "image/png": "[encoded data removed]",
            "text/plain": [
              "<Figure size 1080x360 with 1 Axes>"
            ]
          },
          "metadata": {
            "tags": []
          }
        }
      ]
    },
    {
      "cell_type": "markdown",
      "metadata": {
        "id": "qgblMbsvS5Ek",
        "colab_type": "text"
      },
      "source": [
        "Pode-se perceber que pelos pontos estarem muito distantes, não é possível ver caixa do boxplot,mas todos os pontos que estão fora da dos limites são outliers, e percebe-se que existem muitos, para um cálculo de proporção de quantos pontos estão fora vamos fazer um cálculo abaixo.\n",
        "\n"
      ]
    },
    {
      "cell_type": "code",
      "metadata": {
        "id": "b1FeGN-WUx7h",
        "colab_type": "code",
        "outputId": "20f957ea-0ef4-49ce-b5f3-24d218630c22",
        "colab": {
          "base_uri": "https://localhost:8080/",
          "height": 34
        }
      },
      "source": [
        "print('percentual de dados ausentes', (df[df['Amount']>300]['Amount'].count()/df['Amount'].count())*100, '%')"
      ],
      "execution_count": 0,
      "outputs": [
        {
          "output_type": "stream",
          "text": [
            "percentual de dados ausentes 6.341487393217162 %\n"
          ],
          "name": "stdout"
        }
      ]
    },
    {
      "cell_type": "markdown",
      "metadata": {
        "id": "Yi7LV4I_XWt-",
        "colab_type": "text"
      },
      "source": [
        "Aqui é possível ser um problema no data set estudado, 6,34% dos valores efetuados no cartão de crédito estão acima de 300 euros, e estes não seguem o padrão da população local, sendo Outliers. A frente no próximo tópico(5) será proposto uma solução para este problema."
      ]
    },
    {
      "cell_type": "markdown",
      "metadata": {
        "id": "qzOPllGD5y8U",
        "colab_type": "text"
      },
      "source": [
        "### **4.3 Dados ausentes**"
      ]
    },
    {
      "cell_type": "markdown",
      "metadata": {
        "id": "xp5UBMUC8CEA",
        "colab_type": "text"
      },
      "source": [
        "Abaixo foi verificado se existia algum dado ausente."
      ]
    },
    {
      "cell_type": "code",
      "metadata": {
        "id": "hdiFM5Jy6avd",
        "colab_type": "code",
        "outputId": "2154d2d4-9727-4b4e-a902-70773c91d240",
        "colab": {
          "base_uri": "https://localhost:8080/",
          "height": 561
        }
      },
      "source": [
        "df.isnull().sum()"
      ],
      "execution_count": 0,
      "outputs": [
        {
          "output_type": "execute_result",
          "data": {
            "text/plain": [
              "Time      0\n",
              "V1        0\n",
              "V2        0\n",
              "V3        0\n",
              "V4        0\n",
              "V5        0\n",
              "V6        0\n",
              "V7        0\n",
              "V8        0\n",
              "V9        0\n",
              "V10       0\n",
              "V11       0\n",
              "V12       0\n",
              "V13       0\n",
              "V14       0\n",
              "V15       0\n",
              "V16       0\n",
              "V17       0\n",
              "V18       0\n",
              "V19       0\n",
              "V20       0\n",
              "V21       0\n",
              "V22       0\n",
              "V23       0\n",
              "V24       0\n",
              "V25       0\n",
              "V26       0\n",
              "V27       0\n",
              "V28       0\n",
              "Amount    0\n",
              "Class     0\n",
              "dtype: int64"
            ]
          },
          "metadata": {
            "tags": []
          },
          "execution_count": 11
        }
      ]
    },
    {
      "cell_type": "markdown",
      "metadata": {
        "id": "VZZ--FTs6c-8",
        "colab_type": "text"
      },
      "source": [
        "Nota-se que o _data set_ possui nenhum dado ausente, mostrando a alta confiabilidade destes dados, e não agregando nenhum problema neste projeto relacionado a dados ausentes."
      ]
    },
    {
      "cell_type": "markdown",
      "metadata": {
        "id": "CuO4cq2v6wmU",
        "colab_type": "text"
      },
      "source": [
        "### **4.4 Dados desbalanceados**"
      ]
    },
    {
      "cell_type": "markdown",
      "metadata": {
        "id": "hSet9_7E62sd",
        "colab_type": "text"
      },
      "source": [
        "Como informado no kaggle este conjunto de dados apresenta alta desproporção dos dados que foram fraudes e que foram transações normais.\n",
        "\n",
        "Abaixo foi realizado um gráfico de barras para uma visualização desta diferença, mas antes foi mostrado alguns números que indicam essa desproporcionalidade."
      ]
    },
    {
      "cell_type": "code",
      "metadata": {
        "id": "Ag2AwK2D8NMZ",
        "colab_type": "code",
        "outputId": "2a0c1f69-2689-44f4-941e-dec3722906da",
        "colab": {
          "base_uri": "https://localhost:8080/",
          "height": 68
        }
      },
      "source": [
        "df['Class'].value_counts()"
      ],
      "execution_count": 0,
      "outputs": [
        {
          "output_type": "execute_result",
          "data": {
            "text/plain": [
              "0    284315\n",
              "1       492\n",
              "Name: Class, dtype: int64"
            ]
          },
          "metadata": {
            "tags": []
          },
          "execution_count": 7
        }
      ]
    },
    {
      "cell_type": "markdown",
      "metadata": {
        "id": "OQJ1PMuT4WcA",
        "colab_type": "text"
      },
      "source": [
        "Acima pode-se ver que apenas 492 transações são fraudes, já o número de transações normais são 284315.\n",
        "\n",
        "A proporção de porcentagem de cada um encontra-se abaixo."
      ]
    },
    {
      "cell_type": "code",
      "metadata": {
        "id": "eR8_W5r54wrl",
        "colab_type": "code",
        "outputId": "25c4d293-7f14-4e2b-9fb8-3d6c00d99075",
        "colab": {
          "base_uri": "https://localhost:8080/",
          "height": 51
        }
      },
      "source": [
        "print('transações normais feitas pelo próprio do cartão:', (round(df['Class'].value_counts()[0]/df.shape[0],6)*100),'%')\n",
        "print('transações fraudulentas:', (round(df['Class'].value_counts()[1]/df.shape[0],6)*100),'%')"
      ],
      "execution_count": 0,
      "outputs": [
        {
          "output_type": "stream",
          "text": [
            "transações normais feitas pelo próprio do cartão: 99.8273 %\n",
            "transações fraudulentas: 0.1727 %\n"
          ],
          "name": "stdout"
        }
      ]
    },
    {
      "cell_type": "markdown",
      "metadata": {
        "id": "H6U7F5yr6jL8",
        "colab_type": "text"
      },
      "source": [
        "Acima é evidente que há uma desproporção muito grande dos resultados apenas 0,1727% são fraudes,abaixo pode ser visto de melhor maneira com gráfico de barras."
      ]
    },
    {
      "cell_type": "code",
      "metadata": {
        "id": "b1APpWYE7O2z",
        "colab_type": "code",
        "outputId": "56086af1-f4ac-4c6e-bee8-24f82c40bbd2",
        "colab": {
          "base_uri": "https://localhost:8080/",
          "height": 369
        }
      },
      "source": [
        "fig, ax = plt.subplots(nrows=1, figsize=(5,5))\n",
        "\n",
        "sns.countplot(x='Class', data=df, ax=ax, palette='rocket')\n",
        "\n",
        "\n",
        "fig.tight_layout();"
      ],
      "execution_count": 0,
      "outputs": [
        {
          "output_type": "display_data",
          "data": {
            "image/png": "[encoded data removed]",
            "text/plain": [
              "<Figure size 360x360 with 1 Axes>"
            ]
          },
          "metadata": {
            "tags": []
          }
        }
      ]
    },
    {
      "cell_type": "markdown",
      "metadata": {
        "id": "jnBtc6YE8lZ1",
        "colab_type": "text"
      },
      "source": [
        "Com o gráfico realizado e a diferença em porcentagem calculada, fica evidente a diferença entre as transações que foram fraudes e as transações normais.\n",
        "\n",
        "Essa desproporção pode prejudicar o modelo de machine learning, pois com poucos resultados de fraudes o modelo não conseguirá aprender e prever de maneira eficiente. \n",
        "\n",
        "No próximo tópico(6) estará a solução para este problema."
      ]
    },
    {
      "cell_type": "markdown",
      "metadata": {
        "id": "oMcGYM_i7n7P",
        "colab_type": "text"
      },
      "source": [
        "### **4.5 Histogramas**"
      ]
    },
    {
      "cell_type": "markdown",
      "metadata": {
        "id": "M4jJPzxr8L6k",
        "colab_type": "text"
      },
      "source": [
        "É muito importante termos uma ideia de como se comporta algumas variáveis do _data set_, a partir disto abaixo foi realizado o histograma relacionado a variável time."
      ]
    },
    {
      "cell_type": "markdown",
      "metadata": {
        "id": "FO2FxMkl8vs3",
        "colab_type": "text"
      },
      "source": [
        "Foram plotados dois histogramas da variável tempo, o histograma realizado foi o de quantidade de ocorrência com os dados distribuidos em 50 caixas. \n",
        "\n",
        "* Um histograma apresenta a variável tempo para Class igual a 0, onde as transações foram normais\n",
        "* Outro histograma apresenta variável tempo para Class igual a 1, onde as transações eram fraudes.\n",
        "\n",
        "\n",
        "No eixo y aparece a quantidade de transações em um determinado intervalo de tempo de um caixa que é delimilatada pelo eixo x.\n",
        "\n",
        "y: quantidade de ocorrência transações\n",
        "\n",
        "x: tempo entre a primeira transação e a realizada.\n",
        "\n"
      ]
    },
    {
      "cell_type": "markdown",
      "metadata": {
        "id": "jA65PzV_VIdL",
        "colab_type": "text"
      },
      "source": [
        "**Histograma variável time para transações normais**"
      ]
    },
    {
      "cell_type": "code",
      "metadata": {
        "id": "48clzVLNlf3F",
        "colab_type": "code",
        "colab": {}
      },
      "source": [
        "x_time_0 = df[df['Class']==0]\n",
        "x_time_1 = df[df['Class']==1]"
      ],
      "execution_count": 0,
      "outputs": []
    },
    {
      "cell_type": "code",
      "metadata": {
        "id": "wzbD2LoN7eBw",
        "colab_type": "code",
        "outputId": "97931be7-31aa-4ae0-cbee-a7ff3807c41f",
        "colab": {
          "base_uri": "https://localhost:8080/",
          "height": 513
        }
      },
      "source": [
        "sns.set_style('ticks')\n",
        "fig, ax = plt.subplots(ncols = 2, figsize=(16,7))\n",
        "\n",
        "sns.distplot(x_time_0['Time'], ax=ax[0], color='blue', kde=False, bins=30)\n",
        "\n",
        "ax[0].set_title(\"Histograma do tempo de transações normais\", fontsize=15)\n",
        "ax[0].set_xticks(range(0, 175000, 5759) )\n",
        "\n",
        "\n",
        "ax[0].tick_params(axis='x', rotation=90, labelsize=12)\n",
        "\n",
        "\n",
        "ax[0].set_ylabel('Quantidade de ocorrencia')\n",
        "ax[0].set_xlabel('Tempo')\n",
        "\n",
        "for axis in ['left', 'bottom', 'right', 'top']:\n",
        "    ax[0].spines[axis].set_linewidth(2.5)\n",
        "\n",
        "\n",
        "sns.distplot(x_time_1['Time'], ax=ax[1], color='#800000', kde=False, bins=30)\n",
        "\n",
        "ax[1].set_title(\"Histograma do tempo de transações criminosas\", fontsize=15)\n",
        "ax[1].set_xticks(range(0, 175000, 5678))\n",
        "\n",
        "ax[1].tick_params(axis='x', rotation=90, labelsize=13)\n",
        "\n",
        "ax[1].set_ylabel('Quantidade de ocorrencia')\n",
        "ax[1].set_xlabel('Tempo')\n",
        "\n",
        "for axis in ['left', 'bottom', 'right', 'top']:\n",
        "    ax[1].spines[axis].set_linewidth(2.5)\n",
        "\n",
        "\n",
        "fig.tight_layout();"
      ],
      "execution_count": 0,
      "outputs": [
        {
          "output_type": "display_data",
          "data": {
            "image/png": "[encoded data removed]",
            "text/plain": [
              "<Figure size 1152x504 with 2 Axes>"
            ]
          },
          "metadata": {
            "tags": []
          }
        }
      ]
    },
    {
      "cell_type": "markdown",
      "metadata": {
        "id": "wEu4WtuvWGkW",
        "colab_type": "text"
      },
      "source": [
        "**Histograma variável time para transações normais**\n",
        "\n",
        "Nota-se através do histograma que não existe semelhança com nenhuma distribuição. Mas é possível afirmar que em dois intervalos de tempos houve uma maior quantidade de transações.\n",
        "\n",
        "Estes intervalos são entre o tempo de:\n",
        "* 34554 segundos e 80626 segundos\n",
        "* 120939 segundos e 167011 segundos\n",
        "\n",
        "Aqui não é possível inferir nenhuma hipótese, mas foi possível verificar como se comporta o conjunto de dados para variável time de transações não fraudulentas."
      ]
    },
    {
      "cell_type": "markdown",
      "metadata": {
        "id": "aBP0ZCRIXt5s",
        "colab_type": "text"
      },
      "source": [
        "**Histograma variável time para transações fraudulentas**\n",
        "\n",
        "Neste histograma percebe-se que não existe nenhum padrão, e também esta não se é semelhante a nenhuma distribuição, apenas é possível verificar alguns períodos de tempo onde tiveram maior quantidade de transações fraudulentas exemplo:\n",
        "\n",
        " * 39746 segundos à 45424 segundos \n",
        " * 90848 segundos à 102204 segundos\n",
        "\n",
        " Seria necessário verificar com maior detalhe para esses dois picos, mas como não possui-mos mais informações ou até o horário respectivo destas transações não foi possível inferir mais algumas coisas sobre esse gráfico."
      ]
    },
    {
      "cell_type": "markdown",
      "metadata": {
        "id": "Q4Oqvy8FVR3Y",
        "colab_type": "text"
      },
      "source": [
        "**Histograma variável time para transações fraudulentas**"
      ]
    },
    {
      "cell_type": "markdown",
      "metadata": {
        "id": "MVFwQmgmHxlc",
        "colab_type": "text"
      },
      "source": [
        "**Histograma variável Amount**\n",
        "\n",
        "Abaixo foi realizado um histograma da variável *Amount* que apresenta o valor de cada transação.\n",
        "\n",
        "Com este histograma pode-se verificar quais foram os valores mais frequentes das transações.\n",
        "\n",
        "Um dos histogramas é referente a:\n",
        "\n",
        "* Aos valores monetários de transações normais igual a Class == 0\n",
        "* Aos valores monetários de transações que eram fraudes Class == 1 "
      ]
    },
    {
      "cell_type": "code",
      "metadata": {
        "id": "TBcuDT09_BU0",
        "colab_type": "code",
        "colab": {}
      },
      "source": [
        "x_amount_0 = df[df['Class']==0]\n",
        "x_amount_1 = df[df['Class']==1]"
      ],
      "execution_count": 0,
      "outputs": []
    },
    {
      "cell_type": "markdown",
      "metadata": {
        "id": "yweDwrZffHlj",
        "colab_type": "text"
      },
      "source": [
        "Abaixo foram realizados alguns códigos para construir os valores dos ticks para uma melhor visualização do histograma."
      ]
    },
    {
      "cell_type": "code",
      "metadata": {
        "id": "AauJt5C-M2XH",
        "colab_type": "code",
        "colab": {}
      },
      "source": [
        "#contruindo ticks\n",
        "x_a0=list()\n",
        "soma = 256\n",
        "for i in range(0, 1793, soma):\n",
        "   x_a0.append(i)\n",
        "for i in range(2304, 26000, 512):\n",
        "   x_a0.append(i)"
      ],
      "execution_count": 0,
      "outputs": []
    },
    {
      "cell_type": "code",
      "metadata": {
        "id": "uzG4tQHdh1VZ",
        "colab_type": "code",
        "colab": {}
      },
      "source": [
        "x_0min = list()\n",
        "for i in range(1792, 26000, 1024):\n",
        "    x_0min.append(i)"
      ],
      "execution_count": 0,
      "outputs": []
    },
    {
      "cell_type": "code",
      "metadata": {
        "id": "4CDSu27DS5BR",
        "colab_type": "code",
        "outputId": "6e32ff87-36a9-40d8-99f4-5b895e5aaf57",
        "colab": {
          "base_uri": "https://localhost:8080/",
          "height": 34
        }
      },
      "source": [
        "x_amount_1['Amount'].max()/100"
      ],
      "execution_count": 0,
      "outputs": [
        {
          "output_type": "execute_result",
          "data": {
            "text/plain": [
              "21.258699999999997"
            ]
          },
          "metadata": {
            "tags": []
          },
          "execution_count": 10
        }
      ]
    },
    {
      "cell_type": "code",
      "metadata": {
        "id": "E_piI6q9TJoW",
        "colab_type": "code",
        "colab": {}
      },
      "source": [
        "x_a1 = list()\n",
        "for i in range(0, 2125, 42):\n",
        "  x_a1.append(i)"
      ],
      "execution_count": 0,
      "outputs": []
    },
    {
      "cell_type": "markdown",
      "metadata": {
        "id": "wJ3ugf4GfV3I",
        "colab_type": "text"
      },
      "source": [
        "* Logo encontra-se o histograma da variável *Amount* (valor da transação realizada) para a variável *Class* == 0 (transações normais) e para variável Class 1 (transações criminosas).\n",
        "\n",
        "Resumindo este histograma mostra a quantidade de ocorrências de determinados valores para transações de cada tipo (0 ou 1).\n",
        "\n"
      ]
    },
    {
      "cell_type": "code",
      "metadata": {
        "id": "gFxdUZPa_NPG",
        "colab_type": "code",
        "outputId": "a3ec16ed-9923-4da2-cffe-c2d193d77b48",
        "colab": {
          "base_uri": "https://localhost:8080/",
          "height": 585
        }
      },
      "source": [
        "sns.set_style('darkgrid')\n",
        "fig, ax = plt.subplots(nrows=2, figsize=(15, 8))\n",
        "\n",
        "\n",
        "sns.distplot(x_amount_0['Amount'], ax=ax[0], color='#0000CD', kde=False, bins=100)\n",
        "\n",
        "\n",
        "#perfumaria de ax\n",
        "ax[0].set_xticks(x_a0)\n",
        "ax[0].tick_params(axis='x', rotation=90)\n",
        "ax[0].set_ylabel('Quantidade de ocorrencia')\n",
        "ax[0].set_title(\"Histograma da variável Amount para transações normais\", fontsize=15)\n",
        "\n",
        "for axis in ['left', 'bottom', 'right', 'top']:\n",
        "    ax[0].spines[axis].set_linewidth(2.5)\n",
        "\n",
        "sns.distplot(x_amount_1['Amount'], ax=ax[1], color='red', kde=False, bins=100)\n",
        "\n",
        "ax[1].set_title(\"Histograma da variável Amount para transações criminosas\", fontsize=15)\n",
        "ax[1].set_xticks(x_a1)\n",
        "ax[1].set_ylabel('Quantidade de ocorrencia')\n",
        "ax[1].tick_params(axis='x', rotation=90)\n",
        "\n",
        "for axis in ['left', 'bottom', 'right', 'top']:\n",
        "    ax[1].spines[axis].set_linewidth(2.5)\n",
        "\n",
        "\n",
        "fig.tight_layout();"
      ],
      "execution_count": 0,
      "outputs": [
        {
          "output_type": "display_data",
          "data": {
            "image/png": "[encoded data removed]",
            "text/plain": [
              "<Figure size 1080x576 with 2 Axes>"
            ]
          },
          "metadata": {
            "tags": []
          }
        }
      ]
    },
    {
      "cell_type": "markdown",
      "metadata": {
        "id": "igRBuxBwMvRO",
        "colab_type": "text"
      },
      "source": [
        "**Histograma da variável Amount para transações normais**\n",
        "\n",
        "Pode-se perceber que a distribuição da variável Amount para as transaçãoes normais segue uma distribuição **exponencial**. Percebe-se que a maior parte das quantidades de transações estão entre os valores de 0 unid e 256 unid, esse são os valores mais frenquentes realizados em uma transações.\n",
        "\n",
        "As transações seguem uma distribuição exponencial e são semelhantes com os exemplos da imagem abaixo.\n",
        "\n",
        "![alt text](https://upload.wikimedia.org/wikipedia/commons/thumb/b/b1/Exponential_distribution_pdf.png/1200px-Exponential_distribution_pdf.png)\n",
        "\n",
        "Não será aprofundado em detalhes a respeito de distribuições neste projeto, mas nota-se que existem vários tipo de distribuição exponencial, algumas tem uma queda decrescente mais rápida, outra com menas intensidade, isso acaba sendo depende da variável lambda, sendo a com maior lambda mais semelhante a distribuição da variável *Amount*.\n",
        "\n",
        " \n"
      ]
    },
    {
      "cell_type": "markdown",
      "metadata": {
        "id": "63sbQKjLeml0",
        "colab_type": "text"
      },
      "source": [
        "**Agora restou o último histograma da variável *Amount* relacionado as transações que foram fraudes (Class=1).**\n",
        "\n"
      ]
    },
    {
      "cell_type": "markdown",
      "metadata": {
        "id": "2das8AQ5fbsK",
        "colab_type": "text"
      },
      "source": [
        "Nota-se que a maior quantidade de fraudes de transações foram de valores entre 0 e 21, percebe-se que valores de 84 à 105 também apresenta uma alta quantidade de ocorrência. Esse variável um pouco semelhante a exponencial, porém existem uns picos no meio dessas."
      ]
    },
    {
      "cell_type": "markdown",
      "metadata": {
        "id": "V6TTQdMY-liC",
        "colab_type": "text"
      },
      "source": [
        "### **4.6 Correlações**"
      ]
    },
    {
      "cell_type": "markdown",
      "metadata": {
        "id": "7prOK222-n14",
        "colab_type": "text"
      },
      "source": [
        "Abaixo foi realizado uma imagem de correlação entre cada variável do conjunto de dados.\n",
        "\n",
        "Pode-se notar que existe uma legenda ao lado, onde cada cor é associada a um tipo de valor de correlação. Estes valores vão de -1 a 1, e também são indicados em cada quadrado junto com a sua respectiva cor.\n",
        "\n",
        "Como maior parte das variáveis são do tipo PCA essas acabam sendo anonimas, mas pode-se ver que existem algumas correlações entre as variáveis conhecidas e as anônimas."
      ]
    },
    {
      "cell_type": "code",
      "metadata": {
        "id": "8qkPk8IMYX-F",
        "colab_type": "code",
        "outputId": "9f07d350-ba23-4ed9-ef82-e797fd93fadb",
        "colab": {
          "base_uri": "https://localhost:8080/",
          "height": 441
        }
      },
      "source": [
        "fig, ax = plt.subplots(figsize=(8,6))\n",
        "\n",
        "sns.heatmap(data=df.corr(), ax=ax, cmap='coolwarm', linewidths=0.5)\n",
        "\n",
        "fig.tight_layout()"
      ],
      "execution_count": 0,
      "outputs": [
        {
          "output_type": "display_data",
          "data": {
            "image/png": "[encoded data removed]",
            "text/plain": [
              "<Figure size 576x432 with 2 Axes>"
            ]
          },
          "metadata": {
            "tags": []
          }
        }
      ]
    },
    {
      "cell_type": "markdown",
      "metadata": {
        "id": "AJlMr7h5_ngp",
        "colab_type": "text"
      },
      "source": [
        "Primeiramente são muitas variáveis para análisar, logo abaixo foi mostrado as que tiveram maior correlação positiva ou negativa, é bom ressaltar que praticamente todas as variáveis são anonimas assim não podemos inferir muito sobre as correlações.\n",
        "\n",
        "* Amount - V7  =  0.40\n",
        "* Amount - V20 =  0.34\n",
        "* Amount - V2  = -0.53"
      ]
    },
    {
      "cell_type": "markdown",
      "metadata": {
        "id": "nJNlmsdJWb5e",
        "colab_type": "text"
      },
      "source": [
        "Porém é possível perceber que existe poucas correlações no dataset, isso pode ocorrer por este dataset estar desbalançeado, após iremos verificar novamente. "
      ]
    },
    {
      "cell_type": "markdown",
      "metadata": {
        "id": "0NlJKKjOkipq",
        "colab_type": "text"
      },
      "source": [
        "## **5. Soluções para dataset**"
      ]
    },
    {
      "cell_type": "markdown",
      "metadata": {
        "id": "nX_8an6Ok-25",
        "colab_type": "text"
      },
      "source": [
        "Com a realização da análise exploratória teve-se um maior entendimento do conjunto de dados, como também percebeu-se que existem alguns problemas que devem ser corrigidos antes da criação do modelo de machine learning."
      ]
    },
    {
      "cell_type": "markdown",
      "metadata": {
        "id": "CzlYH4S7lS7w",
        "colab_type": "text"
      },
      "source": [
        "Dois problemas encontrados foram:\n",
        "\n",
        "* Presença de pontos discrepantes na variável Amount\n",
        "* Desbalancemento de dados"
      ]
    },
    {
      "cell_type": "markdown",
      "metadata": {
        "id": "I3yVDAysZmCQ",
        "colab_type": "text"
      },
      "source": [
        "### **5.1 Pontos discrepantes na variável Amount**"
      ]
    },
    {
      "cell_type": "markdown",
      "metadata": {
        "id": "eOcUlj92Z05t",
        "colab_type": "text"
      },
      "source": [
        "De acordo com o capítulo anterior, foi visto que existe uma boa quantidade de Outliers na variável Amount.\n",
        "\n",
        "Sabemos que estes pontos discrepantes são prejudiciais para análise e para o modelo de machine learning. Porém, esses dados não são incorretos, pois é normal que exista uma grande variabilidade de valores em transações, claro a maioria das pessaos fazem transações diárias de pequena e média quantia, mas também existem ocasiões de compras de aparelhos eletrônicos, motos, televisões que possuem uma maior valor, logo esses são os motivos dos outliers da variável Amount.\n",
        "\n",
        "Dessa maneira seria errado escolher por remover esses outliers, assim foi proposto uma solução diferente para esse problema.\n"
      ]
    },
    {
      "cell_type": "markdown",
      "metadata": {
        "id": "cf-czOkt-Voc",
        "colab_type": "text"
      },
      "source": [
        "Para resolver este problema foi realizada a normalização dos dados da coluna *Amount*.\n",
        "\n",
        "A normalização foi realizada através da biblioteca **Scikit-learn** utilizando especificamente a função **StandardScaler**.\n",
        "\n",
        "Abaixo foi importada a biblioteca, e realizado a normalização dos dados da variável *Amount*."
      ]
    },
    {
      "cell_type": "code",
      "metadata": {
        "id": "2ZaWrNa6-657",
        "colab_type": "code",
        "colab": {}
      },
      "source": [
        "#importando a biblioteca\n",
        "from sklearn.preprocessing import StandardScaler\n",
        "\n",
        "#atribuindo função para um variável\n",
        "std_scaler = StandardScaler()\n",
        "\n",
        "#criando novas colunas normalizadas no novo data frame\n",
        "df_new = df.copy()\n",
        "\n",
        "df_new['std_Amount'] = std_scaler.fit_transform(df_new[['Amount']]) \n",
        "#df_clean['std_amount'] = std_scaler.fit_transform(df_clean['Amount'].values.reshape(-1, 1)) também da para fazer assim\n",
        "\n",
        "df_new.drop('Amount', axis=1, inplace=True)"
      ],
      "execution_count": 0,
      "outputs": []
    },
    {
      "cell_type": "markdown",
      "metadata": {
        "id": "kJzPmgZzF57n",
        "colab_type": "text"
      },
      "source": [
        "Nota-se que para não haver problemas como o data set original, foi realizado um cópia para um data set novo chamado de **df_new**, neste foi atribuído a nova coluna **std_Amount** que é a coluna Amount normalizada, e após foi excluída a coluna Amount."
      ]
    },
    {
      "cell_type": "markdown",
      "metadata": {
        "id": "d-JH6p0JGYHy",
        "colab_type": "text"
      },
      "source": [
        "Abaixo pode-se ver novamente as 5 primeiras linhas do df_new, e nota-se a nova coluna **df_new**."
      ]
    },
    {
      "cell_type": "code",
      "metadata": {
        "id": "oW1gYvAvFn66",
        "colab_type": "code",
        "outputId": "825a8358-8d54-41a6-dc59-86d690a24d6c",
        "colab": {
          "base_uri": "https://localhost:8080/",
          "height": 224
        }
      },
      "source": [
        "df_new.head()"
      ],
      "execution_count": 0,
      "outputs": [
        {
          "output_type": "execute_result",
          "data": {
            "text/html": [
              "<div>\n",
              "<style scoped>\n",
              "    .dataframe tbody tr th:only-of-type {\n",
              "        vertical-align: middle;\n",
              "    }\n",
              "\n",
              "    .dataframe tbody tr th {\n",
              "        vertical-align: top;\n",
              "    }\n",
              "\n",
              "    .dataframe thead th {\n",
              "        text-align: right;\n",
              "    }\n",
              "</style>\n",
              "<table border=\"1\" class=\"dataframe\">\n",
              "  <thead>\n",
              "    <tr style=\"text-align: right;\">\n",
              "      <th></th>\n",
              "      <th>Time</th>\n",
              "      <th>V1</th>\n",
              "      <th>V2</th>\n",
              "      <th>V3</th>\n",
              "      <th>V4</th>\n",
              "      <th>V5</th>\n",
              "      <th>V6</th>\n",
              "      <th>V7</th>\n",
              "      <th>V8</th>\n",
              "      <th>V9</th>\n",
              "      <th>V10</th>\n",
              "      <th>V11</th>\n",
              "      <th>V12</th>\n",
              "      <th>V13</th>\n",
              "      <th>V14</th>\n",
              "      <th>V15</th>\n",
              "      <th>V16</th>\n",
              "      <th>V17</th>\n",
              "      <th>V18</th>\n",
              "      <th>V19</th>\n",
              "      <th>V20</th>\n",
              "      <th>V21</th>\n",
              "      <th>V22</th>\n",
              "      <th>V23</th>\n",
              "      <th>V24</th>\n",
              "      <th>V25</th>\n",
              "      <th>V26</th>\n",
              "      <th>V27</th>\n",
              "      <th>V28</th>\n",
              "      <th>Class</th>\n",
              "      <th>std_Amount</th>\n",
              "    </tr>\n",
              "  </thead>\n",
              "  <tbody>\n",
              "    <tr>\n",
              "      <th>0</th>\n",
              "      <td>0.0</td>\n",
              "      <td>-1.359807</td>\n",
              "      <td>-0.072781</td>\n",
              "      <td>2.536347</td>\n",
              "      <td>1.378155</td>\n",
              "      <td>-0.338321</td>\n",
              "      <td>0.462388</td>\n",
              "      <td>0.239599</td>\n",
              "      <td>0.098698</td>\n",
              "      <td>0.363787</td>\n",
              "      <td>0.090794</td>\n",
              "      <td>-0.551600</td>\n",
              "      <td>-0.617801</td>\n",
              "      <td>-0.991390</td>\n",
              "      <td>-0.311169</td>\n",
              "      <td>1.468177</td>\n",
              "      <td>-0.470401</td>\n",
              "      <td>0.207971</td>\n",
              "      <td>0.025791</td>\n",
              "      <td>0.403993</td>\n",
              "      <td>0.251412</td>\n",
              "      <td>-0.018307</td>\n",
              "      <td>0.277838</td>\n",
              "      <td>-0.110474</td>\n",
              "      <td>0.066928</td>\n",
              "      <td>0.128539</td>\n",
              "      <td>-0.189115</td>\n",
              "      <td>0.133558</td>\n",
              "      <td>-0.021053</td>\n",
              "      <td>0</td>\n",
              "      <td>0.244964</td>\n",
              "    </tr>\n",
              "    <tr>\n",
              "      <th>1</th>\n",
              "      <td>0.0</td>\n",
              "      <td>1.191857</td>\n",
              "      <td>0.266151</td>\n",
              "      <td>0.166480</td>\n",
              "      <td>0.448154</td>\n",
              "      <td>0.060018</td>\n",
              "      <td>-0.082361</td>\n",
              "      <td>-0.078803</td>\n",
              "      <td>0.085102</td>\n",
              "      <td>-0.255425</td>\n",
              "      <td>-0.166974</td>\n",
              "      <td>1.612727</td>\n",
              "      <td>1.065235</td>\n",
              "      <td>0.489095</td>\n",
              "      <td>-0.143772</td>\n",
              "      <td>0.635558</td>\n",
              "      <td>0.463917</td>\n",
              "      <td>-0.114805</td>\n",
              "      <td>-0.183361</td>\n",
              "      <td>-0.145783</td>\n",
              "      <td>-0.069083</td>\n",
              "      <td>-0.225775</td>\n",
              "      <td>-0.638672</td>\n",
              "      <td>0.101288</td>\n",
              "      <td>-0.339846</td>\n",
              "      <td>0.167170</td>\n",
              "      <td>0.125895</td>\n",
              "      <td>-0.008983</td>\n",
              "      <td>0.014724</td>\n",
              "      <td>0</td>\n",
              "      <td>-0.342475</td>\n",
              "    </tr>\n",
              "    <tr>\n",
              "      <th>2</th>\n",
              "      <td>1.0</td>\n",
              "      <td>-1.358354</td>\n",
              "      <td>-1.340163</td>\n",
              "      <td>1.773209</td>\n",
              "      <td>0.379780</td>\n",
              "      <td>-0.503198</td>\n",
              "      <td>1.800499</td>\n",
              "      <td>0.791461</td>\n",
              "      <td>0.247676</td>\n",
              "      <td>-1.514654</td>\n",
              "      <td>0.207643</td>\n",
              "      <td>0.624501</td>\n",
              "      <td>0.066084</td>\n",
              "      <td>0.717293</td>\n",
              "      <td>-0.165946</td>\n",
              "      <td>2.345865</td>\n",
              "      <td>-2.890083</td>\n",
              "      <td>1.109969</td>\n",
              "      <td>-0.121359</td>\n",
              "      <td>-2.261857</td>\n",
              "      <td>0.524980</td>\n",
              "      <td>0.247998</td>\n",
              "      <td>0.771679</td>\n",
              "      <td>0.909412</td>\n",
              "      <td>-0.689281</td>\n",
              "      <td>-0.327642</td>\n",
              "      <td>-0.139097</td>\n",
              "      <td>-0.055353</td>\n",
              "      <td>-0.059752</td>\n",
              "      <td>0</td>\n",
              "      <td>1.160686</td>\n",
              "    </tr>\n",
              "    <tr>\n",
              "      <th>3</th>\n",
              "      <td>1.0</td>\n",
              "      <td>-0.966272</td>\n",
              "      <td>-0.185226</td>\n",
              "      <td>1.792993</td>\n",
              "      <td>-0.863291</td>\n",
              "      <td>-0.010309</td>\n",
              "      <td>1.247203</td>\n",
              "      <td>0.237609</td>\n",
              "      <td>0.377436</td>\n",
              "      <td>-1.387024</td>\n",
              "      <td>-0.054952</td>\n",
              "      <td>-0.226487</td>\n",
              "      <td>0.178228</td>\n",
              "      <td>0.507757</td>\n",
              "      <td>-0.287924</td>\n",
              "      <td>-0.631418</td>\n",
              "      <td>-1.059647</td>\n",
              "      <td>-0.684093</td>\n",
              "      <td>1.965775</td>\n",
              "      <td>-1.232622</td>\n",
              "      <td>-0.208038</td>\n",
              "      <td>-0.108300</td>\n",
              "      <td>0.005274</td>\n",
              "      <td>-0.190321</td>\n",
              "      <td>-1.175575</td>\n",
              "      <td>0.647376</td>\n",
              "      <td>-0.221929</td>\n",
              "      <td>0.062723</td>\n",
              "      <td>0.061458</td>\n",
              "      <td>0</td>\n",
              "      <td>0.140534</td>\n",
              "    </tr>\n",
              "    <tr>\n",
              "      <th>4</th>\n",
              "      <td>2.0</td>\n",
              "      <td>-1.158233</td>\n",
              "      <td>0.877737</td>\n",
              "      <td>1.548718</td>\n",
              "      <td>0.403034</td>\n",
              "      <td>-0.407193</td>\n",
              "      <td>0.095921</td>\n",
              "      <td>0.592941</td>\n",
              "      <td>-0.270533</td>\n",
              "      <td>0.817739</td>\n",
              "      <td>0.753074</td>\n",
              "      <td>-0.822843</td>\n",
              "      <td>0.538196</td>\n",
              "      <td>1.345852</td>\n",
              "      <td>-1.119670</td>\n",
              "      <td>0.175121</td>\n",
              "      <td>-0.451449</td>\n",
              "      <td>-0.237033</td>\n",
              "      <td>-0.038195</td>\n",
              "      <td>0.803487</td>\n",
              "      <td>0.408542</td>\n",
              "      <td>-0.009431</td>\n",
              "      <td>0.798278</td>\n",
              "      <td>-0.137458</td>\n",
              "      <td>0.141267</td>\n",
              "      <td>-0.206010</td>\n",
              "      <td>0.502292</td>\n",
              "      <td>0.219422</td>\n",
              "      <td>0.215153</td>\n",
              "      <td>0</td>\n",
              "      <td>-0.073403</td>\n",
              "    </tr>\n",
              "  </tbody>\n",
              "</table>\n",
              "</div>"
            ],
            "text/plain": [
              "   Time        V1        V2        V3  ...       V27       V28  Class  std_Amount\n",
              "0   0.0 -1.359807 -0.072781  2.536347  ...  0.133558 -0.021053      0    0.244964\n",
              "1   0.0  1.191857  0.266151  0.166480  ... -0.008983  0.014724      0   -0.342475\n",
              "2   1.0 -1.358354 -1.340163  1.773209  ... -0.055353 -0.059752      0    1.160686\n",
              "3   1.0 -0.966272 -0.185226  1.792993  ...  0.062723  0.061458      0    0.140534\n",
              "4   2.0 -1.158233  0.877737  1.548718  ...  0.219422  0.215153      0   -0.073403\n",
              "\n",
              "[5 rows x 31 columns]"
            ]
          },
          "metadata": {
            "tags": []
          },
          "execution_count": 39
        }
      ]
    },
    {
      "cell_type": "markdown",
      "metadata": {
        "id": "HnjU_gl2JpTg",
        "colab_type": "text"
      },
      "source": [
        "Assim esse primeiro problema foi removido."
      ]
    },
    {
      "cell_type": "markdown",
      "metadata": {
        "id": "700_vsPqchJP",
        "colab_type": "text"
      },
      "source": [
        "### **5.2 Desbalancemento de dados**"
      ]
    },
    {
      "cell_type": "markdown",
      "metadata": {
        "id": "-9HQOeefcoYq",
        "colab_type": "text"
      },
      "source": [
        "Outro problema encontrado com a análise exploratória de dados foi o desbalanceamento de dados.\n",
        "\n",
        "Foi notado que existiam:\n",
        "\n",
        "* transações normais feitas pelo próprio do cartão: 99.8273 %\n",
        "* transações fraudulentas: 0.1727 %\n",
        "\n",
        "Se esses dados forem utilizados diretamente no modelo de machine learning, pode-se dizer literalmente, que nosso modelo não irá ter capacidade de aprender a detectar as fraudes em transações pela pequena quantidade de dados.\n",
        "\n",
        "Assim é necessário resolver este problema de alguma maneira. A abordagem tomada para resolver este problema é o *Sampling*.\n",
        "\n",
        "Esse problema será resolvido dentro do tópico de machine learning (6), após a separação de dados."
      ]
    },
    {
      "cell_type": "markdown",
      "metadata": {
        "id": "VI1-WyS7KA1Z",
        "colab_type": "text"
      },
      "source": [
        "## **6. Machine Learning**\n",
        "\n",
        "Finalmente chegamos na parte final deste projeto, neste capítulo foi criado o modelo de machine learning para predição de fraudes de cartão de crédito."
      ]
    },
    {
      "cell_type": "markdown",
      "metadata": {
        "id": "29QXRnH-KsTB",
        "colab_type": "text"
      },
      "source": [
        "Existem vários métodos de machine learning, mas para este problema onde deve-se saber se o resultado da transação que está na coluna Class é 0 ou 1: \n",
        "\n",
        "* 0 - Transação não fraudulenta\n",
        "* 1 - Transação fraudelenta\n",
        "\n",
        "deve-se utilizar a regressão logística, esta que dará como resultado 0 ou 1, apenas uma dessas situações."
      ]
    },
    {
      "cell_type": "markdown",
      "metadata": {
        "id": "tlryuWxb-MHW",
        "colab_type": "text"
      },
      "source": [
        "### **6.1 Aplicando modelo de machine learning**"
      ]
    },
    {
      "cell_type": "markdown",
      "metadata": {
        "id": "P17hB2ilpH1A",
        "colab_type": "text"
      },
      "source": [
        "Foi feito dois modelos de machine learning, o primeiro foi sem fazer o balanceamento de dados, e depois com o balanceamento realizado.\n",
        "\n",
        "Assim é possível ver a diferença entre os resultados, e como não fazer o balanceamento de dados dará resultados ruins ao modelo."
      ]
    },
    {
      "cell_type": "markdown",
      "metadata": {
        "id": "28urM7Bro8Tm",
        "colab_type": "text"
      },
      "source": [
        "\n",
        "\n",
        "#### **6.1.1 Modelo de ML sem o balancemento de dados**"
      ]
    },
    {
      "cell_type": "markdown",
      "metadata": {
        "id": "KwxnphEKBOpf",
        "colab_type": "text"
      },
      "source": [
        "Agora começa a criação do modelo de machine learning. \n",
        "\n",
        "Será utilizada a biblioteca ScikitLearn, abaixo foi importado todas as funções necessários para sua realização."
      ]
    },
    {
      "cell_type": "code",
      "metadata": {
        "id": "gQ6qzFJur_vt",
        "colab_type": "code",
        "colab": {}
      },
      "source": [
        "!pip install -q scikit-plot"
      ],
      "execution_count": 0,
      "outputs": []
    },
    {
      "cell_type": "code",
      "metadata": {
        "id": "Xhshkzy5-RxC",
        "colab_type": "code",
        "colab": {}
      },
      "source": [
        "from sklearn.linear_model import LogisticRegression\n",
        "from sklearn.model_selection import train_test_split\n",
        "\n",
        "from sklearn.metrics import confusion_matrix\n",
        "from sklearn.metrics import classification_report\n",
        "\n",
        "from sklearn.metrics import roc_auc_score, roc_curve, accuracy_score \n",
        "import scikitplot as skplt"
      ],
      "execution_count": 0,
      "outputs": []
    },
    {
      "cell_type": "markdown",
      "metadata": {
        "id": "sg2ubKTmBNV_",
        "colab_type": "text"
      },
      "source": [
        "Com as bibiliotecas importadas o primeiro passo a se realizar é separar o conjunto de dados em treino e teste, para isso foi atribuído as variáveis indepedentes para a variável *X* abaixo, e a variável Class dependete para *y*. "
      ]
    },
    {
      "cell_type": "code",
      "metadata": {
        "id": "rpqfp1h4AxMG",
        "colab_type": "code",
        "colab": {}
      },
      "source": [
        "#separando o conjunto de dados em outras variáveis\n",
        "X = df_new.drop('Class', axis=1)\n",
        "y = df_new['Class']"
      ],
      "execution_count": 0,
      "outputs": []
    },
    {
      "cell_type": "markdown",
      "metadata": {
        "id": "0JcIfAZHCPLF",
        "colab_type": "text"
      },
      "source": [
        "Agora com essas duas variáveis foi utilizado a finção train_test_split() para a separação do conjunto treino e teste."
      ]
    },
    {
      "cell_type": "code",
      "metadata": {
        "id": "tyvHEhIMAcoB",
        "colab_type": "code",
        "colab": {}
      },
      "source": [
        "#separando o conjunto em treino e teste\n",
        "X_train, X_test, y_train, y_test = train_test_split(X, y, stratify=y, shuffle=True)"
      ],
      "execution_count": 0,
      "outputs": []
    },
    {
      "cell_type": "markdown",
      "metadata": {
        "id": "KC9eKfI1HKac",
        "colab_type": "text"
      },
      "source": [
        "Dentre alguns parâmetros importantes utilizados dentro da função train_test_split():\n",
        "\n",
        "* stratify: foi utilizada pela razão de que todo data set apresenta um poucos resultados de Class igual a 1, logo existe a possibilidade que na separação haja uma divisão onde não fique nenhum valor 1 contido nas variáveis test ou na variável train."
      ]
    },
    {
      "cell_type": "markdown",
      "metadata": {
        "id": "YKwn8csavh_A",
        "colab_type": "text"
      },
      "source": [
        "Abaixo pode-se perceber que o parâmetro stratify separou proporcionalmente os dados com class==1."
      ]
    },
    {
      "cell_type": "code",
      "metadata": {
        "id": "cXHCleD6GanE",
        "colab_type": "code",
        "outputId": "69cae61d-6618-47b6-c6d0-32d7e7aa4f33",
        "colab": {
          "base_uri": "https://localhost:8080/",
          "height": 51
        }
      },
      "source": [
        "print('Quantidade de valores 1 no conjuto teste', (y_test==1).sum())\n",
        "print('Quantidade de valores 1 no conjuto treino',(y_train==1).sum())"
      ],
      "execution_count": 0,
      "outputs": [
        {
          "output_type": "stream",
          "text": [
            "Quantidade de valores 1 no conjuto teste 123\n",
            "Quantidade de valores 1 no conjuto treino 369\n"
          ],
          "name": "stdout"
        }
      ]
    },
    {
      "cell_type": "markdown",
      "metadata": {
        "id": "Eg_CQT7VLIJG",
        "colab_type": "text"
      },
      "source": [
        "Abaixo será treinado o modelo com o conjunto X_train e y_train."
      ]
    },
    {
      "cell_type": "code",
      "metadata": {
        "id": "w8AAs6ZsLWyk",
        "colab_type": "code",
        "outputId": "9633f511-9fbe-4b2b-e4a9-3dd8f86e6a4a",
        "colab": {
          "base_uri": "https://localhost:8080/",
          "height": 153
        }
      },
      "source": [
        "ml_model = LogisticRegression()\n",
        "ml_model.fit(X_train, y_train);"
      ],
      "execution_count": 0,
      "outputs": [
        {
          "output_type": "stream",
          "text": [
            "/usr/local/lib/python3.6/dist-packages/sklearn/linear_model/_logistic.py:940: ConvergenceWarning: lbfgs failed to converge (status=1):\n",
            "STOP: TOTAL NO. of ITERATIONS REACHED LIMIT.\n",
            "\n",
            "Increase the number of iterations (max_iter) or scale the data as shown in:\n",
            "    https://scikit-learn.org/stable/modules/preprocessing.html\n",
            "Please also refer to the documentation for alternative solver options:\n",
            "    https://scikit-learn.org/stable/modules/linear_model.html#logistic-regression\n",
            "  extra_warning_msg=_LOGISTIC_SOLVER_CONVERGENCE_MSG)\n"
          ],
          "name": "stderr"
        }
      ]
    },
    {
      "cell_type": "markdown",
      "metadata": {
        "id": "Z7eiyzZsMaRS",
        "colab_type": "text"
      },
      "source": [
        "Com o modelo treinado pode-se realizar a predição da variável X_test, para que assim possa realizar a comparação entre a predição e o resultado real."
      ]
    },
    {
      "cell_type": "markdown",
      "metadata": {
        "id": "eRRWQa06qI9l",
        "colab_type": "text"
      },
      "source": [
        "Abaixo foi realizado a predição,"
      ]
    },
    {
      "cell_type": "code",
      "metadata": {
        "id": "AO4A1KJNMhw-",
        "colab_type": "code",
        "colab": {}
      },
      "source": [
        "y_pred = ml_model.predict(X_test)"
      ],
      "execution_count": 0,
      "outputs": []
    },
    {
      "cell_type": "markdown",
      "metadata": {
        "id": "mYsikPjtqLoO",
        "colab_type": "text"
      },
      "source": [
        "Com a predição realizada abaixo foi verificado os resultados da predição."
      ]
    },
    {
      "cell_type": "code",
      "metadata": {
        "id": "Pzw644hVMmzF",
        "colab_type": "code",
        "outputId": "ce9f93e5-777c-4201-cd90-eb9d655d7556",
        "colab": {
          "base_uri": "https://localhost:8080/",
          "height": 170
        }
      },
      "source": [
        "print(classification_report(y_test,y_pred, digits=4))"
      ],
      "execution_count": 0,
      "outputs": [
        {
          "output_type": "stream",
          "text": [
            "              precision    recall  f1-score   support\n",
            "\n",
            "           0     0.9993    0.9996    0.9994     71079\n",
            "           1     0.7292    0.5691    0.6393       123\n",
            "\n",
            "    accuracy                         0.9989     71202\n",
            "   macro avg     0.8642    0.7844    0.8194     71202\n",
            "weighted avg     0.9988    0.9989    0.9988     71202\n",
            "\n"
          ],
          "name": "stdout"
        }
      ]
    },
    {
      "cell_type": "code",
      "metadata": {
        "id": "MvLbP7GCM4tU",
        "colab_type": "code",
        "outputId": "d7408502-a3ae-4fa7-f533-4657eb267f9a",
        "colab": {
          "base_uri": "https://localhost:8080/",
          "height": 297
        }
      },
      "source": [
        "fig, ax = plt.subplots()\n",
        "\n",
        "sns.heatmap(confusion_matrix(y_test, y_pred), annot=True, ax=ax, linewidths=2, fmt='')\n",
        "ax.set_ylabel(\"Valores reais\")\n",
        "ax.set_xlabel(\"Valores previstos\")\n",
        "\n",
        "\n",
        "fig.tight_layout()"
      ],
      "execution_count": 0,
      "outputs": [
        {
          "output_type": "display_data",
          "data": {
            "image/png": "[encoded data removed]",
            "text/plain": [
              "<Figure size 432x288 with 2 Axes>"
            ]
          },
          "metadata": {
            "tags": []
          }
        }
      ]
    },
    {
      "cell_type": "markdown",
      "metadata": {
        "id": "oBkY3GFOVt3q",
        "colab_type": "text"
      },
      "source": [
        "**Resultados para o primeiro modelo de machine learning**"
      ]
    },
    {
      "cell_type": "markdown",
      "metadata": {
        "id": "caNnuQhNwA2P",
        "colab_type": "text"
      },
      "source": [
        "\n",
        "\n",
        "\n",
        "Acima pode-se ver a matriz de confusão.\n",
        "\n",
        "> **Transações normais:**\n",
        "\n",
        " Na linha *transações normais (Class == 0)*, percebe-se que existe um quadrado com 71053 e outro com 26.\n",
        "\n",
        " Somando o resultado total de transações não criminosas, obtêm-se o resultado: \n",
        "\n",
        "$$ 71053 + 26 = 71079 $$\n",
        "****\n",
        "****\n",
        " Probabilidade de acerto:\n",
        "* Logo existem 71053 transações normais no conjunto teste e desse total, 71053 foram previstas como transações normais, essa foi a quantidade de transações normais que o modelo acertou.\n",
        "* Porém o modelo acabou considerando 26 dessas transações normais como fraudes, essa foi a quantidade de transações normais que o modelo errou. \n",
        "\n",
        "Dando assim que a probabilidade de acertos do modelo, quando for realmente uma transação normal, não criminosa o:\n",
        "\n",
        " $$ Recall = \\frac{71053}{71079} = 0,9996 $$\n",
        "\n",
        "Esse valor também está na tabela acima.\n",
        "****\n",
        "****\n",
        "Resumindo essa discussão foi feita com o intuito de mostrar que o modelo de *machine learning* tem uma alta probabilidade de detectar transações normais, sendo próxima de 100%.\n",
        "\n"
      ]
    },
    {
      "cell_type": "markdown",
      "metadata": {
        "id": "7kA6ZbY_zn3R",
        "colab_type": "text"
      },
      "source": [
        "> **transações fraudulentas:**\n",
        "\n",
        " Na matriz de confusão pode-se perceber que na linha 1 existe uma quantidade de 53 e outra de 70.\n",
        "\n",
        " Somando o resultado total de transações criminosas são: $$53+70 = 123$$\n",
        "\n",
        " assim esse resultado representa que 123 entradas foram transações criminosas *(Class==1)*.\n",
        "****\n",
        "****\n",
        "\n",
        " * Logo de 123 fraudes em transações 53 foram previstas pelo modelo como transações normais, logo o modelo errou em 53 transações.\n",
        "\n",
        " * Porém de 123 dessas fraudes, 70 foram previstas pelo modelo como realmente transações criminosas, logo o modelo acertou 70 vezes.\n",
        "\n",
        "Logo o percentual de acertos do modelo quando a transalção foi criminosa:\n",
        "\n",
        "$$Recall = \\frac{70}{123} = 0,5691$$\n",
        "\n",
        "Esse valor encotra-se na tabela acima também.\n",
        "****\n",
        "****\n",
        "Assim podemos concluir que em transações criminosas (onde um criminosos que roubou o clonou seu cartão), o modelo acerta 0,6585 das vezes, sendo muito inferior as transações normais. Resumindo este resultado foi bem ruim com 65,85% de acertos.\n",
        "\n",
        "Isso ocorreu pela razão que foi dita antes neste projeto, não existem dados suficientes para que o modelo treinasse e aprendesse a detectar os tipo de transações criminosas, e neste projeto foi mostrado esse problema.\n",
        "\n",
        "Logo abaixo será feito o balanceamento de dados para que seja notada a diferença entre os resultados."
      ]
    },
    {
      "cell_type": "markdown",
      "metadata": {
        "id": "eso8w-TjrGCE",
        "colab_type": "text"
      },
      "source": [
        "#### **6.1.2 Modelo de ML com o balancemento de dados**"
      ]
    },
    {
      "cell_type": "markdown",
      "metadata": {
        "id": "uOGVReRitVLz",
        "colab_type": "text"
      },
      "source": [
        "##### **6.1.2.1 Modelo de ML com o balancemento de dados através do Over Sampling**"
      ]
    },
    {
      "cell_type": "markdown",
      "metadata": {
        "id": "tzwwoYQsIGOy",
        "colab_type": "text"
      },
      "source": [
        "Bem agora iremos resolver o problema de haver poucos valores de fraudes *(Class==1)* no data set como um todo.\n",
        "\n",
        "Para isso foi feito o balanceamento de dados, o método utilizado foi o **sampling** que são divididos em dois métodos:\n",
        "\n",
        "* Over Sampling: tem o objetivo de  criar novos dados a partir da classe minoritária de acordo com as informações contidas no data set. Normalmente isso pode ser feito por clustering ou sinteticamente.\n",
        "* Under Sampling: tem o objetivo de eliminar dados da classe majoritária, ou seja elimina aleatoriamente entradas da classe com maior número de ocorrências.\n",
        "\n",
        "Existem vantagens e desvantagens nestes métodos.\n",
        "\n",
        "É desvantajoso utilizar o Under Sampling, pois é perdido grande número de dados com o objetivo que haja proporcionalidade entre os dados, nessa situaçao *Class == 0* vai perder vários dados até ficar na mesma quantidade de *Class ==1*.\n",
        "\n",
        "Por essa razão neste projeto foi utilizado o método Over Sampling que tem como foco criar novos dados até que o tipo de variáveis *Class == 1* tenha a mesma quantida do que *Class == 0*.  \n",
        "\n"
      ]
    },
    {
      "cell_type": "markdown",
      "metadata": {
        "id": "3lwxzWaTrucZ",
        "colab_type": "text"
      },
      "source": [
        "Para utilizar o Over Sampling, foi utilizada a biblioteca imblearn, especificamente a função RandomOverSampler, como mostrado a baixo onde foi importado a biblioteca."
      ]
    },
    {
      "cell_type": "code",
      "metadata": {
        "id": "sqhsIz50Iv3P",
        "colab_type": "code",
        "colab": {}
      },
      "source": [
        "from imblearn.over_sampling import RandomOverSampler"
      ],
      "execution_count": 0,
      "outputs": []
    },
    {
      "cell_type": "markdown",
      "metadata": {
        "id": "5qKmXJnPIgbD",
        "colab_type": "text"
      },
      "source": [
        "Abaixo foi utilizada a função RandomOverSampler, e utilizado as variáveis X e y, lembrando que:\n",
        "\n",
        "* X: possui todas as variáveis independentes do data set\n",
        "* y: possui a variável Class dependente\n",
        "\n",
        "Logo essas duas variáveis tem todos as entradas do conjunto de dados, e assim estes foram utilziados dentro da função ros.fit_sample, esta que criou novo dados para o tipo Class==1 e atribuindo todos as variáveis X_ros e y_ros."
      ]
    },
    {
      "cell_type": "code",
      "metadata": {
        "id": "IBR344VtJMu4",
        "colab_type": "code",
        "outputId": "e611ab4e-5758-4bc3-c3e3-05cacc413ca3",
        "colab": {
          "base_uri": "https://localhost:8080/",
          "height": 71
        }
      },
      "source": [
        "ros = RandomOverSampler()\n",
        "\n",
        "X_ros, y_ros = ros.fit_sample(X, y)"
      ],
      "execution_count": 0,
      "outputs": [
        {
          "output_type": "stream",
          "text": [
            "/usr/local/lib/python3.6/dist-packages/sklearn/utils/deprecation.py:87: FutureWarning: Function safe_indexing is deprecated; safe_indexing is deprecated in version 0.22 and will be removed in version 0.24.\n",
            "  warnings.warn(msg, category=FutureWarning)\n"
          ],
          "name": "stderr"
        }
      ]
    },
    {
      "cell_type": "markdown",
      "metadata": {
        "id": "c6SFdASSgAfu",
        "colab_type": "text"
      },
      "source": [
        "Abaixo está um gráfico de barras que mostra como as está proporcional as duas variáveis."
      ]
    },
    {
      "cell_type": "code",
      "metadata": {
        "id": "_TDl5HiepUT2",
        "colab_type": "code",
        "colab": {}
      },
      "source": [
        "y_ros = pd.Series(y_ros)"
      ],
      "execution_count": 0,
      "outputs": []
    },
    {
      "cell_type": "markdown",
      "metadata": {
        "id": "GE4WkEPVp7F-",
        "colab_type": "text"
      },
      "source": [
        " Abaixo pode ser visto o conjunto de dados estão realmente balanceados."
      ]
    },
    {
      "cell_type": "code",
      "metadata": {
        "id": "jJfpFjYlnmlC",
        "colab_type": "code",
        "outputId": "bc4e045b-cc08-445d-85e0-29b2d635a931",
        "colab": {
          "base_uri": "https://localhost:8080/",
          "height": 297
        }
      },
      "source": [
        "fig, ax = plt.subplots()\n",
        "\n",
        "sns.countplot(y_ros)\n",
        "\n",
        "fig.tight_layout();"
      ],
      "execution_count": 0,
      "outputs": [
        {
          "output_type": "display_data",
          "data": {
            "image/png": "[encoded data removed]",
            "text/plain": [
              "<Figure size 432x288 with 1 Axes>"
            ]
          },
          "metadata": {
            "tags": []
          }
        }
      ]
    },
    {
      "cell_type": "markdown",
      "metadata": {
        "id": "otNCJgWreqIB",
        "colab_type": "text"
      },
      "source": [
        "Abaixo foi plotado um heatmap par verificar as correlações presentes para cada variável, neste observa-se dois heatmap, pois agora com as variáveis balanceadas é possível ver a diferença entre antes de balanceada e depois."
      ]
    },
    {
      "cell_type": "code",
      "metadata": {
        "id": "jSoJP-5iXC4N",
        "colab_type": "code",
        "outputId": "55900fb0-e76f-40a0-8036-f64605c7058e",
        "colab": {
          "base_uri": "https://localhost:8080/",
          "height": 441
        }
      },
      "source": [
        "#ajustando nova variável heat para criação do novo heatmap\n",
        "heat = pd.DataFrame(X_ros)\n",
        "heat['Class'] = 0\n",
        "heat['Class'] = y_ros\n",
        "heat.columns = df.columns\n",
        "\n",
        "fig, ax = plt.subplots(ncols = 2, figsize=(14,6))\n",
        "\n",
        "sns.heatmap(data=heat.corr(), ax=ax[1], cmap='coolwarm', linewidths=1)\n",
        "sns.heatmap(data=df.corr(), ax=ax[0], cmap='coolwarm', linewidths=1)\n",
        "\n",
        "ax[0].set_title(\"Heatmap com dados desbalaceados\", fontsize=15)\n",
        "ax[1].set_title(\"Heatmap com dados balanceados\", fontsize=15)\n",
        "\n",
        "\n",
        "fig.tight_layout();"
      ],
      "execution_count": 0,
      "outputs": [
        {
          "output_type": "display_data",
          "data": {
            "image/png": "[encoded data removed]",
            "text/plain": [
              "<Figure size 1008x432 with 4 Axes>"
            ]
          },
          "metadata": {
            "tags": []
          }
        }
      ]
    },
    {
      "cell_type": "markdown",
      "metadata": {
        "id": "Fx8Dkhi9fkIb",
        "colab_type": "text"
      },
      "source": [
        "Observa-se uma grande diferença entre o antes e depois do balancemento.\n",
        "\n",
        "Com o balanceamento de dados nota-se que agora é possível ver correlações antes não existia, exemplo em toda a parte esquerda superior apareceu altas correlações posítivas e negativas. "
      ]
    },
    {
      "cell_type": "markdown",
      "metadata": {
        "id": "7Y2bmIx0gKek",
        "colab_type": "text"
      },
      "source": [
        "Com isso será separado o novo conjunto de dados que estão balanceados, e estes serão todos atrubuídos para nova respectivas variáveis que estão com o nome ros."
      ]
    },
    {
      "cell_type": "code",
      "metadata": {
        "id": "fL-gnVIZOIJq",
        "colab_type": "code",
        "colab": {}
      },
      "source": [
        "X_train_ros, X_test_ros, y_train_ros, y_test_ros = train_test_split(X_ros, y_ros)"
      ],
      "execution_count": 0,
      "outputs": []
    },
    {
      "cell_type": "markdown",
      "metadata": {
        "id": "5djlEBHrgYWk",
        "colab_type": "text"
      },
      "source": [
        "Separado o conjunto de dados em treino e teste, pode-se agora realizar o treino do modelo de machine learning com as variáveis treino, como foi feito abaixo."
      ]
    },
    {
      "cell_type": "code",
      "metadata": {
        "id": "GdTnXKVfO4yu",
        "colab_type": "code",
        "outputId": "3d640ccf-9ad8-476a-a8a7-b28c26ca8c2f",
        "colab": {
          "base_uri": "https://localhost:8080/",
          "height": 238
        }
      },
      "source": [
        "ml_model.fit(X_train_ros, y_train_ros)"
      ],
      "execution_count": 0,
      "outputs": [
        {
          "output_type": "stream",
          "text": [
            "/usr/local/lib/python3.6/dist-packages/sklearn/linear_model/_logistic.py:940: ConvergenceWarning: lbfgs failed to converge (status=1):\n",
            "STOP: TOTAL NO. of ITERATIONS REACHED LIMIT.\n",
            "\n",
            "Increase the number of iterations (max_iter) or scale the data as shown in:\n",
            "    https://scikit-learn.org/stable/modules/preprocessing.html\n",
            "Please also refer to the documentation for alternative solver options:\n",
            "    https://scikit-learn.org/stable/modules/linear_model.html#logistic-regression\n",
            "  extra_warning_msg=_LOGISTIC_SOLVER_CONVERGENCE_MSG)\n"
          ],
          "name": "stderr"
        },
        {
          "output_type": "execute_result",
          "data": {
            "text/plain": [
              "LogisticRegression(C=1.0, class_weight=None, dual=False, fit_intercept=True,\n",
              "                   intercept_scaling=1, l1_ratio=None, max_iter=100,\n",
              "                   multi_class='auto', n_jobs=None, penalty='l2',\n",
              "                   random_state=None, solver='lbfgs', tol=0.0001, verbose=0,\n",
              "                   warm_start=False)"
            ]
          },
          "metadata": {
            "tags": []
          },
          "execution_count": 113
        }
      ]
    },
    {
      "cell_type": "markdown",
      "metadata": {
        "id": "k7uNL32iglhU",
        "colab_type": "text"
      },
      "source": [
        "Agora com o modelo treinado foi utilizada a variável x_test_ros para prever os valores de Class se as transações são fraudes ou não. "
      ]
    },
    {
      "cell_type": "code",
      "metadata": {
        "id": "JGfCgR4NOuuV",
        "colab_type": "code",
        "colab": {}
      },
      "source": [
        "y_pred_ros = ml_model.predict(X_test)"
      ],
      "execution_count": 0,
      "outputs": []
    },
    {
      "cell_type": "markdown",
      "metadata": {
        "id": "azXiGfH-hO2Z",
        "colab_type": "text"
      },
      "source": [
        "Com o modelo treinado pode-se comparar os resultado previstos pelo modelo de machine learning e o real resultado. Isso foi realizado abaixo, como pode ser visto na tabela que mostra os valores de precisão e recall, e também foi feita uma matriz de confusão. "
      ]
    },
    {
      "cell_type": "code",
      "metadata": {
        "id": "SnUOFCrXP-O-",
        "colab_type": "code",
        "outputId": "dd3e006d-62d4-4162-dae6-1403cbd4f8e8",
        "colab": {
          "base_uri": "https://localhost:8080/",
          "height": 170
        }
      },
      "source": [
        "print(classification_report(y_test, y_pred_ros, digits=4))"
      ],
      "execution_count": 0,
      "outputs": [
        {
          "output_type": "stream",
          "text": [
            "              precision    recall  f1-score   support\n",
            "\n",
            "           0     0.9998    0.9699    0.9846     71079\n",
            "           1     0.0489    0.8943    0.0927       123\n",
            "\n",
            "    accuracy                         0.9698     71202\n",
            "   macro avg     0.5244    0.9321    0.5387     71202\n",
            "weighted avg     0.9982    0.9698    0.9831     71202\n",
            "\n"
          ],
          "name": "stdout"
        }
      ]
    },
    {
      "cell_type": "markdown",
      "metadata": {
        "id": "3i_v38lkYABI",
        "colab_type": "text"
      },
      "source": [
        "Abaixo foi realizado a matriz de confusão, nota-se que essa matriz é semelhante a anterior e aprensenta dentro de cada respectivo quadrado um valor.\n",
        "\n",
        "Porém antes de verificar a matriz de confusão pode-se perceber uma melhora de todos os parâmetros referentes a Class==1, se vê uma diminuição dos valores de Class==0, porém isso é normal, faz parte perder um pouco de precisão em uma variável mas ganhar em outra, isso será explicado melhor abaixo.\n"
      ]
    },
    {
      "cell_type": "markdown",
      "metadata": {
        "id": "OlE9RXM6NPAs",
        "colab_type": "text"
      },
      "source": [
        "##### **Resultados Over Sampling**"
      ]
    },
    {
      "cell_type": "code",
      "metadata": {
        "id": "LmAWdjZpQJqO",
        "colab_type": "code",
        "outputId": "72bfb820-340a-45de-ffa9-c5f9bfa04e16",
        "colab": {
          "base_uri": "https://localhost:8080/",
          "height": 297
        }
      },
      "source": [
        "fig, ax = plt.subplots()\n",
        "\n",
        "sns.heatmap(confusion_matrix(y_test, y_pred_ros), ax=ax, annot=True,annot_kws={\"size\": 12}, fmt='')\n",
        "\n",
        "fig.tight_layout()"
      ],
      "execution_count": 0,
      "outputs": [
        {
          "output_type": "display_data",
          "data": {
            "image/png": "[encoded data removed]",
            "text/plain": [
              "<Figure size 432x288 with 2 Axes>"
            ]
          },
          "metadata": {
            "tags": []
          }
        }
      ]
    },
    {
      "cell_type": "markdown",
      "metadata": {
        "id": "6OMhz-0ReaQx",
        "colab_type": "text"
      },
      "source": [
        "**Transações normais *(Class == 0)***\n",
        "\n",
        "Primeiramente vamos analisar as entradas que possuiam *(Class==0)*, e verificar o valor de seu recall através de calculos para um melhor entendimento, logo estaremos olhando para linha 0. \n",
        "\n",
        "O somatório dos dois quadrados da linha 0 é:\n",
        "\n",
        "*(Class == 0)* : $$68939 + 2140 = 71079$$\n",
        "\n",
        "****\n",
        "****\n",
        "* De 71049 transações normais (Class==0), 68592 foram previstas pelo modelo de machine learning como realmente sendo transações normais, logo o modelo acertou 68592 dando um percentual de:\n",
        "\n",
        "$$ Recall = \\frac{68939}{71079} = 0.9699 $$\n",
        "\n",
        "****\n",
        "****\n",
        "\n",
        "* Já de 71079 transações normais *(Class == 0)*, 2577 foram previstas como fraudes, o modelo previu como sendo *(Class == 1)*, esses sendo a quantidade de erro do modelo, com  um percentual de erro:\n",
        "\n",
        "\n",
        "Mesmo havendo uma diminuição do valor de acertos para *(Class == 0)* ainda continua sendo um ótimo resultado.\n",
        "\n"
      ]
    },
    {
      "cell_type": "markdown",
      "metadata": {
        "id": "Nq0jV2IOgRzr",
        "colab_type": "text"
      },
      "source": [
        "**Transações fraudulentas *(Class==1)***\n",
        "\n",
        "Agora vamos focar na segunda linha que apresenta as entradas de onde as transações foram criminosas *(Class == 1)*.\n",
        "\n",
        "Somando os dois quadrados da segunda linha:\n",
        "\n",
        "*(Class == 1)*:$$ 110 + 13 = 123 $$\n",
        "****\n",
        "****\n",
        "* De 123 fraudes em transações, 13 dessas foram previstas pelo modelo de machine learning como transações normais, logo esses foram resultados errados.\n",
        "****\n",
        "****\n",
        "* De 123 fraude em transações, 110 foram previstas pelo modelo como realmente sendo fraudes, logo essa foi a quantidade de fraudes que o modelo acertou:\n",
        "\n",
        "$$ Recall = \\frac{110}{123} = 0.8943 $$\n",
        "\n",
        "****\n",
        "****\n",
        "\n",
        "A partir deste resultado é possível perceber uma significativa melhora no modelo de machine learning, com o balanceamento o modelo teve um maior conjunto de dados do tipo *(Class == 1)*, assim o modelo teve maior capacidade de aprender como prever com maior eficiencia transações criminosas.\n",
        "\n"
      ]
    },
    {
      "cell_type": "markdown",
      "metadata": {
        "id": "F5aqHlQUduY1",
        "colab_type": "text"
      },
      "source": [
        "É possível ver esses valores de recall na tabela de classificação feita acima, como os valores de recall deram altos e também a accurária do modelo que representa um percentual global, agora pode-se dizer que o modelo de machine learning criado apresenta resultados satisfatórios."
      ]
    },
    {
      "cell_type": "markdown",
      "metadata": {
        "id": "WcvWKqe7T23i",
        "colab_type": "text"
      },
      "source": [
        "Abaixo pode-se ser novamente a mesma matriz de confusão acima, porém com os valores de porcentagem de cada."
      ]
    },
    {
      "cell_type": "markdown",
      "metadata": {
        "id": "dH9xB00sNaXM",
        "colab_type": "text"
      },
      "source": [
        "**Resultados Over Sampling**"
      ]
    },
    {
      "cell_type": "code",
      "metadata": {
        "id": "NhYtWhTvTNsW",
        "colab_type": "code",
        "outputId": "79fb243b-2da7-4928-ca9a-fd27bf6de204",
        "colab": {
          "base_uri": "https://localhost:8080/",
          "height": 312
        }
      },
      "source": [
        "skplt.metrics.plot_confusion_matrix(y_test, y_pred_ros, normalize=True)"
      ],
      "execution_count": 0,
      "outputs": [
        {
          "output_type": "execute_result",
          "data": {
            "text/plain": [
              "<matplotlib.axes._subplots.AxesSubplot at 0x7f6abab88a58>"
            ]
          },
          "metadata": {
            "tags": []
          },
          "execution_count": 117
        },
        {
          "output_type": "display_data",
          "data": {
            "image/png": "[encoded data removed]",
            "text/plain": [
              "<Figure size 432x288 with 2 Axes>"
            ]
          },
          "metadata": {
            "tags": []
          }
        }
      ]
    },
    {
      "cell_type": "markdown",
      "metadata": {
        "id": "7ftgURErm3UC",
        "colab_type": "text"
      },
      "source": [
        "Para terminar foi realizado o outro método under sampling, assim para comparar as duas matrizes de confusão.\n",
        "\n",
        "Como este método é bem semelhante ao anterior, porém foca em preservar as variáveis minoritárias não será explicado o passo a passo."
      ]
    },
    {
      "cell_type": "markdown",
      "metadata": {
        "id": "PJik0s2uNcXn",
        "colab_type": "text"
      },
      "source": [
        "##### **6.1.2.2 Resultados Under Sampling**"
      ]
    },
    {
      "cell_type": "code",
      "metadata": {
        "id": "Jbge39UdnB8O",
        "colab_type": "code",
        "outputId": "14d8c318-b182-4b81-8e13-ff872a09e89b",
        "colab": {
          "base_uri": "https://localhost:8080/",
          "height": 366
        }
      },
      "source": [
        "from imblearn.under_sampling import RandomUnderSampler\n",
        "rus = RandomUnderSampler()\n",
        "\n",
        "X_rus, y_rus = rus.fit_sample(X_train, y_train)\n",
        "\n",
        "X_rus_train, X_rus_test, y_rus_train, y_rus_test = train_test_split(X_rus, y_rus)\n",
        "\n",
        "ml_new_model = LogisticRegression()\n",
        "\n",
        "ml_new_model.fit(X_rus_train, y_rus_train)\n",
        "\n",
        "y_rus_pred = ml_new_model.predict(X_test)\n",
        "\n",
        "skplt.metrics.plot_confusion_matrix(y_test, y_rus_pred, normalize=True)"
      ],
      "execution_count": 0,
      "outputs": [
        {
          "output_type": "stream",
          "text": [
            "/usr/local/lib/python3.6/dist-packages/sklearn/utils/deprecation.py:87: FutureWarning: Function safe_indexing is deprecated; safe_indexing is deprecated in version 0.22 and will be removed in version 0.24.\n",
            "  warnings.warn(msg, category=FutureWarning)\n"
          ],
          "name": "stderr"
        },
        {
          "output_type": "execute_result",
          "data": {
            "text/plain": [
              "<matplotlib.axes._subplots.AxesSubplot at 0x7f6abce48908>"
            ]
          },
          "metadata": {
            "tags": []
          },
          "execution_count": 127
        },
        {
          "output_type": "display_data",
          "data": {
            "image/png": "[encoded data removed]",
            "text/plain": [
              "<Figure size 432x288 with 2 Axes>"
            ]
          },
          "metadata": {
            "tags": []
          }
        }
      ]
    },
    {
      "cell_type": "markdown",
      "metadata": {
        "id": "CAAFF6ZwNnXv",
        "colab_type": "text"
      },
      "source": [
        "##### **6.1.2.3 Comparação Over Sampling e Under Sampling**"
      ]
    },
    {
      "cell_type": "markdown",
      "metadata": {
        "id": "LygkRW1qqGr9",
        "colab_type": "text"
      },
      "source": [
        "Observa-se valores bem semelhantes entre os dois métodos.\n",
        "\n",
        "Para transações criminosas o método apresentou o mesmo desempenho do que quando utilizado o *Over Sampling*, porém para transações normais houve uma pequena queda do desempenho:\n",
        "\n",
        "* Over sampling: $$Recall_{(Class==0)} = 0.97$$\n",
        "* Under sampling: $$Recall_{(Class==0)} = 0.93$$\n",
        "\n",
        "Essa diferença de 5% pode trazer maiores prejuízos a um banco, logo neste projeto o método *Over Sampling* tem melhores resultados."
      ]
    },
    {
      "cell_type": "markdown",
      "metadata": {
        "id": "AXBZoIByBkFH",
        "colab_type": "text"
      },
      "source": [
        "##### **6.2 Perspectiva da empresa através do modelo de ML**"
      ]
    },
    {
      "cell_type": "markdown",
      "metadata": {
        "id": "cpCRseHgJYR-",
        "colab_type": "text"
      },
      "source": [
        "![alt text](https://image.freepik.com/free-photo/qa-quality-assurance-quality-control-concept_31965-2290.jpg)"
      ]
    },
    {
      "cell_type": "markdown",
      "metadata": {
        "id": "A6-qM5jT_pyt",
        "colab_type": "text"
      },
      "source": [
        "Por fim pensando em uma situação real onde um banco precisa ter o melhor modelo de predição possível para trazer a melhor a satisfação a seus clientes, observa-se que modelo que apresentou um desempenho mais eficaz foi o *Over Sampling*, assim abaixo foi levantado mais alguns pontos sobre a qualidade deste modelo."
      ]
    },
    {
      "cell_type": "markdown",
      "metadata": {
        "id": "2jf98jg_Cicn",
        "colab_type": "text"
      },
      "source": [
        "De acordo com o dataset disponibilizado houve uma quantidade de transações no mês de setembro 2013 de:\n",
        "\n",
        "* *(Class == 0)*:    284315\n",
        "* *(Class == 1)*:       492\n",
        "\n",
        "Será aplicado esses números para avaliar o modelo de machine learning, pois estes são a quantidade de transações reais em um mês."
      ]
    },
    {
      "cell_type": "markdown",
      "metadata": {
        "id": "Q8Yyg-0RA-xF",
        "colab_type": "text"
      },
      "source": [
        "Caso utilizado o  demodelo de *machine learnig* utilizando o método *Over Sampling* para transações normais *(Class == 0)*, este apresentou que 3% de seus clientes tem problemas com bloqueio errado de seus cartões de créditos, logo para esse mês setembro que tiveram 284315 transações normais isso representa uma quantidade de:\n",
        "\n",
        "\n",
        "$$  Clientes_{prejudicados} = 284315 * 0.03 = 8529 $$\n",
        "\n",
        "Para os casos onde a transação foram criminosas, assim os clientes tiveram seu cartão clonados e o modelo não detectou como transação criminosa foi de 11%, logo para esse mês setembro que tiveram 492 fraudes em transações isso representa uma quantidade de:\n",
        "\n",
        "$$Clientes_{prejudicados} = 492 * 0.11 = 54$$\n",
        "\n",
        "Totalizando **8583** clientes prejudicados."
      ]
    },
    {
      "cell_type": "markdown",
      "metadata": {
        "id": "X1013MP_Gikr",
        "colab_type": "text"
      },
      "source": [
        "Pensando em 8583 clientes prejudicados por mês e possivelmente insatisfeitos com os serviços do banco acaba sendo um grande número de clientes, isso pode trazer prejuízos lucrativos, desistências de cartões de crédito, perdas de clientes e entre outros fatores. Logo fica alguns pontos que podem ser levantados para um banco avaliar se o desempenho do modelo é bom:\n",
        "\n",
        "* Quais são os índices dos concorrentes, estou no mesmo nível de segurança deles, trago alguma vantagem em meu modelo?\n",
        "* Quais são os índices de segurança para os clientes, muitos estão sendo afetados?\n",
        "* Qual o nível de qualidade sigma de serviços a companhia almeja?\n",
        "* Em casos de problemas o quanto flexivel é o serviço da companhia para resolver o problema dos clientes?\n",
        "\n",
        "Essas são apenas algumas perguntas que devem ser respondidas para conferir se o modelo realmente traz benfícios significativos a companhia, claramente esse modelo feito neste projeto foi bem simples, e esse modelo pode ser aperfeicoado e obtido resultados cada vez melhores."
      ]
    },
    {
      "cell_type": "markdown",
      "metadata": {
        "id": "Y5qpRPPDUlrU",
        "colab_type": "text"
      },
      "source": [
        "## **7. Conslusão**\n",
        "\n",
        "Através deste projeto tive o primeiro contato com aplicação em machine learning. Foram encontrados alguns desafios no projeto estes como o desbalanceamento de dados e os outliers presentes na variável *Amount*.\n",
        "\n",
        "Foi proposto realizar a normalização da variável *Amount* para diminuir as discrepâncias dos pontos, o que deu certo pois o modelo não foi prejudicado.\n",
        "\n",
        "A partir do desbalanceamento de dados foi possível perceber a diferença do antes e depois do balanceamento, e como a pequena quantidade de fraudes de transações atrapalhou o modelo, porém utilizando o método Under Sapling isso foi corrigido, e o predição do modelo melhorou significativamente para prever transações criminosas. "
      ]
    }
  ]
}