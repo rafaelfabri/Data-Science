{
  "nbformat": 4,
  "nbformat_minor": 0,
  "metadata": {
    "colab": {
      "name": " Analisando a Violência no Rio de Janeirob.ipynb",
      "provenance": [],
      "collapsed_sections": [],
      "include_colab_link": true
    },
    "kernelspec": {
      "name": "python3",
      "display_name": "Python 3"
    }
  },
  "cells": [
    {
      "cell_type": "markdown",
      "metadata": {
        "id": "view-in-github",
        "colab_type": "text"
      },
      "source": [
        "<a href=\"https://colab.research.google.com/github/rafaelfabri/Data-Science/blob/master/Analisando_a_Viol%C3%AAncia_no_Rio_de_Janeirob.ipynb\" target=\"_parent\"><img src=\"https://colab.research.google.com/assets/colab-badge.svg\" alt=\"Open In Colab\"/></a>"
      ]
    },
    {
      "cell_type": "markdown",
      "metadata": {
        "id": "kLI0gJtzDGuQ",
        "colab_type": "text"
      },
      "source": [
        "<center><img src=\"http://sigmoidal.ai/wp-content/uploads/2019/08/logo_color.png\" height=\"40px\"></center>\n",
        "\n",
        "# **Analisando a Violência no Rio de Janeiro**\n",
        "\n",
        "\n",
        "\n",
        "\n",
        "\n"
      ]
    },
    {
      "cell_type": "markdown",
      "metadata": {
        "id": "IQWKIpTYUD7d",
        "colab_type": "text"
      },
      "source": [
        "# **1. Introdução**\n",
        "\n",
        "![alt text](https://wallpaperaccess.com/full/125819.jpg)\n",
        "\n",
        "A região do Rio de Janeiro foi encontrada durante o ano de 1502, em uma expedição Portuguesa. Porém na verdade os primeiros a chegarem na região foram os Franceses, e assim estes batalharam pela região, no ano de 1567 os Franceses foram expulsos da cidade, sendo assim colonizada pelo os Portugueses. \n",
        "\n",
        "A cidade do Rio de Janeiro possuía muitas vantagens, uma dessas é a Baía de Guanabara, assim houve o surgimento de uma zona portuária, com intuíto de abrir um área comercial na região, ali era comercializado peixes, madeira e cana de acuçar, a partir deste momento a população começou a crescer, chegando atualemente em 6,32 milhões de habitantes. [(Thais Pacievitch)](https://www.infoescola.com/rio-de-janeiro/historia-do-rio-de-janeiro/)"
      ]
    },
    {
      "cell_type": "markdown",
      "metadata": {
        "id": "fZMSvlwsjuN9",
        "colab_type": "text"
      },
      "source": [
        "# **Sumário**\n",
        "\n",
        "* 1. Introdução \n",
        "\n",
        "\n",
        "* 2. Obtenção dos dados\n",
        "  * 2.1 Importando dados\n",
        "\n",
        "\n",
        "* 3. Análise inicial de dados \n",
        "  * 3.1 Quantidade de linhas e colunas\n",
        "  * 3.2 Nomes de cada coluna/variável\n",
        "  * 3.3 Cinco primeira linhas \n",
        "  * 3.4 Porcentagem de dados ausentes\n",
        "\n",
        "\n",
        "* 4. Informações Estatísticas da Violência no Rio de Janeiro\n",
        "  * 4.1 Descrição estatitística de cada variável\n",
        "  * 4.2 Verificação de pontos discrepantes (BoxPlot)\n",
        "  * 4.3 Análises sobre os veículos (furto, roubo e recuperado)\n",
        "  * 4.4 Algumas informações sobre homicídio doloso\n",
        "    * 4.4.1  Visualização de Dados\n",
        "  * 4.5 Gráfico de dispersão para roubo em coletivo\n",
        "\n",
        "  \n",
        "* 5. Conclusão"
      ]
    },
    {
      "cell_type": "markdown",
      "metadata": {
        "id": "0zxQHhIUDF_2",
        "colab_type": "text"
      },
      "source": [
        "## **2. Obtenção dos Dados**\n",
        "\n",
        "Os dados foram coletados do site oficial do Governo do estado do Rio de Janeiro. \n",
        "\n",
        "O site foi o ISPDados - Dados Abertos do Instituto de Segurança Pública.\n",
        "\n",
        "Nele contém todas informações e registro criminais e das atividades da polícia do estado do Rio de Janeiro.\n",
        "\n",
        "A partir deste dados será estudado se existem outliers (pontos discrepantes), dados ausentes, ou algum outro problema com o Data set.\n",
        "\n",
        "Poderam ser avaliados possíveis épocas de maior indice de criminalidade,correlações entre váriaveis, informações estatísticas, histogramas e entre outras possibilidades, e tirados alguns insight deste data set.  \n"
      ]
    },
    {
      "cell_type": "markdown",
      "metadata": {
        "id": "uYOw6ecZuFz0",
        "colab_type": "text"
      },
      "source": [
        "O conjunto de dados foram retirados do site [inspdados.](http://www.ispdados.rj.gov.br/estatistica.html)"
      ]
    },
    {
      "cell_type": "code",
      "metadata": {
        "id": "Y_XLJgTdqWrs",
        "colab_type": "code",
        "colab": {}
      },
      "source": [
        "import pandas as pd\n",
        "import matplotlib.pyplot as plt\n",
        "import numpy as np\n",
        "import seaborn as sns"
      ],
      "execution_count": 0,
      "outputs": []
    },
    {
      "cell_type": "markdown",
      "metadata": {
        "id": "7vh4at0l90nr",
        "colab_type": "text"
      },
      "source": [
        "### **2.1 Importando os dado**s\n",
        "\n",
        "Os dados serão importados na célula abaixo, a partir de uma função da bilblioteca Pandas. "
      ]
    },
    {
      "cell_type": "code",
      "metadata": {
        "id": "CYLNme_OCX_R",
        "colab_type": "code",
        "colab": {}
      },
      "source": [
        "df = pd.read_csv(\"https://raw.githubusercontent.com/carlosfab/curso_data_science_na_pratica/master/modulo_02/violencia_rio.csv\", index_col='vano')"
      ],
      "execution_count": 0,
      "outputs": []
    },
    {
      "cell_type": "markdown",
      "metadata": {
        "id": "28St4upiQD5e",
        "colab_type": "text"
      },
      "source": [
        "Abaixo foi importado mais um vez o mesmo conjunto de dados, porém desta vez a coluna que contém as datas não serão índices, isso foi feito pois para que seja mais fácil a plotagem de um gráfico a seguir neste projeto."
      ]
    },
    {
      "cell_type": "code",
      "metadata": {
        "id": "Jv7xUeUWJE6d",
        "colab_type": "code",
        "colab": {}
      },
      "source": [
        "df_sub = pd.read_csv(\"https://raw.githubusercontent.com/carlosfab/curso_data_science_na_pratica/master/modulo_02/violencia_rio.csv\")"
      ],
      "execution_count": 0,
      "outputs": []
    },
    {
      "cell_type": "markdown",
      "metadata": {
        "id": "MZ_pZS8uaVwZ",
        "colab_type": "text"
      },
      "source": [
        "Aqui foi feita outra cópia do primeiro data set."
      ]
    },
    {
      "cell_type": "code",
      "metadata": {
        "id": "po97m-hISYXS",
        "colab_type": "code",
        "colab": {}
      },
      "source": [
        "df_scatter = df.copy()"
      ],
      "execution_count": 0,
      "outputs": []
    },
    {
      "cell_type": "markdown",
      "metadata": {
        "id": "qb5By2nIMS6m",
        "colab_type": "text"
      },
      "source": [
        "# **3. Análise Inicial dos Dados**\n",
        "\n",
        "Neste tópico será realizada uma análise exploratória de dados, com intuito de uma melhor interpretação e entendimento do data set.\n",
        "\n",
        "Serão verificados:\n",
        "\n",
        "* 3.1 - Quantidade de linhas e colunas\n",
        "* 3.2 - Nomes de cada coluna/variável e os tipo de de cada variável\n",
        "* 3.3 - A visualização das 5 primeiras linhas e 5 últimas linhas\n",
        "* 3.4 - Porcentegam de dados ausentes"
      ]
    },
    {
      "cell_type": "markdown",
      "metadata": {
        "id": "lEciWzHovI1m",
        "colab_type": "text"
      },
      "source": [
        "### **3.1 Quantidade de linhas e colunas**\n",
        "\n",
        "Abaixo é apresentado as informações complementares sobre o data set (conjunto de dados)."
      ]
    },
    {
      "cell_type": "code",
      "metadata": {
        "id": "8BA6sDTfu5Yt",
        "colab_type": "code",
        "outputId": "d877eaba-3736-4c00-e89c-ebef8389ad15",
        "colab": {
          "base_uri": "https://localhost:8080/",
          "height": 51
        }
      },
      "source": [
        "print('linhas', df.shape[0], '\\ncolunas', df.shape[1])"
      ],
      "execution_count": 0,
      "outputs": [
        {
          "output_type": "stream",
          "text": [
            "linhas 344 \n",
            "colunas 55\n"
          ],
          "name": "stdout"
        }
      ]
    },
    {
      "cell_type": "code",
      "metadata": {
        "id": "iCcahDtzrdZd",
        "colab_type": "code",
        "outputId": "fcf5529f-4015-4f2a-ae0d-5060d9b2ad88",
        "colab": {
          "base_uri": "https://localhost:8080/",
          "height": 51
        }
      },
      "source": [
        "print('o data set possui', df.shape[0], 'entradas')\n",
        "print('o data set possui', df.shape[1], 'variáveis')\n"
      ],
      "execution_count": 0,
      "outputs": [
        {
          "output_type": "stream",
          "text": [
            "o data set possui 344 entradas\n",
            "o data set possui 55 variáveis\n"
          ],
          "name": "stdout"
        }
      ]
    },
    {
      "cell_type": "markdown",
      "metadata": {
        "id": "ZDZfuat2vR7o",
        "colab_type": "text"
      },
      "source": [
        "### **3.2 Nomes de cada coluna/variável**\n",
        "\n",
        "Todos as colunas presentes no data set."
      ]
    },
    {
      "cell_type": "code",
      "metadata": {
        "id": "126grulsrvYw",
        "colab_type": "code",
        "outputId": "12ec64a0-5b2d-49b8-cf45-1bbd3fbdcf1f",
        "colab": {
          "base_uri": "https://localhost:8080/",
          "height": 969
        }
      },
      "source": [
        "display(df.dtypes)"
      ],
      "execution_count": 0,
      "outputs": [
        {
          "output_type": "display_data",
          "data": {
            "text/plain": [
              "mes                             int64\n",
              "hom_doloso                      int64\n",
              "lesao_corp_morte              float64\n",
              "latrocinio                      int64\n",
              "hom_por_interv_policial       float64\n",
              "tentat_hom                      int64\n",
              "lesao_corp_dolosa               int64\n",
              "estupro                       float64\n",
              "hom_culposo                   float64\n",
              "lesao_corp_culposa            float64\n",
              "roubo_comercio                  int64\n",
              "roubo_residencia                int64\n",
              "roubo_veiculo                   int64\n",
              "roubo_carga                     int64\n",
              "roubo_transeunte                int64\n",
              "roubo_em_coletivo               int64\n",
              "roubo_banco                     int64\n",
              "roubo_cx_eletronico           float64\n",
              "roubo_celular                 float64\n",
              "roubo_conducao_saque          float64\n",
              "roubo_apos_saque              float64\n",
              "roubo_bicicleta               float64\n",
              "outros_roubos                   int64\n",
              "total_roubos                    int64\n",
              "furto_veiculos                  int64\n",
              "furto_transeunte                int64\n",
              "furto_coletivo                float64\n",
              "furto_celular                 float64\n",
              "furto_bicicleta               float64\n",
              "outros_furtos                   int64\n",
              "total_furtos                    int64\n",
              "sequestro                     float64\n",
              "extorsao                      float64\n",
              "sequestro_relampago           float64\n",
              "estelionato                   float64\n",
              "apreensao_drogas                int64\n",
              "posse_drogas                  float64\n",
              "trafico_drogas                float64\n",
              "apreensao_drogas_sem_autor    float64\n",
              "recuperacao_veiculos            int64\n",
              "apf                           float64\n",
              "aaapai                        float64\n",
              "cmp                           float64\n",
              "cmba                          float64\n",
              "ameaca                        float64\n",
              "pessoas_desaparecidas         float64\n",
              "encontro_cadaver                int64\n",
              "encontro_ossada               float64\n",
              "pol_militares_mortos_serv     float64\n",
              "pol_civis_mortos_serv         float64\n",
              "indicador_letalidade            int64\n",
              "indicador_roubo_rua             int64\n",
              "indicador_roubo_veic            int64\n",
              "registro_ocorrencias          float64\n",
              "fase                            int64\n",
              "dtype: object"
            ]
          },
          "metadata": {
            "tags": []
          }
        }
      ]
    },
    {
      "cell_type": "markdown",
      "metadata": {
        "id": "n4V6XMJ_Wdeg",
        "colab_type": "text"
      },
      "source": [
        "Este data set apresenta dois tipos de variáveis:\n",
        "\n",
        "* int - valores numéricos inteiros\n",
        "* float - valores numéricos decimais "
      ]
    },
    {
      "cell_type": "markdown",
      "metadata": {
        "id": "YoQKjypOt5U1",
        "colab_type": "text"
      },
      "source": [
        "São um total de 55 variáveis, dentre as principais variáveis estudas neste projeto encontra-se abaixo, acompanhada com sua devida explicação da mesma: \n",
        "\n",
        "* roubo_veiculo:  roubos totais de veículos registrado em um mês\n",
        "\n",
        "\n",
        "* roubo_em_coletivo: roubos totais em coletivo registrado em um mês                  \n",
        "\n",
        "* total_roubos: somatório de todos os roubos ocorridos no mẽs                  \n",
        "\n",
        "* recuperacao_veiculos: total de veículos recuperados no respectivo mês \n",
        "\n",
        "\n",
        "* hom_doloso: quantidade total de homícedeos dolosos em um mês\n",
        "        "
      ]
    },
    {
      "cell_type": "markdown",
      "metadata": {
        "id": "csMdZvemvoKZ",
        "colab_type": "text"
      },
      "source": [
        "### **3.3 Cinco primeiras linhas do data set**\n",
        "\n",
        "As 5 primeiras linhas são mostradas abaixo. Pode-se observar que cada linha de dados é representado por um dos meses do respectivo ano que encontra-se no índice."
      ]
    },
    {
      "cell_type": "code",
      "metadata": {
        "id": "GnZG0v25r-RV",
        "colab_type": "code",
        "outputId": "ebbe014a-eaa3-464d-e765-cd5bbea5724b",
        "colab": {
          "base_uri": "https://localhost:8080/",
          "height": 255
        }
      },
      "source": [
        "df.head()"
      ],
      "execution_count": 0,
      "outputs": [
        {
          "output_type": "execute_result",
          "data": {
            "text/html": [
              "<div>\n",
              "<style scoped>\n",
              "    .dataframe tbody tr th:only-of-type {\n",
              "        vertical-align: middle;\n",
              "    }\n",
              "\n",
              "    .dataframe tbody tr th {\n",
              "        vertical-align: top;\n",
              "    }\n",
              "\n",
              "    .dataframe thead th {\n",
              "        text-align: right;\n",
              "    }\n",
              "</style>\n",
              "<table border=\"1\" class=\"dataframe\">\n",
              "  <thead>\n",
              "    <tr style=\"text-align: right;\">\n",
              "      <th></th>\n",
              "      <th>mes</th>\n",
              "      <th>hom_doloso</th>\n",
              "      <th>lesao_corp_morte</th>\n",
              "      <th>latrocinio</th>\n",
              "      <th>hom_por_interv_policial</th>\n",
              "      <th>tentat_hom</th>\n",
              "      <th>lesao_corp_dolosa</th>\n",
              "      <th>estupro</th>\n",
              "      <th>hom_culposo</th>\n",
              "      <th>lesao_corp_culposa</th>\n",
              "      <th>roubo_comercio</th>\n",
              "      <th>roubo_residencia</th>\n",
              "      <th>roubo_veiculo</th>\n",
              "      <th>roubo_carga</th>\n",
              "      <th>roubo_transeunte</th>\n",
              "      <th>roubo_em_coletivo</th>\n",
              "      <th>roubo_banco</th>\n",
              "      <th>roubo_cx_eletronico</th>\n",
              "      <th>roubo_celular</th>\n",
              "      <th>roubo_conducao_saque</th>\n",
              "      <th>roubo_apos_saque</th>\n",
              "      <th>roubo_bicicleta</th>\n",
              "      <th>outros_roubos</th>\n",
              "      <th>total_roubos</th>\n",
              "      <th>furto_veiculos</th>\n",
              "      <th>furto_transeunte</th>\n",
              "      <th>furto_coletivo</th>\n",
              "      <th>furto_celular</th>\n",
              "      <th>furto_bicicleta</th>\n",
              "      <th>outros_furtos</th>\n",
              "      <th>total_furtos</th>\n",
              "      <th>sequestro</th>\n",
              "      <th>extorsao</th>\n",
              "      <th>sequestro_relampago</th>\n",
              "      <th>estelionato</th>\n",
              "      <th>apreensao_drogas</th>\n",
              "      <th>posse_drogas</th>\n",
              "      <th>trafico_drogas</th>\n",
              "      <th>apreensao_drogas_sem_autor</th>\n",
              "      <th>recuperacao_veiculos</th>\n",
              "      <th>apf</th>\n",
              "      <th>aaapai</th>\n",
              "      <th>cmp</th>\n",
              "      <th>cmba</th>\n",
              "      <th>ameaca</th>\n",
              "      <th>pessoas_desaparecidas</th>\n",
              "      <th>encontro_cadaver</th>\n",
              "      <th>encontro_ossada</th>\n",
              "      <th>pol_militares_mortos_serv</th>\n",
              "      <th>pol_civis_mortos_serv</th>\n",
              "      <th>indicador_letalidade</th>\n",
              "      <th>indicador_roubo_rua</th>\n",
              "      <th>indicador_roubo_veic</th>\n",
              "      <th>registro_ocorrencias</th>\n",
              "      <th>fase</th>\n",
              "    </tr>\n",
              "    <tr>\n",
              "      <th>vano</th>\n",
              "      <th></th>\n",
              "      <th></th>\n",
              "      <th></th>\n",
              "      <th></th>\n",
              "      <th></th>\n",
              "      <th></th>\n",
              "      <th></th>\n",
              "      <th></th>\n",
              "      <th></th>\n",
              "      <th></th>\n",
              "      <th></th>\n",
              "      <th></th>\n",
              "      <th></th>\n",
              "      <th></th>\n",
              "      <th></th>\n",
              "      <th></th>\n",
              "      <th></th>\n",
              "      <th></th>\n",
              "      <th></th>\n",
              "      <th></th>\n",
              "      <th></th>\n",
              "      <th></th>\n",
              "      <th></th>\n",
              "      <th></th>\n",
              "      <th></th>\n",
              "      <th></th>\n",
              "      <th></th>\n",
              "      <th></th>\n",
              "      <th></th>\n",
              "      <th></th>\n",
              "      <th></th>\n",
              "      <th></th>\n",
              "      <th></th>\n",
              "      <th></th>\n",
              "      <th></th>\n",
              "      <th></th>\n",
              "      <th></th>\n",
              "      <th></th>\n",
              "      <th></th>\n",
              "      <th></th>\n",
              "      <th></th>\n",
              "      <th></th>\n",
              "      <th></th>\n",
              "      <th></th>\n",
              "      <th></th>\n",
              "      <th></th>\n",
              "      <th></th>\n",
              "      <th></th>\n",
              "      <th></th>\n",
              "      <th></th>\n",
              "      <th></th>\n",
              "      <th></th>\n",
              "      <th></th>\n",
              "      <th></th>\n",
              "      <th></th>\n",
              "    </tr>\n",
              "  </thead>\n",
              "  <tbody>\n",
              "    <tr>\n",
              "      <th>1991</th>\n",
              "      <td>1</td>\n",
              "      <td>657</td>\n",
              "      <td>NaN</td>\n",
              "      <td>15</td>\n",
              "      <td>NaN</td>\n",
              "      <td>162</td>\n",
              "      <td>3051</td>\n",
              "      <td>NaN</td>\n",
              "      <td>NaN</td>\n",
              "      <td>NaN</td>\n",
              "      <td>350</td>\n",
              "      <td>188</td>\n",
              "      <td>1174</td>\n",
              "      <td>63</td>\n",
              "      <td>967</td>\n",
              "      <td>381</td>\n",
              "      <td>37</td>\n",
              "      <td>NaN</td>\n",
              "      <td>NaN</td>\n",
              "      <td>NaN</td>\n",
              "      <td>NaN</td>\n",
              "      <td>NaN</td>\n",
              "      <td>158</td>\n",
              "      <td>3318</td>\n",
              "      <td>2009</td>\n",
              "      <td>1147</td>\n",
              "      <td>NaN</td>\n",
              "      <td>NaN</td>\n",
              "      <td>NaN</td>\n",
              "      <td>3561</td>\n",
              "      <td>6717</td>\n",
              "      <td>NaN</td>\n",
              "      <td>NaN</td>\n",
              "      <td>NaN</td>\n",
              "      <td>NaN</td>\n",
              "      <td>133</td>\n",
              "      <td>NaN</td>\n",
              "      <td>NaN</td>\n",
              "      <td>NaN</td>\n",
              "      <td>872</td>\n",
              "      <td>NaN</td>\n",
              "      <td>NaN</td>\n",
              "      <td>NaN</td>\n",
              "      <td>NaN</td>\n",
              "      <td>NaN</td>\n",
              "      <td>NaN</td>\n",
              "      <td>217</td>\n",
              "      <td>NaN</td>\n",
              "      <td>NaN</td>\n",
              "      <td>NaN</td>\n",
              "      <td>672</td>\n",
              "      <td>1348</td>\n",
              "      <td>1174</td>\n",
              "      <td>NaN</td>\n",
              "      <td>3</td>\n",
              "    </tr>\n",
              "    <tr>\n",
              "      <th>1991</th>\n",
              "      <td>2</td>\n",
              "      <td>732</td>\n",
              "      <td>NaN</td>\n",
              "      <td>17</td>\n",
              "      <td>NaN</td>\n",
              "      <td>175</td>\n",
              "      <td>3421</td>\n",
              "      <td>NaN</td>\n",
              "      <td>NaN</td>\n",
              "      <td>NaN</td>\n",
              "      <td>357</td>\n",
              "      <td>171</td>\n",
              "      <td>1097</td>\n",
              "      <td>64</td>\n",
              "      <td>963</td>\n",
              "      <td>432</td>\n",
              "      <td>35</td>\n",
              "      <td>NaN</td>\n",
              "      <td>NaN</td>\n",
              "      <td>NaN</td>\n",
              "      <td>NaN</td>\n",
              "      <td>NaN</td>\n",
              "      <td>142</td>\n",
              "      <td>3261</td>\n",
              "      <td>1850</td>\n",
              "      <td>1066</td>\n",
              "      <td>NaN</td>\n",
              "      <td>NaN</td>\n",
              "      <td>NaN</td>\n",
              "      <td>3309</td>\n",
              "      <td>6225</td>\n",
              "      <td>NaN</td>\n",
              "      <td>NaN</td>\n",
              "      <td>NaN</td>\n",
              "      <td>NaN</td>\n",
              "      <td>127</td>\n",
              "      <td>NaN</td>\n",
              "      <td>NaN</td>\n",
              "      <td>NaN</td>\n",
              "      <td>751</td>\n",
              "      <td>NaN</td>\n",
              "      <td>NaN</td>\n",
              "      <td>NaN</td>\n",
              "      <td>NaN</td>\n",
              "      <td>NaN</td>\n",
              "      <td>NaN</td>\n",
              "      <td>209</td>\n",
              "      <td>NaN</td>\n",
              "      <td>NaN</td>\n",
              "      <td>NaN</td>\n",
              "      <td>749</td>\n",
              "      <td>1395</td>\n",
              "      <td>1097</td>\n",
              "      <td>NaN</td>\n",
              "      <td>3</td>\n",
              "    </tr>\n",
              "    <tr>\n",
              "      <th>1991</th>\n",
              "      <td>3</td>\n",
              "      <td>713</td>\n",
              "      <td>NaN</td>\n",
              "      <td>25</td>\n",
              "      <td>NaN</td>\n",
              "      <td>216</td>\n",
              "      <td>3613</td>\n",
              "      <td>NaN</td>\n",
              "      <td>NaN</td>\n",
              "      <td>NaN</td>\n",
              "      <td>443</td>\n",
              "      <td>191</td>\n",
              "      <td>1265</td>\n",
              "      <td>71</td>\n",
              "      <td>963</td>\n",
              "      <td>422</td>\n",
              "      <td>43</td>\n",
              "      <td>NaN</td>\n",
              "      <td>NaN</td>\n",
              "      <td>NaN</td>\n",
              "      <td>NaN</td>\n",
              "      <td>NaN</td>\n",
              "      <td>131</td>\n",
              "      <td>3529</td>\n",
              "      <td>2084</td>\n",
              "      <td>1062</td>\n",
              "      <td>NaN</td>\n",
              "      <td>NaN</td>\n",
              "      <td>NaN</td>\n",
              "      <td>3573</td>\n",
              "      <td>6719</td>\n",
              "      <td>NaN</td>\n",
              "      <td>NaN</td>\n",
              "      <td>NaN</td>\n",
              "      <td>NaN</td>\n",
              "      <td>80</td>\n",
              "      <td>NaN</td>\n",
              "      <td>NaN</td>\n",
              "      <td>NaN</td>\n",
              "      <td>789</td>\n",
              "      <td>NaN</td>\n",
              "      <td>NaN</td>\n",
              "      <td>NaN</td>\n",
              "      <td>NaN</td>\n",
              "      <td>NaN</td>\n",
              "      <td>NaN</td>\n",
              "      <td>188</td>\n",
              "      <td>NaN</td>\n",
              "      <td>NaN</td>\n",
              "      <td>NaN</td>\n",
              "      <td>738</td>\n",
              "      <td>1385</td>\n",
              "      <td>1265</td>\n",
              "      <td>NaN</td>\n",
              "      <td>3</td>\n",
              "    </tr>\n",
              "    <tr>\n",
              "      <th>1991</th>\n",
              "      <td>4</td>\n",
              "      <td>634</td>\n",
              "      <td>NaN</td>\n",
              "      <td>20</td>\n",
              "      <td>NaN</td>\n",
              "      <td>200</td>\n",
              "      <td>3211</td>\n",
              "      <td>NaN</td>\n",
              "      <td>NaN</td>\n",
              "      <td>NaN</td>\n",
              "      <td>425</td>\n",
              "      <td>199</td>\n",
              "      <td>1415</td>\n",
              "      <td>81</td>\n",
              "      <td>1186</td>\n",
              "      <td>354</td>\n",
              "      <td>36</td>\n",
              "      <td>NaN</td>\n",
              "      <td>NaN</td>\n",
              "      <td>NaN</td>\n",
              "      <td>NaN</td>\n",
              "      <td>NaN</td>\n",
              "      <td>112</td>\n",
              "      <td>3808</td>\n",
              "      <td>2085</td>\n",
              "      <td>1195</td>\n",
              "      <td>NaN</td>\n",
              "      <td>NaN</td>\n",
              "      <td>NaN</td>\n",
              "      <td>3290</td>\n",
              "      <td>6570</td>\n",
              "      <td>NaN</td>\n",
              "      <td>NaN</td>\n",
              "      <td>NaN</td>\n",
              "      <td>NaN</td>\n",
              "      <td>133</td>\n",
              "      <td>NaN</td>\n",
              "      <td>NaN</td>\n",
              "      <td>NaN</td>\n",
              "      <td>787</td>\n",
              "      <td>NaN</td>\n",
              "      <td>NaN</td>\n",
              "      <td>NaN</td>\n",
              "      <td>NaN</td>\n",
              "      <td>NaN</td>\n",
              "      <td>NaN</td>\n",
              "      <td>140</td>\n",
              "      <td>NaN</td>\n",
              "      <td>NaN</td>\n",
              "      <td>NaN</td>\n",
              "      <td>654</td>\n",
              "      <td>1540</td>\n",
              "      <td>1415</td>\n",
              "      <td>NaN</td>\n",
              "      <td>3</td>\n",
              "    </tr>\n",
              "    <tr>\n",
              "      <th>1991</th>\n",
              "      <td>5</td>\n",
              "      <td>650</td>\n",
              "      <td>NaN</td>\n",
              "      <td>20</td>\n",
              "      <td>NaN</td>\n",
              "      <td>146</td>\n",
              "      <td>3051</td>\n",
              "      <td>NaN</td>\n",
              "      <td>NaN</td>\n",
              "      <td>NaN</td>\n",
              "      <td>553</td>\n",
              "      <td>231</td>\n",
              "      <td>1449</td>\n",
              "      <td>82</td>\n",
              "      <td>931</td>\n",
              "      <td>335</td>\n",
              "      <td>27</td>\n",
              "      <td>NaN</td>\n",
              "      <td>NaN</td>\n",
              "      <td>NaN</td>\n",
              "      <td>NaN</td>\n",
              "      <td>NaN</td>\n",
              "      <td>147</td>\n",
              "      <td>3755</td>\n",
              "      <td>2185</td>\n",
              "      <td>723</td>\n",
              "      <td>NaN</td>\n",
              "      <td>NaN</td>\n",
              "      <td>NaN</td>\n",
              "      <td>3546</td>\n",
              "      <td>6454</td>\n",
              "      <td>NaN</td>\n",
              "      <td>NaN</td>\n",
              "      <td>NaN</td>\n",
              "      <td>NaN</td>\n",
              "      <td>163</td>\n",
              "      <td>NaN</td>\n",
              "      <td>NaN</td>\n",
              "      <td>NaN</td>\n",
              "      <td>845</td>\n",
              "      <td>NaN</td>\n",
              "      <td>NaN</td>\n",
              "      <td>NaN</td>\n",
              "      <td>NaN</td>\n",
              "      <td>NaN</td>\n",
              "      <td>NaN</td>\n",
              "      <td>78</td>\n",
              "      <td>NaN</td>\n",
              "      <td>NaN</td>\n",
              "      <td>NaN</td>\n",
              "      <td>670</td>\n",
              "      <td>1266</td>\n",
              "      <td>1449</td>\n",
              "      <td>NaN</td>\n",
              "      <td>3</td>\n",
              "    </tr>\n",
              "  </tbody>\n",
              "</table>\n",
              "</div>"
            ],
            "text/plain": [
              "      mes  hom_doloso  ...  registro_ocorrencias  fase\n",
              "vano                   ...                            \n",
              "1991    1         657  ...                   NaN     3\n",
              "1991    2         732  ...                   NaN     3\n",
              "1991    3         713  ...                   NaN     3\n",
              "1991    4         634  ...                   NaN     3\n",
              "1991    5         650  ...                   NaN     3\n",
              "\n",
              "[5 rows x 55 columns]"
            ]
          },
          "metadata": {
            "tags": []
          },
          "execution_count": 6
        }
      ]
    },
    {
      "cell_type": "markdown",
      "metadata": {
        "id": "XTLcilwP6atq",
        "colab_type": "text"
      },
      "source": [
        "As 5 últimas linhas do data set são mostradas abaixo. "
      ]
    },
    {
      "cell_type": "code",
      "metadata": {
        "id": "a8eqMfB6y9TN",
        "colab_type": "code",
        "outputId": "7fd0fe42-c74b-4556-bc2f-26cc42622293",
        "colab": {
          "base_uri": "https://localhost:8080/",
          "height": 255
        }
      },
      "source": [
        "df.tail()"
      ],
      "execution_count": 0,
      "outputs": [
        {
          "output_type": "execute_result",
          "data": {
            "text/html": [
              "<div>\n",
              "<style scoped>\n",
              "    .dataframe tbody tr th:only-of-type {\n",
              "        vertical-align: middle;\n",
              "    }\n",
              "\n",
              "    .dataframe tbody tr th {\n",
              "        vertical-align: top;\n",
              "    }\n",
              "\n",
              "    .dataframe thead th {\n",
              "        text-align: right;\n",
              "    }\n",
              "</style>\n",
              "<table border=\"1\" class=\"dataframe\">\n",
              "  <thead>\n",
              "    <tr style=\"text-align: right;\">\n",
              "      <th></th>\n",
              "      <th>mes</th>\n",
              "      <th>hom_doloso</th>\n",
              "      <th>lesao_corp_morte</th>\n",
              "      <th>latrocinio</th>\n",
              "      <th>hom_por_interv_policial</th>\n",
              "      <th>tentat_hom</th>\n",
              "      <th>lesao_corp_dolosa</th>\n",
              "      <th>estupro</th>\n",
              "      <th>hom_culposo</th>\n",
              "      <th>lesao_corp_culposa</th>\n",
              "      <th>roubo_comercio</th>\n",
              "      <th>roubo_residencia</th>\n",
              "      <th>roubo_veiculo</th>\n",
              "      <th>roubo_carga</th>\n",
              "      <th>roubo_transeunte</th>\n",
              "      <th>roubo_em_coletivo</th>\n",
              "      <th>roubo_banco</th>\n",
              "      <th>roubo_cx_eletronico</th>\n",
              "      <th>roubo_celular</th>\n",
              "      <th>roubo_conducao_saque</th>\n",
              "      <th>roubo_apos_saque</th>\n",
              "      <th>roubo_bicicleta</th>\n",
              "      <th>outros_roubos</th>\n",
              "      <th>total_roubos</th>\n",
              "      <th>furto_veiculos</th>\n",
              "      <th>furto_transeunte</th>\n",
              "      <th>furto_coletivo</th>\n",
              "      <th>furto_celular</th>\n",
              "      <th>furto_bicicleta</th>\n",
              "      <th>outros_furtos</th>\n",
              "      <th>total_furtos</th>\n",
              "      <th>sequestro</th>\n",
              "      <th>extorsao</th>\n",
              "      <th>sequestro_relampago</th>\n",
              "      <th>estelionato</th>\n",
              "      <th>apreensao_drogas</th>\n",
              "      <th>posse_drogas</th>\n",
              "      <th>trafico_drogas</th>\n",
              "      <th>apreensao_drogas_sem_autor</th>\n",
              "      <th>recuperacao_veiculos</th>\n",
              "      <th>apf</th>\n",
              "      <th>aaapai</th>\n",
              "      <th>cmp</th>\n",
              "      <th>cmba</th>\n",
              "      <th>ameaca</th>\n",
              "      <th>pessoas_desaparecidas</th>\n",
              "      <th>encontro_cadaver</th>\n",
              "      <th>encontro_ossada</th>\n",
              "      <th>pol_militares_mortos_serv</th>\n",
              "      <th>pol_civis_mortos_serv</th>\n",
              "      <th>indicador_letalidade</th>\n",
              "      <th>indicador_roubo_rua</th>\n",
              "      <th>indicador_roubo_veic</th>\n",
              "      <th>registro_ocorrencias</th>\n",
              "      <th>fase</th>\n",
              "    </tr>\n",
              "    <tr>\n",
              "      <th>vano</th>\n",
              "      <th></th>\n",
              "      <th></th>\n",
              "      <th></th>\n",
              "      <th></th>\n",
              "      <th></th>\n",
              "      <th></th>\n",
              "      <th></th>\n",
              "      <th></th>\n",
              "      <th></th>\n",
              "      <th></th>\n",
              "      <th></th>\n",
              "      <th></th>\n",
              "      <th></th>\n",
              "      <th></th>\n",
              "      <th></th>\n",
              "      <th></th>\n",
              "      <th></th>\n",
              "      <th></th>\n",
              "      <th></th>\n",
              "      <th></th>\n",
              "      <th></th>\n",
              "      <th></th>\n",
              "      <th></th>\n",
              "      <th></th>\n",
              "      <th></th>\n",
              "      <th></th>\n",
              "      <th></th>\n",
              "      <th></th>\n",
              "      <th></th>\n",
              "      <th></th>\n",
              "      <th></th>\n",
              "      <th></th>\n",
              "      <th></th>\n",
              "      <th></th>\n",
              "      <th></th>\n",
              "      <th></th>\n",
              "      <th></th>\n",
              "      <th></th>\n",
              "      <th></th>\n",
              "      <th></th>\n",
              "      <th></th>\n",
              "      <th></th>\n",
              "      <th></th>\n",
              "      <th></th>\n",
              "      <th></th>\n",
              "      <th></th>\n",
              "      <th></th>\n",
              "      <th></th>\n",
              "      <th></th>\n",
              "      <th></th>\n",
              "      <th></th>\n",
              "      <th></th>\n",
              "      <th></th>\n",
              "      <th></th>\n",
              "      <th></th>\n",
              "    </tr>\n",
              "  </thead>\n",
              "  <tbody>\n",
              "    <tr>\n",
              "      <th>2019</th>\n",
              "      <td>4</td>\n",
              "      <td>360</td>\n",
              "      <td>1.0</td>\n",
              "      <td>11</td>\n",
              "      <td>124.0</td>\n",
              "      <td>466</td>\n",
              "      <td>5573</td>\n",
              "      <td>483.0</td>\n",
              "      <td>172.0</td>\n",
              "      <td>2182.0</td>\n",
              "      <td>502</td>\n",
              "      <td>124</td>\n",
              "      <td>3755</td>\n",
              "      <td>667</td>\n",
              "      <td>7031</td>\n",
              "      <td>1585</td>\n",
              "      <td>2</td>\n",
              "      <td>4.0</td>\n",
              "      <td>2424.0</td>\n",
              "      <td>10.0</td>\n",
              "      <td>82.0</td>\n",
              "      <td>23.0</td>\n",
              "      <td>2245</td>\n",
              "      <td>18454</td>\n",
              "      <td>1244</td>\n",
              "      <td>1519</td>\n",
              "      <td>607.0</td>\n",
              "      <td>1318.0</td>\n",
              "      <td>211.0</td>\n",
              "      <td>7633</td>\n",
              "      <td>12532</td>\n",
              "      <td>0.0</td>\n",
              "      <td>151.0</td>\n",
              "      <td>11.0</td>\n",
              "      <td>3260.0</td>\n",
              "      <td>1909</td>\n",
              "      <td>745.0</td>\n",
              "      <td>1021.0</td>\n",
              "      <td>187.0</td>\n",
              "      <td>2624</td>\n",
              "      <td>3128.0</td>\n",
              "      <td>497.0</td>\n",
              "      <td>1648.0</td>\n",
              "      <td>350.0</td>\n",
              "      <td>5310.0</td>\n",
              "      <td>408.0</td>\n",
              "      <td>22</td>\n",
              "      <td>3.0</td>\n",
              "      <td>1.0</td>\n",
              "      <td>0.0</td>\n",
              "      <td>496</td>\n",
              "      <td>11040</td>\n",
              "      <td>3755</td>\n",
              "      <td>67797.0</td>\n",
              "      <td>3</td>\n",
              "    </tr>\n",
              "    <tr>\n",
              "      <th>2019</th>\n",
              "      <td>5</td>\n",
              "      <td>345</td>\n",
              "      <td>2.0</td>\n",
              "      <td>15</td>\n",
              "      <td>172.0</td>\n",
              "      <td>478</td>\n",
              "      <td>4958</td>\n",
              "      <td>465.0</td>\n",
              "      <td>145.0</td>\n",
              "      <td>2304.0</td>\n",
              "      <td>514</td>\n",
              "      <td>93</td>\n",
              "      <td>3649</td>\n",
              "      <td>710</td>\n",
              "      <td>7332</td>\n",
              "      <td>1625</td>\n",
              "      <td>1</td>\n",
              "      <td>3.0</td>\n",
              "      <td>2427.0</td>\n",
              "      <td>9.0</td>\n",
              "      <td>87.0</td>\n",
              "      <td>7.0</td>\n",
              "      <td>2216</td>\n",
              "      <td>18673</td>\n",
              "      <td>1480</td>\n",
              "      <td>1475</td>\n",
              "      <td>715.0</td>\n",
              "      <td>1423.0</td>\n",
              "      <td>220.0</td>\n",
              "      <td>7711</td>\n",
              "      <td>13024</td>\n",
              "      <td>0.0</td>\n",
              "      <td>147.0</td>\n",
              "      <td>7.0</td>\n",
              "      <td>3498.0</td>\n",
              "      <td>2034</td>\n",
              "      <td>735.0</td>\n",
              "      <td>1133.0</td>\n",
              "      <td>199.0</td>\n",
              "      <td>2450</td>\n",
              "      <td>3169.0</td>\n",
              "      <td>527.0</td>\n",
              "      <td>1771.0</td>\n",
              "      <td>248.0</td>\n",
              "      <td>5068.0</td>\n",
              "      <td>390.0</td>\n",
              "      <td>20</td>\n",
              "      <td>1.0</td>\n",
              "      <td>0.0</td>\n",
              "      <td>0.0</td>\n",
              "      <td>534</td>\n",
              "      <td>11384</td>\n",
              "      <td>3649</td>\n",
              "      <td>68336.0</td>\n",
              "      <td>3</td>\n",
              "    </tr>\n",
              "    <tr>\n",
              "      <th>2019</th>\n",
              "      <td>6</td>\n",
              "      <td>332</td>\n",
              "      <td>3.0</td>\n",
              "      <td>8</td>\n",
              "      <td>153.0</td>\n",
              "      <td>436</td>\n",
              "      <td>4769</td>\n",
              "      <td>414.0</td>\n",
              "      <td>152.0</td>\n",
              "      <td>2481.0</td>\n",
              "      <td>382</td>\n",
              "      <td>85</td>\n",
              "      <td>3115</td>\n",
              "      <td>599</td>\n",
              "      <td>6077</td>\n",
              "      <td>1287</td>\n",
              "      <td>1</td>\n",
              "      <td>4.0</td>\n",
              "      <td>2187.0</td>\n",
              "      <td>19.0</td>\n",
              "      <td>83.0</td>\n",
              "      <td>9.0</td>\n",
              "      <td>1984</td>\n",
              "      <td>15832</td>\n",
              "      <td>1251</td>\n",
              "      <td>1443</td>\n",
              "      <td>630.0</td>\n",
              "      <td>1345.0</td>\n",
              "      <td>189.0</td>\n",
              "      <td>7224</td>\n",
              "      <td>12082</td>\n",
              "      <td>0.0</td>\n",
              "      <td>133.0</td>\n",
              "      <td>6.0</td>\n",
              "      <td>3029.0</td>\n",
              "      <td>1854</td>\n",
              "      <td>763.0</td>\n",
              "      <td>976.0</td>\n",
              "      <td>158.0</td>\n",
              "      <td>2041</td>\n",
              "      <td>2848.0</td>\n",
              "      <td>467.0</td>\n",
              "      <td>1585.0</td>\n",
              "      <td>233.0</td>\n",
              "      <td>4497.0</td>\n",
              "      <td>403.0</td>\n",
              "      <td>20</td>\n",
              "      <td>1.0</td>\n",
              "      <td>3.0</td>\n",
              "      <td>0.0</td>\n",
              "      <td>496</td>\n",
              "      <td>9551</td>\n",
              "      <td>3115</td>\n",
              "      <td>61202.0</td>\n",
              "      <td>3</td>\n",
              "    </tr>\n",
              "    <tr>\n",
              "      <th>2019</th>\n",
              "      <td>7</td>\n",
              "      <td>309</td>\n",
              "      <td>5.0</td>\n",
              "      <td>10</td>\n",
              "      <td>194.0</td>\n",
              "      <td>399</td>\n",
              "      <td>4740</td>\n",
              "      <td>402.0</td>\n",
              "      <td>140.0</td>\n",
              "      <td>2334.0</td>\n",
              "      <td>386</td>\n",
              "      <td>72</td>\n",
              "      <td>3198</td>\n",
              "      <td>691</td>\n",
              "      <td>6637</td>\n",
              "      <td>1208</td>\n",
              "      <td>1</td>\n",
              "      <td>0.0</td>\n",
              "      <td>2226.0</td>\n",
              "      <td>12.0</td>\n",
              "      <td>97.0</td>\n",
              "      <td>16.0</td>\n",
              "      <td>2110</td>\n",
              "      <td>16654</td>\n",
              "      <td>1353</td>\n",
              "      <td>1570</td>\n",
              "      <td>746.0</td>\n",
              "      <td>1391.0</td>\n",
              "      <td>230.0</td>\n",
              "      <td>7632</td>\n",
              "      <td>12922</td>\n",
              "      <td>0.0</td>\n",
              "      <td>135.0</td>\n",
              "      <td>12.0</td>\n",
              "      <td>3627.0</td>\n",
              "      <td>1861</td>\n",
              "      <td>709.0</td>\n",
              "      <td>996.0</td>\n",
              "      <td>187.0</td>\n",
              "      <td>2355</td>\n",
              "      <td>2907.0</td>\n",
              "      <td>490.0</td>\n",
              "      <td>1856.0</td>\n",
              "      <td>267.0</td>\n",
              "      <td>4678.0</td>\n",
              "      <td>400.0</td>\n",
              "      <td>32</td>\n",
              "      <td>7.0</td>\n",
              "      <td>0.0</td>\n",
              "      <td>0.0</td>\n",
              "      <td>518</td>\n",
              "      <td>10071</td>\n",
              "      <td>3198</td>\n",
              "      <td>65817.0</td>\n",
              "      <td>2</td>\n",
              "    </tr>\n",
              "    <tr>\n",
              "      <th>2019</th>\n",
              "      <td>8</td>\n",
              "      <td>318</td>\n",
              "      <td>1.0</td>\n",
              "      <td>6</td>\n",
              "      <td>170.0</td>\n",
              "      <td>457</td>\n",
              "      <td>4760</td>\n",
              "      <td>460.0</td>\n",
              "      <td>156.0</td>\n",
              "      <td>2437.0</td>\n",
              "      <td>433</td>\n",
              "      <td>103</td>\n",
              "      <td>3181</td>\n",
              "      <td>587</td>\n",
              "      <td>6452</td>\n",
              "      <td>1215</td>\n",
              "      <td>1</td>\n",
              "      <td>1.0</td>\n",
              "      <td>2245.0</td>\n",
              "      <td>9.0</td>\n",
              "      <td>98.0</td>\n",
              "      <td>17.0</td>\n",
              "      <td>1794</td>\n",
              "      <td>16136</td>\n",
              "      <td>1361</td>\n",
              "      <td>1568</td>\n",
              "      <td>674.0</td>\n",
              "      <td>1534.0</td>\n",
              "      <td>185.0</td>\n",
              "      <td>7280</td>\n",
              "      <td>12602</td>\n",
              "      <td>0.0</td>\n",
              "      <td>132.0</td>\n",
              "      <td>12.0</td>\n",
              "      <td>3546.0</td>\n",
              "      <td>1862</td>\n",
              "      <td>668.0</td>\n",
              "      <td>1067.0</td>\n",
              "      <td>171.0</td>\n",
              "      <td>2081</td>\n",
              "      <td>3114.0</td>\n",
              "      <td>476.0</td>\n",
              "      <td>2028.0</td>\n",
              "      <td>265.0</td>\n",
              "      <td>4662.0</td>\n",
              "      <td>367.0</td>\n",
              "      <td>27</td>\n",
              "      <td>8.0</td>\n",
              "      <td>2.0</td>\n",
              "      <td>0.0</td>\n",
              "      <td>495</td>\n",
              "      <td>9912</td>\n",
              "      <td>3181</td>\n",
              "      <td>65285.0</td>\n",
              "      <td>2</td>\n",
              "    </tr>\n",
              "  </tbody>\n",
              "</table>\n",
              "</div>"
            ],
            "text/plain": [
              "      mes  hom_doloso  ...  registro_ocorrencias  fase\n",
              "vano                   ...                            \n",
              "2019    4         360  ...               67797.0     3\n",
              "2019    5         345  ...               68336.0     3\n",
              "2019    6         332  ...               61202.0     3\n",
              "2019    7         309  ...               65817.0     2\n",
              "2019    8         318  ...               65285.0     2\n",
              "\n",
              "[5 rows x 55 columns]"
            ]
          },
          "metadata": {
            "tags": []
          },
          "execution_count": 7
        }
      ]
    },
    {
      "cell_type": "markdown",
      "metadata": {
        "id": "wT-Ro1ghw6tj",
        "colab_type": "text"
      },
      "source": [
        "### **3.4 Porcentegam de dados ausentes**\n",
        "\n",
        "A verificação de dados ausentes é muito importante, pois a ausência de dados pode comprometer a qualidade da análise, podendo implicar em hipóteses erradas, logo é bom saber a proporção de dados faltantes em cada variável/coluna.\n",
        "\n"
      ]
    },
    {
      "cell_type": "markdown",
      "metadata": {
        "id": "ajG_ip_qZgw8",
        "colab_type": "text"
      },
      "source": [
        "Dados faltantes são problemas em vários conjuntos de dados.\n",
        "\n",
        "Existem algumas soluções para resolver este problema.\n",
        "\n",
        "* Pode ser decidido apagar toda a coluna, pois esta variável não apresenta dados sufucientes para que seja extraído informações consistentes sobre o data set. \n",
        "\n",
        "* Outra solução possível é de apagar as linhas onde encontra-se células sem informações, porém está solução é arriscada, pois pode prejudicar a análise se retirado muitas linhas, essa solução pode ser utilizada quando o percentual de dados ausentes em um coluna é bem pequena."
      ]
    },
    {
      "cell_type": "markdown",
      "metadata": {
        "id": "W_hxbbSjwe2i",
        "colab_type": "text"
      },
      "source": [
        "A análise abaixo mostra que muitas váriaveis apresentam dados ausentes."
      ]
    },
    {
      "cell_type": "code",
      "metadata": {
        "id": "s2jllXY-vvvp",
        "colab_type": "code",
        "outputId": "34d9bc4f-d53d-4474-9aac-34de27f04e84",
        "colab": {
          "base_uri": "https://localhost:8080/",
          "height": 969
        }
      },
      "source": [
        "(df.isnull().sum()/df.shape[0]).sort_values(ascending = False)"
      ],
      "execution_count": 0,
      "outputs": [
        {
          "output_type": "execute_result",
          "data": {
            "text/plain": [
              "roubo_bicicleta               0.802326\n",
              "furto_bicicleta               0.802326\n",
              "apreensao_drogas_sem_autor    0.523256\n",
              "posse_drogas                  0.523256\n",
              "trafico_drogas                0.523256\n",
              "cmba                          0.523256\n",
              "cmp                           0.523256\n",
              "aaapai                        0.523256\n",
              "apf                           0.523256\n",
              "furto_coletivo                0.418605\n",
              "estupro                       0.418605\n",
              "extorsao                      0.418605\n",
              "sequestro_relampago           0.418605\n",
              "estelionato                   0.418605\n",
              "roubo_apos_saque              0.418605\n",
              "furto_celular                 0.418605\n",
              "pol_militares_mortos_serv     0.418605\n",
              "pol_civis_mortos_serv         0.418605\n",
              "roubo_cx_eletronico           0.418605\n",
              "roubo_conducao_saque          0.418605\n",
              "pessoas_desaparecidas         0.383721\n",
              "encontro_ossada               0.383721\n",
              "roubo_celular                 0.313953\n",
              "ameaca                        0.279070\n",
              "sequestro                     0.279070\n",
              "lesao_corp_morte              0.279070\n",
              "registro_ocorrencias          0.279070\n",
              "lesao_corp_culposa            0.279070\n",
              "hom_por_interv_policial       0.244186\n",
              "hom_culposo                   0.244186\n",
              "roubo_veiculo                 0.000000\n",
              "lesao_corp_dolosa             0.000000\n",
              "roubo_residencia              0.000000\n",
              "roubo_comercio                0.000000\n",
              "roubo_transeunte              0.000000\n",
              "tentat_hom                    0.000000\n",
              "latrocinio                    0.000000\n",
              "hom_doloso                    0.000000\n",
              "roubo_carga                   0.000000\n",
              "fase                          0.000000\n",
              "roubo_em_coletivo             0.000000\n",
              "roubo_banco                   0.000000\n",
              "outros_roubos                 0.000000\n",
              "total_roubos                  0.000000\n",
              "furto_veiculos                0.000000\n",
              "furto_transeunte              0.000000\n",
              "outros_furtos                 0.000000\n",
              "total_furtos                  0.000000\n",
              "apreensao_drogas              0.000000\n",
              "recuperacao_veiculos          0.000000\n",
              "encontro_cadaver              0.000000\n",
              "indicador_letalidade          0.000000\n",
              "indicador_roubo_rua           0.000000\n",
              "indicador_roubo_veic          0.000000\n",
              "mes                           0.000000\n",
              "dtype: float64"
            ]
          },
          "metadata": {
            "tags": []
          },
          "execution_count": 123
        }
      ]
    },
    {
      "cell_type": "markdown",
      "metadata": {
        "id": "vgvcN4M4t-6S",
        "colab_type": "text"
      },
      "source": [
        "Abaixo doi verificado quando foi informado no dataset o primeiro dados das variáveis:\n",
        "* roubo_bicicleta\n",
        "* furto_bicicleta\n",
        "* apreensao_drogas_sem_autor"
      ]
    },
    {
      "cell_type": "code",
      "metadata": {
        "id": "cSFb9-sUnQ2i",
        "colab_type": "code",
        "outputId": "39229c4d-a36b-4223-95a8-b57710600f01",
        "colab": {
          "base_uri": "https://localhost:8080/",
          "height": 68
        }
      },
      "source": [
        "print('Roubo de bicicleta:\\t\\t', df['roubo_bicicleta'].first_valid_index(), \n",
        "      '\\nFurto de bicicleta:\\t\\t', df['furto_bicicleta'].first_valid_index(),\n",
        "      '\\napreensao_drogas_sem_autor:\\t', df['apreensao_drogas_sem_autor'].first_valid_index())      "
      ],
      "execution_count": 0,
      "outputs": [
        {
          "output_type": "stream",
          "text": [
            "Roubo de bicicleta:\t\t 2014 \n",
            "Furto de bicicleta:\t\t 2014 \n",
            "apreensao_drogas_sem_autor:\t 2006\n"
          ],
          "name": "stdout"
        }
      ]
    },
    {
      "cell_type": "markdown",
      "metadata": {
        "id": "_zvOCK0wuOg1",
        "colab_type": "text"
      },
      "source": [
        "De acordo com o resultado para a variável Roubo de bicicleta e Furto de bicicleta, os primeiros dados foram informados no ano de 2014.\n",
        "Já para variável apreensao_drogas_sem_autor, os dados apereceram a partir do ano de 2006."
      ]
    },
    {
      "cell_type": "markdown",
      "metadata": {
        "id": "3vTrFKM9tYJY",
        "colab_type": "text"
      },
      "source": [
        "Nas 3 células abaixo, forma verificados a quantidade de dados ausentes a partir do ano que se deu início a publicação de dados respectivo de cada uma das 3 variáveis acima."
      ]
    },
    {
      "cell_type": "code",
      "metadata": {
        "id": "m2v0EI2ArKy4",
        "colab_type": "code",
        "outputId": "843b2a37-e791-436c-f533-dcddeba6c41a",
        "colab": {
          "base_uri": "https://localhost:8080/",
          "height": 51
        }
      },
      "source": [
        "df.loc['2015':'2019',[ 'roubo_bicicleta' ]].isnull().sum()\n"
      ],
      "execution_count": 0,
      "outputs": [
        {
          "output_type": "execute_result",
          "data": {
            "text/plain": [
              "roubo_bicicleta    0\n",
              "dtype: int64"
            ]
          },
          "metadata": {
            "tags": []
          },
          "execution_count": 49
        }
      ]
    },
    {
      "cell_type": "code",
      "metadata": {
        "id": "KQ0O85UNtwrX",
        "colab_type": "code",
        "outputId": "6abf60b1-8b75-4af3-8a3d-3255d0976147",
        "colab": {
          "base_uri": "https://localhost:8080/",
          "height": 51
        }
      },
      "source": [
        " df.loc['2015':'2019',['furto_bicicleta']].isnull().sum()"
      ],
      "execution_count": 0,
      "outputs": [
        {
          "output_type": "execute_result",
          "data": {
            "text/plain": [
              "furto_bicicleta    0\n",
              "dtype: int64"
            ]
          },
          "metadata": {
            "tags": []
          },
          "execution_count": 50
        }
      ]
    },
    {
      "cell_type": "code",
      "metadata": {
        "id": "WmTv2IiJtzfO",
        "colab_type": "code",
        "outputId": "8a0d3f79-2f08-43f0-f452-46abfc1d5f6b",
        "colab": {
          "base_uri": "https://localhost:8080/",
          "height": 51
        }
      },
      "source": [
        " df.loc['2007':'2019',['apreensao_drogas_sem_autor']].isnull().sum()"
      ],
      "execution_count": 0,
      "outputs": [
        {
          "output_type": "execute_result",
          "data": {
            "text/plain": [
              "apreensao_drogas_sem_autor    0\n",
              "dtype: int64"
            ]
          },
          "metadata": {
            "tags": []
          },
          "execution_count": 52
        }
      ]
    },
    {
      "cell_type": "markdown",
      "metadata": {
        "id": "x1QvIZP6u-72",
        "colab_type": "text"
      },
      "source": [
        "Pode-se notar que após o primeiro ano onde se deu início a divulgação dos dados, não houve nenhum dado ausente. \n",
        "\n",
        "Logo a partir deste resultado é possível a grande ausencia de dados informada acima com roubo_bicicleta com 80.23% e também das outras variáveis, se deve ao fato de que essas colunas só foram exister muito após o ano de 1991, onde se teve o início deste dataset, isso indica que não é uma ausencia de dados por falta de responsibilidade e que poderia prejudicar o dataset, mas sim apenas uma atualização e melhoria das informações.\n",
        "\n",
        "Assim não é necessário apagar esta coluna ou as linhas que não apresentam dados, apenas deve-se lembrar em caso de análises destas colunas, que o período de início destes não são em 1991."
      ]
    },
    {
      "cell_type": "markdown",
      "metadata": {
        "id": "G6dnsNYm-41g",
        "colab_type": "text"
      },
      "source": [
        "# **4. Informações Estatísticas da Violência no Rio de Janeiro**\n",
        "\n",
        "Neste capítulo foi estudada algumas informações e tirados alguns insights e hipóteses do data set. Foram verificados as descrições estatísticas de cada variável, analisados algumas informações sobre roubo, furto e recuperação de veículos, e também algumas informações sobre o total de roubos e furtos.\n",
        "\n",
        "A partir da introdução serão análisados algumas informações básicas do data set."
      ]
    },
    {
      "cell_type": "markdown",
      "metadata": {
        "id": "Cg-V36XDanI0",
        "colab_type": "text"
      },
      "source": [
        "### **4.1 Descrição estatitística de cada variável**"
      ]
    },
    {
      "cell_type": "markdown",
      "metadata": {
        "id": "kDFfIxaocWMO",
        "colab_type": "text"
      },
      "source": [
        "Abaixo foi realizada uma média de todos os registros, desde 1991 até 2019.\n",
        "\n",
        "É bom ressaltar que as informações contidas no data set apresenta longo período de avaliação sendo este de 28 anos, logo existe a possibilidade de que exista diferenças grandes entre as variáveis, pois em um período longo pode haver grandes mudanças na criminalidade da cidade.\n",
        "\n",
        "Através do que foi discutido acima, foi proposto verificar a existência de Outliers, mas foi relizada minuciosamente. "
      ]
    },
    {
      "cell_type": "markdown",
      "metadata": {
        "id": "RhjhNMZUOE1f",
        "colab_type": "text"
      },
      "source": [
        "A descrição dos dados abaixo são de 28 anos, com o objetivo de apenas mostrar informações sobre data set como um todo."
      ]
    },
    {
      "cell_type": "code",
      "metadata": {
        "id": "sGI0Xkrlkfhf",
        "colab_type": "code",
        "outputId": "9f550505-0524-4faf-fc3b-f2c12a644a4d",
        "colab": {
          "base_uri": "https://localhost:8080/",
          "height": 317
        }
      },
      "source": [
        "df.describe()"
      ],
      "execution_count": 0,
      "outputs": [
        {
          "output_type": "execute_result",
          "data": {
            "text/html": [
              "<div>\n",
              "<style scoped>\n",
              "    .dataframe tbody tr th:only-of-type {\n",
              "        vertical-align: middle;\n",
              "    }\n",
              "\n",
              "    .dataframe tbody tr th {\n",
              "        vertical-align: top;\n",
              "    }\n",
              "\n",
              "    .dataframe thead th {\n",
              "        text-align: right;\n",
              "    }\n",
              "</style>\n",
              "<table border=\"1\" class=\"dataframe\">\n",
              "  <thead>\n",
              "    <tr style=\"text-align: right;\">\n",
              "      <th></th>\n",
              "      <th>mes</th>\n",
              "      <th>hom_doloso</th>\n",
              "      <th>lesao_corp_morte</th>\n",
              "      <th>latrocinio</th>\n",
              "      <th>hom_por_interv_policial</th>\n",
              "      <th>tentat_hom</th>\n",
              "      <th>lesao_corp_dolosa</th>\n",
              "      <th>estupro</th>\n",
              "      <th>hom_culposo</th>\n",
              "      <th>lesao_corp_culposa</th>\n",
              "      <th>roubo_comercio</th>\n",
              "      <th>roubo_residencia</th>\n",
              "      <th>roubo_veiculo</th>\n",
              "      <th>roubo_carga</th>\n",
              "      <th>roubo_transeunte</th>\n",
              "      <th>roubo_em_coletivo</th>\n",
              "      <th>roubo_banco</th>\n",
              "      <th>roubo_cx_eletronico</th>\n",
              "      <th>roubo_celular</th>\n",
              "      <th>roubo_conducao_saque</th>\n",
              "      <th>roubo_apos_saque</th>\n",
              "      <th>roubo_bicicleta</th>\n",
              "      <th>outros_roubos</th>\n",
              "      <th>total_roubos</th>\n",
              "      <th>furto_veiculos</th>\n",
              "      <th>furto_transeunte</th>\n",
              "      <th>furto_coletivo</th>\n",
              "      <th>furto_celular</th>\n",
              "      <th>furto_bicicleta</th>\n",
              "      <th>outros_furtos</th>\n",
              "      <th>total_furtos</th>\n",
              "      <th>sequestro</th>\n",
              "      <th>extorsao</th>\n",
              "      <th>sequestro_relampago</th>\n",
              "      <th>estelionato</th>\n",
              "      <th>apreensao_drogas</th>\n",
              "      <th>posse_drogas</th>\n",
              "      <th>trafico_drogas</th>\n",
              "      <th>apreensao_drogas_sem_autor</th>\n",
              "      <th>recuperacao_veiculos</th>\n",
              "      <th>apf</th>\n",
              "      <th>aaapai</th>\n",
              "      <th>cmp</th>\n",
              "      <th>cmba</th>\n",
              "      <th>ameaca</th>\n",
              "      <th>pessoas_desaparecidas</th>\n",
              "      <th>encontro_cadaver</th>\n",
              "      <th>encontro_ossada</th>\n",
              "      <th>pol_militares_mortos_serv</th>\n",
              "      <th>pol_civis_mortos_serv</th>\n",
              "      <th>indicador_letalidade</th>\n",
              "      <th>indicador_roubo_rua</th>\n",
              "      <th>indicador_roubo_veic</th>\n",
              "      <th>registro_ocorrencias</th>\n",
              "      <th>fase</th>\n",
              "    </tr>\n",
              "  </thead>\n",
              "  <tbody>\n",
              "    <tr>\n",
              "      <th>count</th>\n",
              "      <td>344.000000</td>\n",
              "      <td>344.000000</td>\n",
              "      <td>248.000000</td>\n",
              "      <td>344.000000</td>\n",
              "      <td>260.00000</td>\n",
              "      <td>344.000000</td>\n",
              "      <td>344.000000</td>\n",
              "      <td>200.000000</td>\n",
              "      <td>260.000000</td>\n",
              "      <td>248.000000</td>\n",
              "      <td>344.000000</td>\n",
              "      <td>344.000000</td>\n",
              "      <td>344.000000</td>\n",
              "      <td>344.000000</td>\n",
              "      <td>344.000000</td>\n",
              "      <td>344.000000</td>\n",
              "      <td>344.000000</td>\n",
              "      <td>200.000000</td>\n",
              "      <td>236.000000</td>\n",
              "      <td>200.000000</td>\n",
              "      <td>200.000000</td>\n",
              "      <td>68.000000</td>\n",
              "      <td>344.000000</td>\n",
              "      <td>344.000000</td>\n",
              "      <td>344.000000</td>\n",
              "      <td>344.000000</td>\n",
              "      <td>200.000000</td>\n",
              "      <td>200.000000</td>\n",
              "      <td>68.000000</td>\n",
              "      <td>344.000000</td>\n",
              "      <td>344.000000</td>\n",
              "      <td>248.000000</td>\n",
              "      <td>200.000000</td>\n",
              "      <td>200.000000</td>\n",
              "      <td>200.000000</td>\n",
              "      <td>344.000000</td>\n",
              "      <td>164.000000</td>\n",
              "      <td>164.000000</td>\n",
              "      <td>164.000000</td>\n",
              "      <td>344.000000</td>\n",
              "      <td>164.000000</td>\n",
              "      <td>164.000000</td>\n",
              "      <td>164.000000</td>\n",
              "      <td>164.000000</td>\n",
              "      <td>248.000000</td>\n",
              "      <td>212.000000</td>\n",
              "      <td>344.000000</td>\n",
              "      <td>212.000000</td>\n",
              "      <td>200.000000</td>\n",
              "      <td>200.00000</td>\n",
              "      <td>344.000000</td>\n",
              "      <td>344.000000</td>\n",
              "      <td>344.000000</td>\n",
              "      <td>248.000000</td>\n",
              "      <td>344.000000</td>\n",
              "    </tr>\n",
              "    <tr>\n",
              "      <th>mean</th>\n",
              "      <td>6.453488</td>\n",
              "      <td>504.555233</td>\n",
              "      <td>4.334677</td>\n",
              "      <td>15.668605</td>\n",
              "      <td>71.90000</td>\n",
              "      <td>318.267442</td>\n",
              "      <td>5492.799419</td>\n",
              "      <td>369.945000</td>\n",
              "      <td>212.119231</td>\n",
              "      <td>3410.762097</td>\n",
              "      <td>455.005814</td>\n",
              "      <td>133.284884</td>\n",
              "      <td>2448.697674</td>\n",
              "      <td>340.322674</td>\n",
              "      <td>3418.520349</td>\n",
              "      <td>659.002907</td>\n",
              "      <td>9.375000</td>\n",
              "      <td>3.550000</td>\n",
              "      <td>957.974576</td>\n",
              "      <td>11.320000</td>\n",
              "      <td>145.665000</td>\n",
              "      <td>10.808824</td>\n",
              "      <td>1211.223837</td>\n",
              "      <td>9428.119186</td>\n",
              "      <td>1674.671512</td>\n",
              "      <td>1518.921512</td>\n",
              "      <td>650.230000</td>\n",
              "      <td>1449.175000</td>\n",
              "      <td>124.808824</td>\n",
              "      <td>5994.328488</td>\n",
              "      <td>10433.177326</td>\n",
              "      <td>0.665323</td>\n",
              "      <td>133.265000</td>\n",
              "      <td>7.755000</td>\n",
              "      <td>2231.860000</td>\n",
              "      <td>1071.930233</td>\n",
              "      <td>609.237805</td>\n",
              "      <td>759.146341</td>\n",
              "      <td>186.146341</td>\n",
              "      <td>1772.238372</td>\n",
              "      <td>2319.585366</td>\n",
              "      <td>568.628049</td>\n",
              "      <td>1255.512195</td>\n",
              "      <td>83.042683</td>\n",
              "      <td>5530.326613</td>\n",
              "      <td>435.132075</td>\n",
              "      <td>66.261628</td>\n",
              "      <td>3.301887</td>\n",
              "      <td>2.085000</td>\n",
              "      <td>0.34000</td>\n",
              "      <td>577.691860</td>\n",
              "      <td>4734.738372</td>\n",
              "      <td>2448.697674</td>\n",
              "      <td>53794.161290</td>\n",
              "      <td>2.994186</td>\n",
              "    </tr>\n",
              "    <tr>\n",
              "      <th>std</th>\n",
              "      <td>3.447759</td>\n",
              "      <td>113.774481</td>\n",
              "      <td>2.755357</td>\n",
              "      <td>5.861427</td>\n",
              "      <td>36.48882</td>\n",
              "      <td>127.606645</td>\n",
              "      <td>1514.220579</td>\n",
              "      <td>94.392434</td>\n",
              "      <td>54.234700</td>\n",
              "      <td>776.156561</td>\n",
              "      <td>119.765076</td>\n",
              "      <td>44.317963</td>\n",
              "      <td>789.689559</td>\n",
              "      <td>223.855243</td>\n",
              "      <td>2459.017549</td>\n",
              "      <td>297.622342</td>\n",
              "      <td>10.564894</td>\n",
              "      <td>2.634808</td>\n",
              "      <td>624.309034</td>\n",
              "      <td>6.404113</td>\n",
              "      <td>55.392367</td>\n",
              "      <td>7.767628</td>\n",
              "      <td>800.576723</td>\n",
              "      <td>4578.013053</td>\n",
              "      <td>294.852020</td>\n",
              "      <td>971.853102</td>\n",
              "      <td>268.836273</td>\n",
              "      <td>368.638776</td>\n",
              "      <td>80.247427</td>\n",
              "      <td>1964.767779</td>\n",
              "      <td>3696.725756</td>\n",
              "      <td>0.959128</td>\n",
              "      <td>43.303821</td>\n",
              "      <td>5.089646</td>\n",
              "      <td>772.093064</td>\n",
              "      <td>643.381991</td>\n",
              "      <td>246.307700</td>\n",
              "      <td>312.871487</td>\n",
              "      <td>36.221243</td>\n",
              "      <td>656.761843</td>\n",
              "      <td>650.520866</td>\n",
              "      <td>248.040620</td>\n",
              "      <td>357.035450</td>\n",
              "      <td>62.951374</td>\n",
              "      <td>1100.752625</td>\n",
              "      <td>65.353516</td>\n",
              "      <td>34.464519</td>\n",
              "      <td>2.192922</td>\n",
              "      <td>1.761616</td>\n",
              "      <td>0.63752</td>\n",
              "      <td>104.973929</td>\n",
              "      <td>3204.054864</td>\n",
              "      <td>789.689559</td>\n",
              "      <td>11039.051992</td>\n",
              "      <td>0.076138</td>\n",
              "    </tr>\n",
              "    <tr>\n",
              "      <th>min</th>\n",
              "      <td>1.000000</td>\n",
              "      <td>272.000000</td>\n",
              "      <td>0.000000</td>\n",
              "      <td>2.000000</td>\n",
              "      <td>10.00000</td>\n",
              "      <td>122.000000</td>\n",
              "      <td>2350.000000</td>\n",
              "      <td>188.000000</td>\n",
              "      <td>111.000000</td>\n",
              "      <td>848.000000</td>\n",
              "      <td>243.000000</td>\n",
              "      <td>49.000000</td>\n",
              "      <td>1097.000000</td>\n",
              "      <td>59.000000</td>\n",
              "      <td>688.000000</td>\n",
              "      <td>281.000000</td>\n",
              "      <td>0.000000</td>\n",
              "      <td>0.000000</td>\n",
              "      <td>0.000000</td>\n",
              "      <td>1.000000</td>\n",
              "      <td>11.000000</td>\n",
              "      <td>0.000000</td>\n",
              "      <td>81.000000</td>\n",
              "      <td>3261.000000</td>\n",
              "      <td>1159.000000</td>\n",
              "      <td>322.000000</td>\n",
              "      <td>23.000000</td>\n",
              "      <td>484.000000</td>\n",
              "      <td>0.000000</td>\n",
              "      <td>2322.000000</td>\n",
              "      <td>4691.000000</td>\n",
              "      <td>0.000000</td>\n",
              "      <td>23.000000</td>\n",
              "      <td>0.000000</td>\n",
              "      <td>717.000000</td>\n",
              "      <td>80.000000</td>\n",
              "      <td>248.000000</td>\n",
              "      <td>262.000000</td>\n",
              "      <td>114.000000</td>\n",
              "      <td>729.000000</td>\n",
              "      <td>1173.000000</td>\n",
              "      <td>225.000000</td>\n",
              "      <td>628.000000</td>\n",
              "      <td>21.000000</td>\n",
              "      <td>1409.000000</td>\n",
              "      <td>236.000000</td>\n",
              "      <td>0.000000</td>\n",
              "      <td>0.000000</td>\n",
              "      <td>0.000000</td>\n",
              "      <td>0.00000</td>\n",
              "      <td>334.000000</td>\n",
              "      <td>1086.000000</td>\n",
              "      <td>1097.000000</td>\n",
              "      <td>30621.000000</td>\n",
              "      <td>2.000000</td>\n",
              "    </tr>\n",
              "    <tr>\n",
              "      <th>25%</th>\n",
              "      <td>3.000000</td>\n",
              "      <td>413.750000</td>\n",
              "      <td>2.000000</td>\n",
              "      <td>11.000000</td>\n",
              "      <td>41.75000</td>\n",
              "      <td>200.000000</td>\n",
              "      <td>4067.000000</td>\n",
              "      <td>282.000000</td>\n",
              "      <td>176.000000</td>\n",
              "      <td>3040.000000</td>\n",
              "      <td>365.750000</td>\n",
              "      <td>103.750000</td>\n",
              "      <td>1889.750000</td>\n",
              "      <td>208.250000</td>\n",
              "      <td>1053.000000</td>\n",
              "      <td>430.750000</td>\n",
              "      <td>2.000000</td>\n",
              "      <td>2.000000</td>\n",
              "      <td>549.750000</td>\n",
              "      <td>6.000000</td>\n",
              "      <td>106.000000</td>\n",
              "      <td>2.250000</td>\n",
              "      <td>811.750000</td>\n",
              "      <td>5107.750000</td>\n",
              "      <td>1430.500000</td>\n",
              "      <td>732.000000</td>\n",
              "      <td>501.000000</td>\n",
              "      <td>1297.000000</td>\n",
              "      <td>3.750000</td>\n",
              "      <td>3978.000000</td>\n",
              "      <td>6700.250000</td>\n",
              "      <td>0.000000</td>\n",
              "      <td>109.750000</td>\n",
              "      <td>4.750000</td>\n",
              "      <td>1654.500000</td>\n",
              "      <td>714.500000</td>\n",
              "      <td>360.500000</td>\n",
              "      <td>426.000000</td>\n",
              "      <td>160.000000</td>\n",
              "      <td>1276.750000</td>\n",
              "      <td>1681.000000</td>\n",
              "      <td>332.500000</td>\n",
              "      <td>950.500000</td>\n",
              "      <td>46.000000</td>\n",
              "      <td>4868.500000</td>\n",
              "      <td>390.000000</td>\n",
              "      <td>42.000000</td>\n",
              "      <td>2.000000</td>\n",
              "      <td>1.000000</td>\n",
              "      <td>0.00000</td>\n",
              "      <td>500.000000</td>\n",
              "      <td>1557.000000</td>\n",
              "      <td>1889.750000</td>\n",
              "      <td>45374.500000</td>\n",
              "      <td>3.000000</td>\n",
              "    </tr>\n",
              "    <tr>\n",
              "      <th>50%</th>\n",
              "      <td>6.000000</td>\n",
              "      <td>507.000000</td>\n",
              "      <td>4.000000</td>\n",
              "      <td>15.000000</td>\n",
              "      <td>70.00000</td>\n",
              "      <td>318.500000</td>\n",
              "      <td>5830.500000</td>\n",
              "      <td>384.000000</td>\n",
              "      <td>203.000000</td>\n",
              "      <td>3372.000000</td>\n",
              "      <td>433.500000</td>\n",
              "      <td>125.000000</td>\n",
              "      <td>2322.000000</td>\n",
              "      <td>285.500000</td>\n",
              "      <td>2788.500000</td>\n",
              "      <td>592.000000</td>\n",
              "      <td>4.500000</td>\n",
              "      <td>3.000000</td>\n",
              "      <td>717.500000</td>\n",
              "      <td>10.000000</td>\n",
              "      <td>149.500000</td>\n",
              "      <td>13.000000</td>\n",
              "      <td>1154.000000</td>\n",
              "      <td>9243.500000</td>\n",
              "      <td>1637.500000</td>\n",
              "      <td>1076.500000</td>\n",
              "      <td>717.500000</td>\n",
              "      <td>1492.500000</td>\n",
              "      <td>158.000000</td>\n",
              "      <td>6559.000000</td>\n",
              "      <td>10448.500000</td>\n",
              "      <td>0.000000</td>\n",
              "      <td>132.500000</td>\n",
              "      <td>7.000000</td>\n",
              "      <td>2170.500000</td>\n",
              "      <td>979.500000</td>\n",
              "      <td>623.000000</td>\n",
              "      <td>815.000000</td>\n",
              "      <td>184.000000</td>\n",
              "      <td>1755.000000</td>\n",
              "      <td>2424.000000</td>\n",
              "      <td>530.000000</td>\n",
              "      <td>1259.000000</td>\n",
              "      <td>58.000000</td>\n",
              "      <td>5455.000000</td>\n",
              "      <td>427.000000</td>\n",
              "      <td>60.500000</td>\n",
              "      <td>3.000000</td>\n",
              "      <td>2.000000</td>\n",
              "      <td>0.00000</td>\n",
              "      <td>590.000000</td>\n",
              "      <td>4190.000000</td>\n",
              "      <td>2322.000000</td>\n",
              "      <td>54926.500000</td>\n",
              "      <td>3.000000</td>\n",
              "    </tr>\n",
              "    <tr>\n",
              "      <th>75%</th>\n",
              "      <td>9.000000</td>\n",
              "      <td>577.250000</td>\n",
              "      <td>6.000000</td>\n",
              "      <td>19.000000</td>\n",
              "      <td>96.25000</td>\n",
              "      <td>398.250000</td>\n",
              "      <td>6582.500000</td>\n",
              "      <td>441.250000</td>\n",
              "      <td>236.250000</td>\n",
              "      <td>3733.500000</td>\n",
              "      <td>536.250000</td>\n",
              "      <td>151.250000</td>\n",
              "      <td>2778.000000</td>\n",
              "      <td>401.250000</td>\n",
              "      <td>5385.250000</td>\n",
              "      <td>784.000000</td>\n",
              "      <td>14.000000</td>\n",
              "      <td>5.000000</td>\n",
              "      <td>1306.750000</td>\n",
              "      <td>15.000000</td>\n",
              "      <td>180.500000</td>\n",
              "      <td>17.000000</td>\n",
              "      <td>1635.000000</td>\n",
              "      <td>11590.500000</td>\n",
              "      <td>1833.250000</td>\n",
              "      <td>2334.250000</td>\n",
              "      <td>860.000000</td>\n",
              "      <td>1731.250000</td>\n",
              "      <td>181.500000</td>\n",
              "      <td>7601.500000</td>\n",
              "      <td>13877.500000</td>\n",
              "      <td>1.000000</td>\n",
              "      <td>152.250000</td>\n",
              "      <td>11.000000</td>\n",
              "      <td>2880.500000</td>\n",
              "      <td>1546.000000</td>\n",
              "      <td>763.500000</td>\n",
              "      <td>1045.250000</td>\n",
              "      <td>208.000000</td>\n",
              "      <td>2202.000000</td>\n",
              "      <td>2905.500000</td>\n",
              "      <td>793.500000</td>\n",
              "      <td>1515.250000</td>\n",
              "      <td>93.000000</td>\n",
              "      <td>6261.750000</td>\n",
              "      <td>481.500000</td>\n",
              "      <td>87.000000</td>\n",
              "      <td>4.000000</td>\n",
              "      <td>3.000000</td>\n",
              "      <td>1.00000</td>\n",
              "      <td>649.000000</td>\n",
              "      <td>6872.750000</td>\n",
              "      <td>2778.000000</td>\n",
              "      <td>63292.500000</td>\n",
              "      <td>3.000000</td>\n",
              "    </tr>\n",
              "    <tr>\n",
              "      <th>max</th>\n",
              "      <td>12.000000</td>\n",
              "      <td>831.000000</td>\n",
              "      <td>21.000000</td>\n",
              "      <td>36.000000</td>\n",
              "      <td>194.00000</td>\n",
              "      <td>645.000000</td>\n",
              "      <td>9050.000000</td>\n",
              "      <td>561.000000</td>\n",
              "      <td>449.000000</td>\n",
              "      <td>6653.000000</td>\n",
              "      <td>914.000000</td>\n",
              "      <td>300.000000</td>\n",
              "      <td>5358.000000</td>\n",
              "      <td>1329.000000</td>\n",
              "      <td>9669.000000</td>\n",
              "      <td>1628.000000</td>\n",
              "      <td>54.000000</td>\n",
              "      <td>12.000000</td>\n",
              "      <td>2626.000000</td>\n",
              "      <td>37.000000</td>\n",
              "      <td>283.000000</td>\n",
              "      <td>26.000000</td>\n",
              "      <td>3661.000000</td>\n",
              "      <td>23203.000000</td>\n",
              "      <td>2630.000000</td>\n",
              "      <td>5368.000000</td>\n",
              "      <td>1036.000000</td>\n",
              "      <td>2215.000000</td>\n",
              "      <td>243.000000</td>\n",
              "      <td>9880.000000</td>\n",
              "      <td>18003.000000</td>\n",
              "      <td>5.000000</td>\n",
              "      <td>271.000000</td>\n",
              "      <td>31.000000</td>\n",
              "      <td>3627.000000</td>\n",
              "      <td>2543.000000</td>\n",
              "      <td>1160.000000</td>\n",
              "      <td>1282.000000</td>\n",
              "      <td>289.000000</td>\n",
              "      <td>3695.000000</td>\n",
              "      <td>3425.000000</td>\n",
              "      <td>1114.000000</td>\n",
              "      <td>2314.000000</td>\n",
              "      <td>350.000000</td>\n",
              "      <td>9034.000000</td>\n",
              "      <td>628.000000</td>\n",
              "      <td>217.000000</td>\n",
              "      <td>13.000000</td>\n",
              "      <td>10.000000</td>\n",
              "      <td>3.00000</td>\n",
              "      <td>848.000000</td>\n",
              "      <td>13833.000000</td>\n",
              "      <td>5358.000000</td>\n",
              "      <td>75403.000000</td>\n",
              "      <td>3.000000</td>\n",
              "    </tr>\n",
              "  </tbody>\n",
              "</table>\n",
              "</div>"
            ],
            "text/plain": [
              "              mes  hom_doloso  ...  registro_ocorrencias        fase\n",
              "count  344.000000  344.000000  ...            248.000000  344.000000\n",
              "mean     6.453488  504.555233  ...          53794.161290    2.994186\n",
              "std      3.447759  113.774481  ...          11039.051992    0.076138\n",
              "min      1.000000  272.000000  ...          30621.000000    2.000000\n",
              "25%      3.000000  413.750000  ...          45374.500000    3.000000\n",
              "50%      6.000000  507.000000  ...          54926.500000    3.000000\n",
              "75%      9.000000  577.250000  ...          63292.500000    3.000000\n",
              "max     12.000000  831.000000  ...          75403.000000    3.000000\n",
              "\n",
              "[8 rows x 55 columns]"
            ]
          },
          "metadata": {
            "tags": []
          },
          "execution_count": 42
        }
      ]
    },
    {
      "cell_type": "markdown",
      "metadata": {
        "id": "wYz5I5jbD6LU",
        "colab_type": "text"
      },
      "source": [
        "Foi realizado uma comparação entre a média e a mediana, pois casos essas duas variáveis estajam bem distantes existe a possibilidade de um índicio de Outliers (dados discrepantes).\n",
        "\n",
        "Porém é dificultoso procurar em 55 variáveis a diferença entre média e mediana, e as vezes algum dado pode passar despercebido, por isso abaixo foi plotado um gráfico de boxplot com as variáveis que serão estudadas neste relatório, para uma verificação mais precisa."
      ]
    },
    {
      "cell_type": "markdown",
      "metadata": {
        "id": "hM85LdRPK24B",
        "colab_type": "text"
      },
      "source": [
        "### **4.2 Verificação de pontos discrepantes (BoxPlot)**"
      ]
    },
    {
      "cell_type": "markdown",
      "metadata": {
        "id": "W6tSfZ55fJwY",
        "colab_type": "text"
      },
      "source": [
        "Serão plotados os gráficos boxplot das variáveis que foram estudas neste projeto, mais algumas escolhidas aleatóriamente."
      ]
    },
    {
      "cell_type": "markdown",
      "metadata": {
        "colab_type": "text",
        "id": "OJIIYS5fhlZ2"
      },
      "source": [
        "**Outliers - dados atípicos**\n",
        "\n",
        "Outliers são dados discrepantes em relação ao conjunto de dados coletados, estes atrapalham a análise e distorcem resultados.\n",
        "\n",
        "Para um melhor entendimento, imagine que uma pessoa está se pesando, e para um resultado preciso, esta se pesa 10 vezes, com o objetivo de coletar uma média de seu peso. Em nove pesagens, os resultados da balança foram de aproximadamente 60 kg, porém na décima pesagem o resultado foi 80 kg, alguma coisa está errada, não concorda?\n",
        "\n",
        "Logo, muito provavelmente ocorreu algum problema com a balança ou um problema externo relacionado ao ambiente, mas se este dado for incluído na avaliação da média da massa corporal da pessoa, o valor obtido estará um pouco discrepante, mostrando um resultado menos realista."
      ]
    },
    {
      "cell_type": "markdown",
      "metadata": {
        "id": "D3dZG5VEl4lG",
        "colab_type": "text"
      },
      "source": [
        "**Gráficos boxplot**\n",
        "\n",
        "Neste momento será realizada análises através de um gráfico boxplot.\n",
        "\n",
        "A partir de um gráfico boxplot é possível verificar a mediana, e onde provavelmente estará em relação aos limites, também é possível ver os quartis e alguns limites. Pontos fora destes limites podem ser considerados como dados discrepantes.\n",
        "\n",
        "![alt text](http://www.leg.ufpr.br/~silvia/CE701/img445.png)\n",
        "\n",
        "Foi realizado dois gráficos boxplot, com o intuito de verificar através de uma análise gráfica a distância de alguns valores em relação a média."
      ]
    },
    {
      "cell_type": "markdown",
      "metadata": {
        "id": "L0ehkbnIIYes",
        "colab_type": "text"
      },
      "source": [
        "Abaixo encontra-se os 3 primeiros gráficos boxplot."
      ]
    },
    {
      "cell_type": "code",
      "metadata": {
        "id": "SsC-SlNzM7v9",
        "colab_type": "code",
        "outputId": "ab939f98-fbfa-4c15-d613-d5e63e6ae7ba",
        "colab": {
          "base_uri": "https://localhost:8080/",
          "height": 513
        }
      },
      "source": [
        "fig, ax = plt.subplots(nrows=3,ncols=1, figsize=(14,7))\n",
        "\n",
        "sns.boxplot(x=df['apreensao_drogas'], data=df, ax=ax[0], color='#00FF00', linewidth=2.5)\n",
        "sns.boxplot(x='hom_doloso', data=df, ax=ax[1], color='#00FF00', linewidth=2.5)\n",
        "sns.boxplot(x='roubo_em_coletivo', data=df, ax=ax[2], color='#00FF00', linewidth=2.5)\n",
        "\n",
        "for axis in ['top', 'bottom', 'right', 'left']:\n",
        "    for i in range(0,3,1):\n",
        "        ax[i].spines[axis].set_linewidth(2.5)\n",
        "\n",
        "fig.tight_layout();"
      ],
      "execution_count": 0,
      "outputs": [
        {
          "output_type": "display_data",
          "data": {
            "image/png": "[encoded data removed]",
            "text/plain": [
              "<Figure size 1008x504 with 3 Axes>"
            ]
          },
          "metadata": {
            "tags": []
          }
        }
      ]
    },
    {
      "cell_type": "code",
      "metadata": {
        "id": "BtE3FWTJ5n3o",
        "colab_type": "code",
        "outputId": "f6e94988-aa1d-4869-ed4e-6a2c74488876",
        "colab": {
          "base_uri": "https://localhost:8080/",
          "height": 513
        }
      },
      "source": [
        "fig, ax = plt.subplots(nrows=3, ncols=1, figsize=(14,7))\n",
        "\n",
        "sns.boxplot(x=df['lesao_corp_culposa'],data=df, ax=ax[0], color='#00FF00', linewidth=2.5)\n",
        "sns.boxplot(x=df['roubo_veiculo'],data=df, ax=ax[1], color='#00FF00', linewidth=2.5)\n",
        "sns.boxplot(x=df['indicador_roubo_veic'],data=df, ax=ax[2], color='#00FF00', linewidth=2.5)\n",
        "\n",
        "ax[0].set_title(\"Gráfico boxplot para lesão corporal culposa\", fontsize=15)\n",
        "ax[0].set_xlabel(\"\")\n",
        "ax[1].set_title(\"Gráfico boxplot para roubo de veículos\", fontsize=15)\n",
        "ax[1].set_xlabel(\"\")\n",
        "ax[2].set_title(\"Gráfico boxplot para indicador de roubos de veículo\", fontsize=15)\n",
        "ax[2].set_xlabel(\"\")\n",
        "\n",
        "for axis in ['top', 'bottom', 'left', 'right']:\n",
        "  for i in range(0,3,1):\n",
        "      ax[i].spines[axis].set_linewidth(2.5)\n",
        "\n",
        "fig.tight_layout()"
      ],
      "execution_count": 0,
      "outputs": [
        {
          "output_type": "display_data",
          "data": {
            "image/png": "[encoded data removed]",
            "text/plain": [
              "<Figure size 1008x504 with 3 Axes>"
            ]
          },
          "metadata": {
            "tags": []
          }
        }
      ]
    },
    {
      "cell_type": "markdown",
      "metadata": {
        "id": "3QjBZ6Lthejh",
        "colab_type": "text"
      },
      "source": [
        "Observa-se a existência de vários pontos fora dos limites nos boxplots acima, mostrando que esses são outliers (pontos discrepantes), porém como dito anteriormente estes dados correspondem a 28 anos de informações, e muita coisa pode acontecer e influenciar o conjunto de dados nesse tempo."
      ]
    },
    {
      "cell_type": "markdown",
      "metadata": {
        "id": "yz1nHvzaek-R",
        "colab_type": "text"
      },
      "source": [
        "Para verificar com maior detalhes a razão de ter ocorrido estes pontos fora dos limites, foi realizado adiante um gráfico da média de cada ano de roubo_veiculo, total_roubo. E a partir destas duas variáveis foi inferido que todos esses dados não podem se considerados outliers, adiante será explicado com mais detalhes."
      ]
    },
    {
      "cell_type": "markdown",
      "metadata": {
        "id": "OP4rffaSLYsL",
        "colab_type": "text"
      },
      "source": [
        "#### **4.2.1 Análise das médias de roubos de veículo e roubos totais por ano**"
      ]
    },
    {
      "cell_type": "markdown",
      "metadata": {
        "id": "_NZ7qVMKjvc2",
        "colab_type": "text"
      },
      "source": [
        "No código abaixo foi calculado a média de cada ano para cada variável, assim esta irá se tornar uma variável tipo lista que contém 28 médias, respectiva para cada ano."
      ]
    },
    {
      "cell_type": "code",
      "metadata": {
        "id": "ohWwICNQjihl",
        "colab_type": "code",
        "colab": {}
      },
      "source": [
        "#Média de roubo de carro de cada ano \n",
        "mean_roubo_c = []\n",
        "mean_lesao_corp = list()\n",
        "mean_indicador_roubo = list()\n",
        "mean_total_roubo = list()\n",
        "for i in range(1991, 2020, 1):\n",
        "  mean_roubo_c.append( df.loc[str(i),'roubo_veiculo'].mean() )\n",
        "  mean_indicador_roubo.append( df.loc[str(i),'indicador_roubo_veic'].mean() )\n",
        "  mean_total_roubo.append( df.loc[str(i),'total_roubos'].mean() )\n"
      ],
      "execution_count": 0,
      "outputs": []
    },
    {
      "cell_type": "markdown",
      "metadata": {
        "id": "x4B4_ylvj7rc",
        "colab_type": "text"
      },
      "source": [
        "Código abaixo foi realizado para que a variável anos seja incluída no eixo x dos gráficos a seguir."
      ]
    },
    {
      "cell_type": "code",
      "metadata": {
        "id": "aKBF2H8XHedd",
        "colab_type": "code",
        "colab": {}
      },
      "source": [
        "anos=list()\n",
        "for i in range(1991,2020,1):\n",
        "           anos.append(str(i))"
      ],
      "execution_count": 0,
      "outputs": []
    },
    {
      "cell_type": "markdown",
      "metadata": {
        "id": "QuLh5YYRTYFZ",
        "colab_type": "text"
      },
      "source": [
        "Vale ressaltar que foi observado que mean_roubo_c e mean_indicador_roubo são iguais, por isso não foi plotado um gráfico para este.\n",
        "\n",
        "Já a variável lesao_corp_culp não foi estudada, a partir do resultado de roubo de veículos será concluído o mesmo para lesão corporl culposa."
      ]
    },
    {
      "cell_type": "code",
      "metadata": {
        "id": "cdgIQwDrSt2S",
        "colab_type": "code",
        "outputId": "966f0202-77a4-49df-85e0-ac7c9e4a7c65",
        "colab": {
          "base_uri": "https://localhost:8080/",
          "height": 85
        }
      },
      "source": [
        "mean_roubo_c == mean_indicador_roubo"
      ],
      "execution_count": 0,
      "outputs": [
        {
          "output_type": "execute_result",
          "data": {
            "text/plain": [
              "array([ True,  True,  True,  True,  True,  True,  True,  True,  True,\n",
              "        True,  True,  True,  True,  True,  True,  True,  True,  True,\n",
              "        True,  True,  True,  True,  True,  True,  True,  True,  True,\n",
              "        True,  True])"
            ]
          },
          "metadata": {
            "tags": []
          },
          "execution_count": 21
        }
      ]
    },
    {
      "cell_type": "markdown",
      "metadata": {
        "id": "H8A8MxZHlg_M",
        "colab_type": "text"
      },
      "source": [
        "Abaixo foi relizado um gráfico de barras para as três variáveis, deve-se ter atenção, pois os gráficos estão em proporções diferentes."
      ]
    },
    {
      "cell_type": "code",
      "metadata": {
        "id": "5bSi1QoJrp96",
        "colab_type": "code",
        "outputId": "f5dd70d7-e8b7-46e7-ee5a-460100928f49",
        "colab": {
          "base_uri": "https://localhost:8080/",
          "height": 581
        }
      },
      "source": [
        "#estilo do gráfico\n",
        "sns.set(style='whitegrid')\n",
        "\n",
        "#criando subplots\n",
        "fig, ax = plt.subplots(nrows = 2, ncols = 1, figsize=(16,8))\n",
        "\n",
        "#plotando os gráficos\n",
        "sns.barplot(x=anos, y=mean_roubo_c, ax=ax[0], color='#00BFFF', alpha=0.9, saturation=0.7)     #palette=\"Reds_d\n",
        "sns.barplot(x=anos, y=mean_total_roubo, ax=ax[1], color='#00FF00', alpha=0.9, saturation=0.7)\n",
        "\n",
        "\n",
        "#configurações \n",
        "ax[0].tick_params(axis='both', labelsize=12)\n",
        "ax[1].tick_params(axis='both', labelsize=12)\n",
        "\n",
        "ax[0].set_title('Gráfico de barras para média de carros roubados por ano', fontsize=15)\n",
        "ax[1].set_title('Gráfico de barras para total de roubo', fontsize=15)\n",
        "\n",
        "for axis in ['right', 'bottom', 'left', 'top']:\n",
        "  for i in range(0,2):\n",
        "    ax[i].spines[axis].set_linewidth(3)\n",
        "                                 \n",
        "fig.tight_layout();"
      ],
      "execution_count": 0,
      "outputs": [
        {
          "output_type": "display_data",
          "data": {
            "image/png": "[encoded data removed]",
            "text/plain": [
              "<Figure size 1152x576 with 2 Axes>"
            ]
          },
          "metadata": {
            "tags": []
          }
        }
      ]
    },
    {
      "cell_type": "markdown",
      "metadata": {
        "id": "qodeXEqU0sNA",
        "colab_type": "text"
      },
      "source": [
        "Nota-se que existem semelhanças entres os gráficos de barras.\n",
        "\n",
        "O gráfico total de roubo, mostra o total médio de roubo que ocorreram em determinado ano. \n",
        "\n",
        "Deve-se atentar que à algumas situações, pode ser que em um exato ano houve um aumento de roubo de veículos, porém outros tipos de roubos diminuíram, logo não haverá o aumento da quantidade de roubos totais neste respectivo ano. Contudo se verificado nos gráficos, percebe-se que essa situação não ocorre, e se ocorrer a dimunuição dos roubos totais é muito baixa.\n",
        "\n",
        "Se observado com atenção entre o ano de 1997 e 2003, pode-se notar que houve um aumento progressivo em cada ano nos dois gráficos, em 2010 e 2011 houve uma redução das barras dos dois gráficos. Já para o ano de 2016 à 2018, teve uma grande elevação dos roubos nos dois gráficos. \n",
        "\n",
        "O padrão dos dois gráficos não é identico, porém em bastantes intervalos ele se comporta de maneira semelhante, quando há um aumento no roubo de carros existe um aumento no roubos totais e quando há uma diminuição nos roubos totais há uma diminuição nos roubos totais.\n",
        "\n",
        "A partir disto pode ser tirado algumas hipótses básicas. \n",
        "\n",
        "* Os roubos de carro tem uma grande influência nos roubos totais de da cidade do Rio de Janeiro;\n",
        "* Existe uma similaridade entre as variáveis, o que mostra que o data set apresenta um bom conjunto de dados sem informações distorcidas ou erradas. "
      ]
    },
    {
      "cell_type": "markdown",
      "metadata": {
        "id": "hf-4roUqi22Y",
        "colab_type": "text"
      },
      "source": [
        "Claramente é necessário uma análise mais completa para afirmar isto com certeza, porém para o estudo deste projeto essas hipóteses são confiáveis."
      ]
    },
    {
      "cell_type": "markdown",
      "metadata": {
        "id": "HmMiz_0yNhdJ",
        "colab_type": "text"
      },
      "source": [
        "Logo a partir destas avaliações é possível afirmar que os pontos discrepantes resultantes no boxplot de roubos_veículos na verdade não podem ser considerados Outliers.\n",
        "\n",
        "Aqueles pontos fora dos limites ocorreram porque está variável apresenta informações de um tempo total de 28 anos, logo não pode-se dizer que o grande aumento dos roubos de 2017 e 2018 são falsos, eles são reais, e devem ser análisados, não podendo retira-los.\n",
        "\n",
        "Contudo em caso de um projeto futuro, onde seja feita uma análise mais rigorasa, ou utilizada um modelo de machine learning, ou deep learling, deve-se atentar para que não seja realizada uma análise completa em cima de todos os 28 anos, mas se deve separar este perído em intervalos de alguns anos, exemplo 4 blocos de 6 anos cada, isso deve ser feito pela razão de estar sendo avaliado um longo período de tempo."
      ]
    },
    {
      "cell_type": "markdown",
      "metadata": {
        "id": "8Q1UKDaja2WG",
        "colab_type": "text"
      },
      "source": [
        "### **4.3 Análises sobre os veículos (furto, roubo e recuperado)**"
      ]
    },
    {
      "cell_type": "markdown",
      "metadata": {
        "id": "7EUUbk0VaYKe",
        "colab_type": "text"
      },
      "source": [
        "As vezes não sabemos a diferença entre furto e roubo, abaixo é citada esta diferença.\n",
        "\n",
        "O furto possui como característica de não haver um episódio de violência, luta, agressão e entre outras. Já o roubo ocorre algum tipo de violência.[(AVIZ. R)](https://www.diferenca.com/furto-e-roubo/)"
      ]
    },
    {
      "cell_type": "markdown",
      "metadata": {
        "id": "QInDZ7KMPets",
        "colab_type": "text"
      },
      "source": [
        "Abaixo estão as médias de roubo_veiculo, furto_veiculos, recuperacao_veiculos.\n",
        "\n"
      ]
    },
    {
      "cell_type": "code",
      "metadata": {
        "id": "a3e3GOsTeWs2",
        "colab_type": "code",
        "outputId": "3d419087-40c4-4756-acc8-0a1e42c65940",
        "colab": {
          "base_uri": "https://localhost:8080/",
          "height": 68
        }
      },
      "source": [
        "print('média do roubos de veículos\\t', round(df['roubo_veiculo'].mean(),3), '\\nmédia do furto de veículos\\t', round(df['furto_veiculos'].mean(), 3), \n",
        "      '\\nmédia de recuperação de veículos', round(df['recuperacao_veiculos'].mean(), 3) )"
      ],
      "execution_count": 0,
      "outputs": [
        {
          "output_type": "stream",
          "text": [
            "média do roubos de veículos\t 2448.698 \n",
            "média do furto de veículos\t 1674.672 \n",
            "média de recuperação de veículos 1772.238\n"
          ],
          "name": "stdout"
        }
      ]
    },
    {
      "cell_type": "markdown",
      "metadata": {
        "id": "AZmsBr_Hz_Ei",
        "colab_type": "text"
      },
      "source": [
        "De acordo com o resultado acima as médias são:\n",
        "* média do roubos de veículos\t= 2448.698 \n",
        "* média do furto de veículos\t= 1674.672 \n",
        "* média de recuperação de veículos = 1772.238"
      ]
    },
    {
      "cell_type": "code",
      "metadata": {
        "id": "j1KS6rw_f2eT",
        "colab_type": "code",
        "outputId": "47d40820-8511-447d-ccb4-a4320a9e6f31",
        "colab": {
          "base_uri": "https://localhost:8080/",
          "height": 34
        }
      },
      "source": [
        "print(\"percentual de veículos recuperados de roubo e furto no total de todos os anos avaliados = \",\n",
        "      round(df['recuperacao_veiculos'].sum() / ( df['furto_veiculos'].sum() + df['roubo_veiculo'].sum()),4) )"
      ],
      "execution_count": 0,
      "outputs": [
        {
          "output_type": "stream",
          "text": [
            "percentual de veíuculos recuperados de roubo e furto no total de todos os anos avaliados =  0.4298\n"
          ],
          "name": "stdout"
        }
      ]
    },
    {
      "cell_type": "markdown",
      "metadata": {
        "id": "wrQvLaOBFHPJ",
        "colab_type": "text"
      },
      "source": [
        "Os resultados mostrados acima são a respeito de todos os anos de 1991 até 2019, este resultado é interessante, pois apresenta o percentual de veículos recuperados em 28 anos. \n",
        "\n",
        "Porém seria mais interessante olhar de uma maneira mais pontual para o percentual de carros recuperados a cada ano, para assim poder ser realizado uma melhor conclusão dos dados. A partir disto foi realizado um gráfico de barras, que será mostrado adiante."
      ]
    },
    {
      "cell_type": "markdown",
      "metadata": {
        "id": "RE-5bRh4GD5z",
        "colab_type": "text"
      },
      "source": [
        "Abaixo utilizado uma estrutura de repetição **for** para que seja atribuído a variável quant as médias de cada ano."
      ]
    },
    {
      "cell_type": "code",
      "metadata": {
        "id": "IOL-mDxT02wD",
        "colab_type": "code",
        "colab": {}
      },
      "source": [
        "quant=list()\n",
        "for i in range(1991,2020,1):\n",
        "          quant.append((df.loc[str(i),'recuperacao_veiculos']/ ( (df.loc[[str(i)],'furto_veiculos']) + (df.loc[[str(i)],'roubo_veiculo']) )).mean())"
      ],
      "execution_count": 0,
      "outputs": []
    },
    {
      "cell_type": "code",
      "metadata": {
        "id": "fZwxqw9zHvPj",
        "colab_type": "code",
        "outputId": "5be4f84f-5642-4309-a25e-074b86bb8c73",
        "colab": {
          "base_uri": "https://localhost:8080/",
          "height": 585
        }
      },
      "source": [
        "fig, ax = plt.subplots(figsize=(14,8))\n",
        "\n",
        "plt.style.use('seaborn')\n",
        "ax.bar(x=anos ,height=quant, color='blue', edgecolor='black', alpha=0.7)\n",
        "\n",
        "#título\n",
        "ax.set_title('Percentual médio de recuperação de veículos na cidade do Rio de Janeiro', fontsize=18)\n",
        "\n",
        "#configurações \n",
        "ax.set_xlabel('Anos', fontsize=18)\n",
        "ax.set_ylabel('Percentual recuperado', fontsize=18)\n",
        "ax.set_xticklabels(anos)\n",
        "ax.tick_params(axis='x',rotation=60, labelsize=15)\n",
        "ax.tick_params(axis='y', labelsize=15 )\n",
        "\n",
        "fig.tight_layout();"
      ],
      "execution_count": 0,
      "outputs": [
        {
          "output_type": "display_data",
          "data": {
            "image/png": "[encoded data removed]",
            "text/plain": [
              "<Figure size 1008x576 with 1 Axes>"
            ]
          },
          "metadata": {
            "tags": []
          }
        }
      ]
    },
    {
      "cell_type": "markdown",
      "metadata": {
        "id": "AKiQJe0ZoPhf",
        "colab_type": "text"
      },
      "source": [
        "Através do gráfico de percentual médio de recuperação de veículos, nota-se algumas informações importantes que podem ser retiradas deste.\n",
        "\n",
        "Entre o ano de 1991 e 2009 é possível observar que a recuperação de carro de cada ano nunca foi maiores que 40%, mostrando alguma ineficácia no sistema de investigação da cidade de Rio de Janeiro.\n",
        "\n",
        "Porém a partir do ano 2000, este percentual apresentou sempre valores maior que 40%, mostrando haver alguma melhora em algum sistema de investigação, talvez a tecnologia ou algum treinamento diferente.\n",
        "\n",
        "O maior percentual de recuperação de carro foi no ano de 2002 e 2003, sendo aproximadamente 56%. \n",
        "\n",
        "Vale também ressaltar que mesmo com uma pequena melhoria na recuperação de veículos a partir do ano 2000, nunca foi recuperado mais de 60% dos veículos roubados e furtados do Rio de Janeiro, isso mostra que infelismente a partir do ano de 2000 o sistema de investigação do Rio de Janeiro esteve estagnado oscilando entre 42% e 56%."
      ]
    },
    {
      "cell_type": "markdown",
      "metadata": {
        "id": "TR9rcdYlZ93G",
        "colab_type": "text"
      },
      "source": [
        "### **4.4 Algumas informações sobre homicídio doloso**"
      ]
    },
    {
      "cell_type": "markdown",
      "metadata": {
        "id": "VASeM_i8sQE3",
        "colab_type": "text"
      },
      "source": [
        "Abaixo está mais algumas informações sobre o máximo e mínimo de homícideos dolosos no estado do Rio de Janeiro."
      ]
    },
    {
      "cell_type": "code",
      "metadata": {
        "id": "wf_BBcgmHwG5",
        "colab_type": "code",
        "outputId": "48d84ed1-146f-42fc-b247-53c80af5dcf2",
        "colab": {
          "base_uri": "https://localhost:8080/",
          "height": 34
        }
      },
      "source": [
        "df.hom_doloso.max()"
      ],
      "execution_count": 0,
      "outputs": [
        {
          "output_type": "execute_result",
          "data": {
            "text/plain": [
              "831"
            ]
          },
          "metadata": {
            "tags": []
          },
          "execution_count": 180
        }
      ]
    },
    {
      "cell_type": "code",
      "metadata": {
        "id": "Q8cJnQfcH0vu",
        "colab_type": "code",
        "outputId": "c26f10b1-d33d-4fe7-988c-84b700495c92",
        "colab": {
          "base_uri": "https://localhost:8080/",
          "height": 34
        }
      },
      "source": [
        "df.hom_doloso.min()"
      ],
      "execution_count": 0,
      "outputs": [
        {
          "output_type": "execute_result",
          "data": {
            "text/plain": [
              "272"
            ]
          },
          "metadata": {
            "tags": []
          },
          "execution_count": 181
        }
      ]
    },
    {
      "cell_type": "markdown",
      "metadata": {
        "id": "7WK0NBQZASKC",
        "colab_type": "text"
      },
      "source": [
        "#### **4.4.1 Visualização de Dados**\n",
        "\n",
        "Neste capítulo foi plotado o histograma de uma das variáveis do data set, assim para verificar como é a distribuição desta variável.\n"
      ]
    },
    {
      "cell_type": "markdown",
      "metadata": {
        "id": "9CPrKMoP2BMD",
        "colab_type": "text"
      },
      "source": [
        "Abaixo é realizado o gráfico de histograma da variável homícideos dolosos.\n",
        "\n",
        "Isto foi realizado com intuito de saber o tipo de distribuição de uma variável, o que é muito importante, pois sabendo como é a distribuição desta é possível realizar uma análise corretamente sobre os dataset."
      ]
    },
    {
      "cell_type": "code",
      "metadata": {
        "id": "7tWQH-TflCJn",
        "colab_type": "code",
        "outputId": "639b7ae5-53e4-4def-d116-a95239a88fc3",
        "colab": {
          "base_uri": "https://localhost:8080/",
          "height": 441
        }
      },
      "source": [
        "fig, ax = plt.subplots(figsize=(10,6))\n",
        "\n",
        "sns.distplot(a=df['hom_doloso'], bins=11, ax=ax)\n",
        "\n",
        "fig.tight_layout();"
      ],
      "execution_count": 0,
      "outputs": [
        {
          "output_type": "display_data",
          "data": {
            "image/png": "[encoded data removed]",
            "text/plain": [
              "<Figure size 720x432 with 1 Axes>"
            ]
          },
          "metadata": {
            "tags": []
          }
        }
      ]
    },
    {
      "cell_type": "markdown",
      "metadata": {
        "id": "48FdrPOp20UA",
        "colab_type": "text"
      },
      "source": [
        "O gráfico elaborado possuí 11 bins, que são 11 caixas que são divididas os valores, para que assim possa ser contada a frequência com estes aparecem."
      ]
    },
    {
      "cell_type": "code",
      "metadata": {
        "id": "oj4dKBhN2AB-",
        "colab_type": "code",
        "outputId": "35737e52-7cbd-478a-dc51-d7f9673261d8",
        "colab": {
          "base_uri": "https://localhost:8080/",
          "height": 585
        }
      },
      "source": [
        "fig, ax = plt.subplots(figsize=(14,8))\n",
        "\n",
        "sns.kdeplot(data=df['hom_doloso'], ax=ax, shade=True)\n",
        "\n",
        "fig.tight_layout();"
      ],
      "execution_count": 0,
      "outputs": [
        {
          "output_type": "display_data",
          "data": {
            "image/png": "[encoded data removed]",
            "text/plain": [
              "<Figure size 1008x576 with 1 Axes>"
            ]
          },
          "metadata": {
            "tags": []
          }
        }
      ]
    },
    {
      "cell_type": "markdown",
      "metadata": {
        "id": "hoaQ_dvb3ITT",
        "colab_type": "text"
      },
      "source": [
        "Este gráfico é o mesmo que o anterior, porém este não apresenta as caixas."
      ]
    },
    {
      "cell_type": "markdown",
      "metadata": {
        "id": "dapPFBny3Pen",
        "colab_type": "text"
      },
      "source": [
        "Através dos gráficos é possível notar que a variável homícideos dolosos possuí uma distribuição muito semelhante a uma normal, pode ser comparada com a imagem abaixo."
      ]
    },
    {
      "cell_type": "markdown",
      "metadata": {
        "id": "cHAoMmFs303S",
        "colab_type": "text"
      },
      "source": [
        "![alt text](https://www.inf.ufsc.br/~andre.zibetti/probabilidade/figures/normal.PNG)"
      ]
    },
    {
      "cell_type": "markdown",
      "metadata": {
        "id": "bFMOSct5ROwE",
        "colab_type": "text"
      },
      "source": [
        "### **4.5 Gráfico de dispersão para roubo em coletivo**\n",
        "\n"
      ]
    },
    {
      "cell_type": "markdown",
      "metadata": {
        "id": "lCQlK02WCv3u",
        "colab_type": "text"
      },
      "source": [
        "Foi plotado abaixo um gráfico de dispersão, cada ponto representa quantidade roubo coletivo em um deterimanado ano. "
      ]
    },
    {
      "cell_type": "code",
      "metadata": {
        "id": "u-B7lT3lcXt9",
        "colab_type": "code",
        "outputId": "d58c026b-a4cb-4cb7-940f-d09a71dc34a5",
        "colab": {
          "base_uri": "https://localhost:8080/",
          "height": 369
        }
      },
      "source": [
        "fig, ax = plt.subplots(figsize=(10,5))\n",
        "sns.set_style(\"darkgrid\")\n",
        "\n",
        "sns.scatterplot(x='vano', y='roubo_em_coletivo',ax=ax, data=df_sub)\n",
        "ax.set_xlabel('Anos', fontsize=18)\n",
        "ax.set_ylabel('roubo em coletico', fontsize=18)\n",
        "ax.tick_params(labelsize=15)\n",
        "\n",
        "\n",
        "\n",
        "\n",
        "fig.tight_layout();"
      ],
      "execution_count": 0,
      "outputs": [
        {
          "output_type": "display_data",
          "data": {
            "image/png": "[encoded data removed]",
            "text/plain": [
              "<Figure size 720x360 with 1 Axes>"
            ]
          },
          "metadata": {
            "tags": []
          }
        }
      ]
    },
    {
      "cell_type": "markdown",
      "metadata": {
        "id": "5-lwZXwDI0RE",
        "colab_type": "text"
      },
      "source": [
        "Existem vários pontos em determinados anos, pois cada ponto representa um dos meses do respectivo ano.\n",
        "\n",
        "Pode-se notar através do gráfico de dispersão que a partir do ano de 2015, houve um grande aumento em alguns meses no número de roubo em coletivo em média por mês.\n",
        "\n",
        "Entre o ano de 1991 e 2015 esses roubos oscilaram entre 100 e 1000, porém após 2015, tiveram um pico de acima de 1600 roubos. Também vale comentar que existe um pico de 1000 roubos coletivos em dos meses ano de 2007.  "
      ]
    },
    {
      "cell_type": "markdown",
      "metadata": {
        "id": "LCsiXvM3BcsO",
        "colab_type": "text"
      },
      "source": [
        "# 5. Conclusão\n",
        "\n",
        "Neste projeto foi realizado uma análise pequena em relação ao tamanho do conjunto dados disponíveis, devido a grande quantidade de variáveis este projeto futuramente poderá ser explorado com maior detalhes, porém através deste foi possível tirar algumas hipóteses e insights.\n",
        "\n",
        "Foi possível verificar a existência de variáveis que tiveram início tardio no data set, o que poderia ser confundido com a ausência de dados. Foram realizados boxplot para verificação de pontos discrepantes, e explicado a razão dos pontos fora dos limites não serem outliers. Além disso teve-se como resultado que seria errado realizar uma análise sobre todo o conjunto, pois as informações do data set são de um período de 28 anos, concluíndo que para uma análise mais rigorasa fosse tomada a decição de separar estes conjuntos. \n",
        "\n",
        "Além disto se observado os gráficos de barra de roubos, e também o de dispersão em coletivo, observa-se que a partir do ano de 2016 houve um aumento signifativo em roubos na cidade do Rio de Janeiro.\n",
        "\n",
        "Este data set da [inspdados.](http://www.ispdados.rj.gov.br/estatistica.html) apresenta varias oportunidades para ser estudado detalhadamente, abrindo portas para um futuro projeto.\n",
        "\n",
        "\n",
        "\n"
      ]
    }
  ]
}